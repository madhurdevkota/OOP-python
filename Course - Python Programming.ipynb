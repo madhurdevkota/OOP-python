{
 "cells": [
  {
   "cell_type": "markdown",
   "id": "technical-entrepreneur",
   "metadata": {},
   "source": [
    "<div id= 'main'>\n",
    "    <h1><p style= 'text-align:center;'>Course - Python Programming</p></h1>\n",
    "    <h3><p style= 'text-align:center;'><a href= 'https://app.datacamp.com/learn/skill-tracks/python-programming'>DataCamp - Python Programming</p></h3>    \n",
    "</div>"
   ]
  },
  {
   "cell_type": "markdown",
   "id": "inappropriate-electric",
   "metadata": {},
   "source": [
    "<h1>Courses</h1>\n",
    "\n",
    "<div class= 'alert alert-block alert-info' style= 'margin-top: 20px'>\n",
    "    <ol>\n",
    "        <li><a href= '#course1'>Object-Oriented Programming in Python</a></li>\n",
    "        <li><a href= '#course2'>Writing Functions in Python</a></li>\n",
    "        <li><a href= '#course3'> Software Engineering for Data Scientists</a></li>\n",
    "        <li><a href= '#course4'>Data Wrangling With Python</a></li>\n",
    "        <li><a href= '#course5'>Python Data Science Toolboxn</a></li>\n",
    "        <li><a href= '#course6'>Writing Efficient Code with pandas</a></li>\n",
    "        <li><a href= '#course7'>Inferential Statistics</a></li>\n",
    "        <li><a href= '#course8'>Bootstrapping in Statistics</a></li>\n",
    "        <li><a href= '#course9'>Joining Data with pandas</a></li>\n",
    "        <li><a href= '#course10'>Working With Unstructured Data</a></li>      \n",
    "        <li><a href= '#course11'>JSON data</a></li>        \n",
    "    </ol>\n",
    "</div>\n",
    "<br>\n",
    "<hr>"
   ]
  },
  {
   "attachments": {},
   "cell_type": "markdown",
   "id": "aggressive-current",
   "metadata": {},
   "source": [
    "<html>\n",
    "\n",
    "<h2>Chapters - Table of Content</h2>\n",
    "\n",
    "\n",
    "<div id= 'toc' class= 'alert alert-block alert-info' style= 'margin-top: 20px'>\n",
    "    <ol>\n",
    "        <li><a href= '#course1'>Course 1 - Object-Oriented Programming in Python</a><br><br>\n",
    "            <ol>\n",
    "                <li><a href= '#1.1' style= 'text-decoration: none;'>Chapter 1.1 - OOP Fundamentals</a></li>\n",
    "                    <ol>\n",
    "                        <li><a href= '#1.1.1'>1.1.1 - Class Anatomy</a></li>\n",
    "                        <li><a href= '#1.1.2'>1.1.2 - the __init__ constructor</a></li>\n",
    "                    </ol>\n",
    "                <li><a href = '#1.2'>Chapter 1.2 - Inheritance & Polymorphism</a></li>\n",
    "                    <ol>\n",
    "                        <li><a href= '#1.2.1'>1.2.1 - Instance and class-level attributes</a></li>\n",
    "                        <li><a href= '#1.2.2'>1.2.2 - Regular methods, Class methods & Static methods</a></li>\n",
    "                        <li><a href= '#1.2.3'>1.2.3 - Class Inheritance</a></li>\n",
    "                        <li><a href= '#1.2.4'>1.2.4 - Customizing functionality via Inheritance</a></li>\n",
    "                        <li><a href= '#1.2.4'>1.2.5 - Property Decorators - Getters, Setters, and Deleters</a></li>\n",
    "                    </ol>\n",
    "                <li><a href = '#1.3'>Chapter 1.3 - Integrating with Standard Python</a></li>\n",
    "                    <ol>\n",
    "                        <li><a href = '#1.3.1'>1.3.1 - Operator overloading: `Comparison`</a></li>\n",
    "                        <li><a href = '#1.3.2'>1.3.2 - Operator overloading: string representation --> `__str__` & `__repr__`</a></li>\n",
    "                        <li><a href = '#1.3.3'>1.3.3 - Exceptions</a></li>\n",
    "                    </ol>        \n",
    "                <li><a href = '#1.4'>Chapter 1.4 - Best Practices of Class Design</a></li>\n",
    "                    <ol>\n",
    "                        <li><a href = '#1.4.1'>1.4.1 - Designing for inheritance & polymorphism</a></li>\n",
    "                        <li><a href = '#1.4.2'>1.4.2 - Managing data access: private attributes</a></li>\n",
    "                        <li><a href = '#1.4.3'>1.4.3 - Properties</a></li>\n",
    "                    </ol>        \n",
    "            </ol>\n",
    "        </li><p><hr><p> <!-- course 1 finnito -->\n",
    "        <li><a href='#course2'>Course 2 - Writing Functions in Python</a><br><br>\n",
    "            <ol>\n",
    "                <li><a href = '#2.1'>Chapter 2.1 - Best Practices on writing functions</a></li>\n",
    "                    <ol><li><a href = '#2.1.1'>2.1.1 - Docstrings</a></li>\n",
    "                        <li><a href = '#2.1.2'>2.1.2 - Pass by assignment</a></li>\n",
    "                    </ol>\n",
    "                <li><a href = '#2.2'>Chapter 2.2 - Context Managers</a></li>\n",
    "                    <ol>\n",
    "                        <li><a href = '#2.2.1'>2.2.1 - Using Context Manager</a></li>\n",
    "                        <li><a href = '#2.2.2'>2.2.2 - Writing context managers</a></li>\n",
    "                        <li><a href = '#2.2.3'>2.2.3 - Advanced topics</a></li>\n",
    "                            <ol>\n",
    "                                <li><a href = '#2.2.3.1'>2.2.3.1 - Advanced topics: Nested Contexts</a></li>\n",
    "                                <li><a href = '#2.2.3.2'>2.2.3.2 - Advanced topics: Handling Errors in the Context Manager</a></li>\n",
    "                            </ol>  \n",
    "                    </ol>\n",
    "                <li><a href = '#2.3'>Chapter 2.3 - Scope and Closures</a></li>\n",
    "                    <ol>\n",
    "                        <li><a href = '#2.3.1'>2.3.1 - Functions are objects</a></li>\n",
    "                        <li><a href = '#2.3.2'>2.3.2 - Scope</a></li>                        \n",
    "                        <li><a href = '#2.3.3'>2.3.3 - Closures</a></li>                        \n",
    "                    </ol>\n",
    "                <li><a href = '#2.4'>Chapter 2.4 - @Decorators</a></li>\n",
    "                    <ol>\n",
    "                        <li><a href = '#2.4.1'>2.4.1 - Under the hood and making of a Decorator</a></li>\n",
    "                        <li><a href = '#2.4.2'>2.4.2 - Use cases for Decorator</a></li>                        \n",
    "                        <li><a href = '#2.4.3'>2.4.3 - Decorators and metadata</a></li>                        \n",
    "                        <li><a href = '#2.4.4'>2.4.4 - Decorators that take Arguments</a></li>                        \n",
    "                        <li><a href = '#2.4.5'>2.4.5 - Decorators real-world examples</a></li>                        \n",
    "                    </ol>\n",
    "                <li><a href = '#2.5'>Chapter 2.5 - Type Hints & Annotations</a></li>\n",
    "                    <ol>\n",
    "                        <li><a href = '#2.5.1'>2.5.1 - Type Hinting in assignments</a></li>\n",
    "                        <li><a href = '#2.5.2'>2.5.2 - Annotations in Function</a></li>                        \n",
    "                        <li><a href = '#2.5.3'>2.5.3 - Custom Types</a></li>                        \n",
    "                        <li><a href = '#2.5.4'>2.5.4 - Optional & Any Type</a></li>                        \n",
    "                        <li><a href = '#2.5.5'>2.5.5 - Sequence Type</a></li>                        \n",
    "                        <li><a href = '#2.5.6'>2.5.6 - Callable Type</a></li>                        \n",
    "                    </ol>\n",
    "            </ol>\n",
    "        </li><p><hr><p> <!-- course 2 finnito -->\n",
    "        <li><a href='#course3'>Course 3 - Software Engineering for Data Scientists</a><br><br>\n",
    "            <ol>\n",
    "                <li><a href = '#3.1'>Chapter 3.1 - Common data problems</a></li>\n",
    "                    <ol>\n",
    "                        <li><a href = '#3.1.1'>3.1.1 - Data type Constraints</a></li>\n",
    "                        <li><a href = '#3.1.2'>3.1.2 - Data range constraints</a></li>   \n",
    "                        <li><a href = '#3.1.3'>3.1.3 - Uniqueness constraints</a></li>\n",
    "                    </ol>\n",
    "                <li><a href = '#3.2'>Chapter 3.2 - Text and categorical data problems</a></li>\n",
    "                    <ol>\n",
    "                        <li><a href = '#3.2.1'>3.2.1 - Membership constraints</a></li>\n",
    "                        <li><a href = '#3.2.2'>3.2.2 - Categorical variables - Remapping categories</a></li>\n",
    "                    </ol>\n",
    "                <li><a href = '#3.3'>Chapter 3.3 - Advanced data problems</a></li>\n",
    "                    <ol>\n",
    "                        <li><a href = '#3.3.1'>3.3.1 - Completeness</a></li>\n",
    "                    </ol>\n",
    "                <li><a href = '#3.4'>Chapter 3.4 - Record linkage</a></li>\n",
    "                    <ol>\n",
    "                        <li><a href = '#3.4.1'>3.4.1 - Comparing strings</a></li>\n",
    "                        <li><a href = '#3.4.2'>3.4.2 - Generating pairs</a></li>                        \n",
    "                    </ol>\n",
    "            </ol>\n",
    "        </li><p><hr><p> <!-- course 3 finnito -->   \n",
    "        <li><a href='#course4'>Course 4 - Data Wrangling With Python</a><br><br>\n",
    "            <ol>\n",
    "                <li><a href = '#4.1'>Chapter 4.1 - Rolling Standard Deviation</a></li>\n",
    "                <li><a href = '#4.2'>Chapter 4.2 - Continuous Feature Outlier Identification</a></li>\n",
    "                <li><a href = '#4.3'>Chapter 4.3 - Log Transformation for Outliers</a></li>\n",
    "                <li><a href = '#4.4'>Chapter 4.4 - Handle Missing Data (fill, drop, interpolate, replace)</a></li>\n",
    "                    <ol>\n",
    "                        <li><a href = '#4.4.1'>Chapter 4.4.1 - Working with Date</a></li>\n",
    "                        <li><a href = '#4.4.2'>Chapter 4.4.2 - fillna()</a></li>\n",
    "                        <li><a href = '#4.4.3'>Chapter 4.4.3 - interpolate()</a></li>\n",
    "                        <li><a href = '#4.4.4'>Chapter 4.4.4 - dropna()</a></li>\n",
    "                        <li><a href = '#4.4.5'>Chapter 4.4.5 - Reindex missing date index</a></li>\n",
    "                        <li><a href = '#4.4.6'>Chapter 4.4.6 - replace()</a></li>\n",
    "                        <li><a href = '#4.4.7'>Chapter 4.4.7 - regex in replace dictionary</a></li>\n",
    "                        <li><a href = '#4.4.8'>Chapter 4.4.8 - replace() the list of values with another list of values for different colms</a></li>\n",
    "                    </ol>\n",
    "                <li><a href = '#4.5'>Chapter 4.5 - lambda, list comprehension, map( ), filter( ), reduce( ) - function and nuances</a></li>\n",
    "                    <ol>\n",
    "                        <li><a href = '#4.5.1'>Chapter 4.5.1 - lambda</a></li>\n",
    "                        <li><a href = '#4.5.2'>Chapter 4.5.2 - map( func, iterables )</a></li>\n",
    "                        <li><a href = '#4.5.3'>Chapter 4.5.3 - filter( )</a></li>\n",
    "                        <li><a href = '#4.5.3'>Chapter 4.5.4 - reduce( )</a></li>                        \n",
    "                    </ol>\n",
    "                <li><a href = '#4.6'>Chapter 4.6 - Case Study: Data Analysis of Uber trip data</a></li>\n",
    "                <ol>\n",
    "                        <li><a href = '#4.6.1'>Chapter 4.6.1 - Working with Date</a></li>\n",
    "                        <li><a href = '#4.6.2'>Chapter 4.6.2 - fillna()</a></li>\n",
    "                        <li><a href = '#4.6.3'>Chapter 4.6.3 - interpolate()</a></li>\n",
    "                </ol>\n",
    "            </ol>\n",
    "        </li><p><hr><p> <!-- course 4 finnito -->\n",
    "       <li><a href='#course5'>Course 5 - Python Data Science Toolbox</a><br><br>\n",
    "            <ol>\n",
    "                <li><a href = '#5.1'>Chapter 5.1 - Writing your own func: Multiple parameters & multiple return values</a></li>\n",
    "                <li><a href = '#5.2'>Chapter 5.2 - Default arguments, variable-length arguments</a></li>\n",
    "                    <ol>\n",
    "                        <li><a href = '#5.2.1'>5.2.1 - Scope and user-defined functions </a></li>\n",
    "                        <li><a href = '#5.2.2'>5.2.2 - Nested funcs</a></li>\n",
    "                        <li><a href = '#5.2.3'>5.2.3 - Default and flexible arguments</a></li>\n",
    "                            <ol>\n",
    "                                <li><a href = '#5.2.3.1'>5.2.3.1 - Funcs with variable length arguments *args</a></li>\n",
    "                                <li><a href = '#5.2.3.2'>5.2.3.2 - Funcs with variable-length keyword arguments *kwargs</a></li>\n",
    "                            </ol>\n",
    "                    </ol>\n",
    "                <li><a href = '#5.3'>Chapter 5.3 - Error-handling</a></li>\n",
    "                    <ol>\n",
    "                        <li><a href = '#5.3.1'>5.3.1 - Error-handling with try-except</a></li>\n",
    "                        <li><a href = '#5.3.2'>5.3.2 - Error-handling by raising an error</a></li>\n",
    "                        <li><a href = '#5.3.3'>5.3.3 - Combining - lamdba | filter() | error-handling</a></li>                        \n",
    "                    </ol>\n",
    "                <li><a href = '#5.4'>Chapter 5.4 - Using iterators</a></li>\n",
    "                    <ol>\n",
    "                        <li><a href = '#5.4.1'>5.4.1 - iterator & iterable</a></li>\n",
    "                        <li><a href = '#5.4.2'>5.4.2 - iterator ++ : enumerate(a_list) & zip(a_list)</a></li>\n",
    "                        <li><a href = '#5.4.3'>5.4.3 - Using iterators to load large files into memory</a></li>\n",
    "                    </ol>\n",
    "                <li><a href = '#5.5'>Chapter 5.5 - List comprehensions & Generators</a></li>\n",
    "                    <ol>\n",
    "                        <li><a href = '#5.5.1'>5.5.1 - List comprehensions</a></li>\n",
    "                        <li><a href = '#5.5.2'>5.5.2 - Advanced comprehensions</a></li>\n",
    "                            <ol>\n",
    "                                <li><a href = '#5.5.2.1'>5.5.2.1 - conditions on INPUT vs OUTPUT</a></li>\n",
    "                                <li><a href = '#5.5.2.2'>5.5.2.2 - List Comprehension on Dictionaries</a></li>\n",
    "                            </ol>\n",
    "                        <li><a href = '#5.5.3'>5.5.3 - Generators</a></li>\n",
    "                            <ol>\n",
    "                                <li><a href = '#5.5.3.1'>5.5.3.1 - Lazy Evaluation and Generator unpacking & usage </a></li>\n",
    "                                <li><a href = '#5.5.3.2'>5.5.3.2 - genr func</a></li>\n",
    "                                <li><a href = '#5.5.3.3'>5.5.3.3 - genr-func vs genr-comprehension vs lambda-genr-func</a></li>                                \n",
    "                            </ol>\n",
    "                        <li><a href='#5.5.4'>5.5.4 - Walrus Operator</a></li>\n",
    "                        <li><a href='#5.5.5'>5.5.5 - Using time-stamped data</a></li>\n",
    "                    </ol>       \n",
    "                <li><a href='#5.6'>Chapter 5.6 - Case Study</a></li>\n",
    "                    <ol>\n",
    "                        <li><a href='#5.6.1'>5.6.1 - Creating df using udf, zip(), dictn, list-comprehension[ ]</a></li>\n",
    "                        <li><a href='#5.6.2'>5.6.2 - Using Python generators for streaming data</a></li>\n",
    "                        <li><a href='#5.6.3'>5.6.3 - Using pd's read_csv() iterator for streaming data</a></li>\n",
    "                    </ol>\n",
    "            </ol>\n",
    "       </li><p><hr><p> <!-- course 5 finnito -->\n",
    "       <li><a href='#course6'>Course 6 - Writing Efficient Code with pandas</a><br><br>\n",
    "    <ol>\n",
    "        <li><a href = '#6.1'>Chapter 6.1 - Selecting columns & rows efficiently</a></li>\n",
    "            <ol>\n",
    "                <li><a href = '#6.1.1'>6.1.1 - Rows selection: .iloc[ ] and .loc[ ]</a></li>\n",
    "                <li><a href = '#6.1.2'>6.1.2 - Select random rows & colms</a></li>   \n",
    "             </ol>\n",
    "        <li><a href = '#6.2'>Chapter 6.2 - Replacing values in a df</a></li>\n",
    "            <ol>\n",
    "                <li><a href='#6.2.1'>6.2.1 - Replace scalar values using .replace( )</a></li>\n",
    "                <li><a href='#6.2.2'>6.2.2 - Replace values using lists</a></li>\n",
    "                <li><a href='#6.2.3'>6.2.3 - Replace values using dictn</a></li>\n",
    "            </ol>\n",
    "        <li><a href = '#6.3'>Chapter 6.3 - Efficient iterating</a></li>\n",
    "            <ol>\n",
    "                <li><a href = '#6.3.1'>6.3.1 - Looping using the .iterrows( )</a></li>\n",
    "                <li><a href = '#6.3.2'>6.3.2 - Advanced application of .apply( )</a></li>\n",
    "                <li><a href = '#6.3.3'>6.3.3 - Vectorization in pd Series & np arrays</a></li>                        \n",
    "            </ol>\n",
    "        <li><a href = '#6.4'>Chapter 6.4 - Grouping obj and Apply vs Transform</a></li>\n",
    "            <ol>\n",
    "                <li><a href = '#6.4.1'>6.4.1 - df.groupby( ) is an obj</a></li>\n",
    "                <li><a href = '#6.4.2'>6.4.2 - .apply( ) vs .transform() method</a></li>\n",
    "            </ol>\n",
    "        <li><a href = '#6.5'>Chapter 6.5 - Data manipulation using .groupby( ) cases</a></li>\n",
    "            <ol>\n",
    "                <li><a href = '#6.5.1'>6.5.1 - Data transformation using groupby( ).transform( ) : applying different transformation funcs</a></li>\n",
    "                <li><a href = '#6.5.2'>6.5.2 - Missing value imputation for multiple colms at once using transform( )</a></li>\n",
    "                <li><a href = '#6.5.3'>6.5.3 - Data filtration using the .filter( ) func - applying .filter() on group obj</a></li>                \n",
    "            </ol>\n",
    "    </ol>\n",
    "    </li><p><hr><p> <!-- course 6 finnito -->\n",
    "               <li><a href='#course7'>Course 7 - Inferential Statistics </a><br><br>\n",
    "            <ol>\n",
    "                <li><a href = '#7.1'>Chapter 7.1 - Confidence Intervals</a></li>\n",
    "                    <ol>\n",
    "                        <li><a href = '#7.1.1'>7.1.1 - Point Estimates</a></li>\n",
    "                        <li><a href = '#7.1.2'>7.1.2 - Confidence Intervals Estimation</a></li>\n",
    "                    </ol>\n",
    "                <li><a href = '#7.2'>Chapter 7.2 - Hypothesis Testing and T-Tests</a></li>\n",
    "                    <ol>\n",
    "                        <li><a href = '#7.2.1'>7.2.1 - One-Sample T-Test</a></li>\n",
    "                        <li><a href = '#7.2.2'>7.2.2 - Two-Sample T-Test</a></li>\n",
    "                    </ol>\n",
    "                <li><a href = '#7.3'>Chapter 7.3 - Chi-Squared Tests</a></li>\n",
    "                    <ol>\n",
    "                        <li><a href = '#7.3.1'>7.3.1 - Chi-Squared Goodness-of-fit Test</a></li>\n",
    "                        <li><a href = '#7.3.2'>7.3.2 - Chi-Squared Test of Independence</a></li>\n",
    "                    </ol>\n",
    "                <li><a href = '#7.4'>Chapter 7.4 - ANOVA (ANalysis Of VAriance) Tests</a></li>\n",
    "                    <ol>\n",
    "                        <li><a href = '#7.4.1'>7.4.1 - One-Way ANOVA</a></li>\n",
    "                    </ol>\n",
    "            </ol>\n",
    "       </li><p><hr><p> <!-- course 7 finnito -->\n",
    "               <li><a href='#course8'>Course 8 - Bootstrapping in Statistics</a><br><br>\n",
    "            <ol>\n",
    "                <li><a href = '#8.1'>Chapter 8.1 - Bootstrap confidence intervals</a></li>\n",
    "                    <ol>\n",
    "                        <li><a href = '#8.1.1'>8.1.1 - Generating bootstrap replicates</a></li>\n",
    "                        <li><a href = '#8.1.2'>8.1.2 - Visualizing bootstrap samples</a></li>\n",
    "                    </ol>\n",
    "            </ol>\n",
    "       </li><p><hr><p> <!-- course 8 finnito -->\n",
    "               <li><a href='#course9'>Course 9 - Joining Data with pandas</a><br><br>\n",
    "            <ol>\n",
    "                <li><a href = '#9.1'>Chapter 9.1 - Data Merging Basics</a></li>\n",
    "                     <ol>\n",
    "                        <li><a href = '#9.1.1'>9.1.1 - Inner Join</a></li>\n",
    "                        <li><a href = '#9.1.2'>9.1.2 - Merging multiple DataFrames</a></li>\n",
    "                    </ol>\n",
    "                <li><a href = '#9.2'>Chapter 9.2 - Merging Tables With Different Join Types</a></li>\n",
    "                    <ol>\n",
    "                        <li><a href = '#9.2.1'>9.2.1 - Left join</a></li>\n",
    "                        <li><a href = '#9.2.2'>9.2.2 - Right & Outer join</a></li>\n",
    "                        <li><a href = '#9.2.3'>9.2.3 - Self join</a></li>\n",
    "                        <li><a href = '#9.2.4'>9.2.4 - Merging on indexes</a></li>\n",
    "                    </ol>\n",
    "                <li><a href = '#9.3'>Chapter 9.3 - Advanced Merging & Concatenating</a></li>\n",
    "                    <ol>\n",
    "                        <li><a href = '#9.3.1'>9.3.1 - Filtering joins (Semi Joins & Anti Joins)</a></li>\n",
    "                        <li><a href = '#9.3.2'>9.3.2 - Concatenate dfs together vertically</a></li>\n",
    "                        <li><a href = '#9.3.3'>9.3.3 - Verifying integrity aka Validation during: merge, concat</a></li>                        \n",
    "                    </ol>\n",
    "                <li><a href = '#9.4'>Chapter 9.4 - Merging Ordered & TimeSeries Data</a></li>\n",
    "                    <ol>\n",
    "                        <li><a href = '#9.4.1'>9.4.1 - merge_ordered()</a></li>\n",
    "                        <li><a href = '#9.4.2'>9.4.2 - pd.merge_asof( )</a></li>\n",
    "                        <li><a href = '#9.4.3'>9.4.3 - pivot without agg func</a></li>\n",
    "                        <li><a href = '#9.4.4'>9.4.4 - Reshaping data with .melt( )</a></li>\n",
    "                    </ol>\n",
    "            </ol>\n",
    "       </li><p><hr><p> <!-- course 9 finnito -->\n",
    "               <li><a href= '#course10'>Course 10 - Working With Unstructured Data</a><br><br>\n",
    "            <ol>\n",
    "                <li><a href = '#10.1'>Chapter 10.1 - Regex Intro</a></li>\n",
    "                <li><a href = '#10.2'>Chapter 10.2 - String Operations in pandas</a></li>\n",
    "            </ol>\n",
    "       </li><p><hr><p> <!-- course 10 finnito -->\n",
    "               <li><a href= '#course11'>Course 11 - JSON data</a><br><br>\n",
    "            <ol>\n",
    "                <li><a href = '#11.1'>Chapter 11.1 - Parse different types of nested JSON</a></li>\n",
    "                     <ol>\n",
    "                        <li><a href = '#11.1.1'>11.1.1 - Flattening the data</a></li>\n",
    "                        <li><a href = '#11.1.2'>11.1.2 - Nested JSON</a></li>\n",
    "                        <li><a href = '#11.1.3'>11.1.3 - df.explode( )</a></li>\n",
    "                    </ol>\n",
    "                <li><a href = '#11.2'>Chapter 11.2 - Importing JSON Data</a></li>\n",
    "                    <ol>\n",
    "                        <li><a href = '#11.2.1'>11.2.1 - Access JSON (nested) objects</a></li>\n",
    "                        <li><a href = '#11.2.2'>11.2.2 - Load JSON to a df</a></li>\n",
    "                        <li><a href = '#11.2.3'>11.2.3 - Work with JSON orientations</a></li>\n",
    "                        <li><a href = '#11.2.4'>11.2.4 - Working with nested JSONs</a></li>\n",
    "                    </ol>\n",
    "            </ol>\n",
    "       </li><p><hr><p> <!-- course 11 finnito -->\n",
    "               <li><a href= '#course12'>Course 12 - Data preparation for Machine Learning</a><br><br>\n",
    "            <ol>\n",
    "                <li><a href = '#12.1'>Chapter 12.1 - Standardize & Normalize</a></li>\n",
    "                     <ol>\n",
    "                        <li><a href = '#12.1.1'>12.1.1 - Flattening the data</a></li>\n",
    "                        <li><a href = '#12.1.2'>12.1.2 - Nested JSON</a></li>\n",
    "                        <li><a href = '#12.1.3'>12.1.3 - df.explode( )</a></li>\n",
    "                    </ol>\n",
    "                <li><a href = '#12.2'>Chapter 12.2 - Importing JSON Data</a></li>\n",
    "                    <ol>\n",
    "                        <li><a href = '#12.2.1'>12.2.1 - Access JSON (nested) objects</a></li>\n",
    "                        <li><a href = '#12.2.2'>12.2.2 - Load JSON to a df</a></li>\n",
    "                        <li><a href = '#12.2.3'>12.2.3 - Work with JSON orientations</a></li>\n",
    "                        <li><a href = '#12.2.4'>12.2.4 - Working with nested JSONs</a></li>\n",
    "                    </ol>\n",
    "            </ol>\n",
    "       </li><p><hr><p> <!-- course 12 finnito -->\n",
    "    </ol>    \n",
    "</div>\n",
    "</html>"
   ]
  },
  {
   "cell_type": "code",
   "execution_count": 35,
   "id": "f9dd9106",
   "metadata": {},
   "outputs": [],
   "source": [
    "# library\n",
    "\n",
    "import os\n",
    "import pandas as pd, numpy as np\n",
    "import contextlib\n",
    "\n",
    "import datetime\n",
    "import pyodbc as pydb\n",
    "import time\n",
    "\n",
    "from functools import wraps\n",
    "import inspect\n",
    "\n",
    "import typing\n",
    "\n"
   ]
  },
  {
   "cell_type": "markdown",
   "id": "royal-scout",
   "metadata": {},
   "source": [
    "<br> <hr> <hr> <br>\n",
    "\n",
    "<div id= 'course1'>\n",
    "    <h1> Course 1  - Object-Oriented Programming in Python</h1> \n",
    "    <h5> <a href= '#toc'> Go to top </a> </h5> \n",
    "</div>\n",
    "\n",
    "Object-oriented programming (OOP) is a widely used programming paradigm that reduces development times—making it easier to read, reuse, and maintain your code. OOP shifts the focus from thinking about code as a sequence of actions to looking at your program as a collection of objects that interact with each other. \n",
    "\n",
    "    - learn to create classes, which act as the blueprints for every object in Python\n",
    "    - leverage principles called inheritance & polymorphism to reuse and optimize code\n",
    "    - learn how to create beautiful code that’s clean and efficient\n",
    "\n",
    "<br><br>\n",
    "<div id= '1.1'>\n",
    "    <h2>Chapter 1.1 -  OOP Fundamentals</h2>\n",
    "</div>\n",
    "\n",
    "#### Key Concepts\n",
    "- learn what object-oriented programming (OOP)\n",
    "- how it differs from procedural-programming, and how it can be applied\n",
    "- work with own classes, and learn how to create methods, attributes, and constructors.\n",
    "\n",
    "\n",
    "<div id= '1.1.1'>\n",
    "    <h3>1.1.1 - Class Anatomy</h3>     \n",
    "</div>\n",
    "\n",
    "*[Go to top](#toc)*\n",
    "\n",
    "Attributes & methods"
   ]
  },
  {
   "cell_type": "code",
   "execution_count": 51,
   "id": "amended-converter",
   "metadata": {},
   "outputs": [
    {
     "name": "stdout",
     "output_type": "stream",
     "text": [
      "['T', '__abs__', '__add__', '__and__', '__array__', '__array_finalize__', '__array_function__', '__array_interface__', '__array_prepare__', '__array_priority__', '__array_struct__', '__array_ufunc__', '__array_wrap__', '__bool__', '__class__', '__complex__', '__contains__', '__copy__', '__deepcopy__', '__delattr__', '__delitem__', '__dir__', '__divmod__', '__doc__', '__eq__', '__float__', '__floordiv__', '__format__', '__ge__', '__getattribute__', '__getitem__', '__gt__', '__hash__', '__iadd__', '__iand__', '__ifloordiv__', '__ilshift__', '__imatmul__', '__imod__', '__imul__', '__index__', '__init__', '__init_subclass__', '__int__', '__invert__', '__ior__', '__ipow__', '__irshift__', '__isub__', '__iter__', '__itruediv__', '__ixor__', '__le__', '__len__', '__lshift__', '__lt__', '__matmul__', '__mod__', '__mul__', '__ne__', '__neg__', '__new__', '__or__', '__pos__', '__pow__', '__radd__', '__rand__', '__rdivmod__', '__reduce__', '__reduce_ex__', '__repr__', '__rfloordiv__', '__rlshift__', '__rmatmul__', '__rmod__', '__rmul__', '__ror__', '__rpow__', '__rrshift__', '__rshift__', '__rsub__', '__rtruediv__', '__rxor__', '__setattr__', '__setitem__', '__setstate__', '__sizeof__', '__str__', '__sub__', '__subclasshook__', '__truediv__', '__xor__', 'all', 'any', 'argmax', 'argmin', 'argpartition', 'argsort', 'astype', 'base', 'byteswap', 'choose', 'clip', 'compress', 'conj', 'conjugate', 'copy', 'ctypes', 'cumprod', 'cumsum', 'data', 'diagonal', 'dot', 'dtype', 'dump', 'dumps', 'fill', 'flags', 'flat', 'flatten', 'getfield', 'imag', 'item', 'itemset', 'itemsize', 'max', 'mean', 'min', 'nbytes', 'ndim', 'newbyteorder', 'nonzero', 'partition', 'prod', 'ptp', 'put', 'ravel', 'real', 'repeat', 'reshape', 'resize', 'round', 'searchsorted', 'setfield', 'setflags', 'shape', 'size', 'sort', 'squeeze', 'std', 'strides', 'sum', 'swapaxes', 'take', 'tobytes', 'tofile', 'tolist', 'tostring', 'trace', 'transpose', 'var', 'view']\n"
     ]
    }
   ],
   "source": [
    "a = np.array( [1,2,3] )\n",
    "\n",
    "print( dir(a) )"
   ]
  },
  {
   "cell_type": "markdown",
   "id": "ddfa977f",
   "metadata": {},
   "source": [
    "##### Setter Methods"
   ]
  },
  {
   "cell_type": "code",
   "execution_count": 39,
   "id": "instrumental-heaven",
   "metadata": {},
   "outputs": [],
   "source": [
    "#  a class\n",
    "\n",
    "class Employee:\n",
    "    # Setter Methods\n",
    "    # set the name attribute of an object \n",
    "    def set_name( self, name_val ):\n",
    "        # create an attrib by assigning a val\n",
    "        self.name = name_val\n",
    "\n",
    "    def set_gender( self, gender_val ):\n",
    "        self.gender = gender_val\n",
    "\n",
    "    def set_salary( self, salary_val ):\n",
    "        self.salary = salary_val\n",
    "\n",
    "    def identify( self ):\n",
    "        # this method uses respective object's name\n",
    "        print( f'Employee name: {self.name} and is of the gender: {self.gender}' )\n"
   ]
  },
  {
   "cell_type": "code",
   "execution_count": 40,
   "id": "6d9ba6fc",
   "metadata": {},
   "outputs": [
    {
     "name": "stdout",
     "output_type": "stream",
     "text": [
      "Suresh\n",
      "Employee name: Suresh and is of the gender: Male\n"
     ]
    }
   ],
   "source": [
    "e1 = Employee()\n",
    "e2 = Employee()\n",
    "\n",
    "e1.set_name( name_val= 'Suresh' )\n",
    "e1.set_gender( 'Male' )\n",
    "print( e1.name )\n",
    "\n",
    "e1.identify()"
   ]
  },
  {
   "cell_type": "code",
   "execution_count": 41,
   "id": "2b885cbd",
   "metadata": {},
   "outputs": [
    {
     "name": "stdout",
     "output_type": "stream",
     "text": [
      "['__class__', '__delattr__', '__dict__', '__dir__', '__doc__', '__eq__', '__format__', '__ge__', '__getattribute__', '__gt__', '__hash__', '__init__', '__init_subclass__', '__le__', '__lt__', '__module__', '__ne__', '__new__', '__reduce__', '__reduce_ex__', '__repr__', '__setattr__', '__sizeof__', '__str__', '__subclasshook__', '__weakref__', 'gender', 'identify', 'name', 'set_gender', 'set_name', 'set_salary']\n"
     ]
    }
   ],
   "source": [
    "print( dir(e1) )"
   ]
  },
  {
   "cell_type": "code",
   "execution_count": 44,
   "id": "5b7ccab6",
   "metadata": {},
   "outputs": [
    {
     "name": "stdout",
     "output_type": "stream",
     "text": [
      "9000\n",
      "11000\n"
     ]
    }
   ],
   "source": [
    "# modify attributes of object from outside\n",
    "e1.set_salary( 9000 )\n",
    "print( e1.salary )\n",
    "\n",
    "e1.salary = e1.salary + 2000\n",
    "print( e1.salary )\n"
   ]
  },
  {
   "cell_type": "code",
   "execution_count": 50,
   "id": "48bead68",
   "metadata": {},
   "outputs": [],
   "source": [
    "# define a method for updating an attribute\n",
    "#  a class\n",
    "\n",
    "class Employee:\n",
    "    # Setter Methods\n",
    "    # set the name attribute of an object \n",
    "    def set_name( self, name_val ):\n",
    "        # create an attrib by assigning a val\n",
    "        self.name = name_val\n",
    "\n",
    "    def set_salary( self, salary_val ):\n",
    "        self.salary = salary_val\n",
    "\n",
    "    def give_raise( self, raise_amount ):\n",
    "        self.salary = self.salary + raise_amount\n",
    "\n",
    "    def daily_salary( self ):\n",
    "        return( self.salary/30 )"
   ]
  },
  {
   "cell_type": "code",
   "execution_count": 52,
   "id": "74a35614",
   "metadata": {},
   "outputs": [
    {
     "name": "stdout",
     "output_type": "stream",
     "text": [
      "7000\n",
      "8000\n"
     ]
    }
   ],
   "source": [
    "e1 = Employee()\n",
    "\n",
    "e1.set_salary( 7000 )\n",
    "print(e1.salary)\n",
    "\n",
    "e1.give_raise( 1000 )\n",
    "print(e1.salary)\n"
   ]
  },
  {
   "cell_type": "code",
   "execution_count": 53,
   "id": "83312834",
   "metadata": {},
   "outputs": [
    {
     "data": {
      "text/plain": [
       "266.6666666666667"
      ]
     },
     "execution_count": 53,
     "metadata": {},
     "output_type": "execute_result"
    }
   ],
   "source": [
    "e1.daily_salary()"
   ]
  },
  {
   "cell_type": "markdown",
   "id": "amber-texas",
   "metadata": {},
   "source": [
    "<br>\n",
    "\n",
    "<div id= '1.1.2'>\n",
    "    <h3>1.1.2 - the __init__ constructor </h3>\n",
    "    <h5> <a href = '#toc'> Go to top </a> </h5>\n",
    "</div>\n",
    "\n",
    "Creates Attributes using (a) Setter method vs (b) Constructor"
   ]
  },
  {
   "cell_type": "code",
   "execution_count": null,
   "id": "b8f59a81",
   "metadata": {},
   "outputs": [],
   "source": [
    "class Employee:\n",
    "    # Setter Methods\n",
    "    def set_name( self, name_val ):\n",
    "        # create an attrib by assigning a val\n",
    "        self.name = name_val\n",
    "\n",
    "    def set_salary( self, salary_val ):\n",
    "        self.salary = salary_val"
   ]
  },
  {
   "cell_type": "code",
   "execution_count": 54,
   "id": "comfortable-hydrogen",
   "metadata": {},
   "outputs": [],
   "source": [
    "# create attributes using constructor\n",
    "\n",
    "class Employee:\n",
    "\n",
    "    def __init__( self, name_val, salary_val ):\n",
    "        self.name= name_val\n",
    "        self.salary = salary_val"
   ]
  },
  {
   "cell_type": "code",
   "execution_count": 1,
   "id": "micro-dealing",
   "metadata": {},
   "outputs": [],
   "source": [
    "# setting new attribute that dont have input vars\n",
    "import datetime\n",
    "\n",
    "class Employee:\n",
    "\n",
    "    def __init__( self, name_val, salary_val ):\n",
    "        self.name= name_val\n",
    "        self.salary = salary_val\n",
    "        # new var\n",
    "        self.hire_dt = datetime.datetime.today()\n"
   ]
  },
  {
   "cell_type": "code",
   "execution_count": 59,
   "id": "completed-gardening",
   "metadata": {},
   "outputs": [
    {
     "data": {
      "text/plain": [
       "('Suresh', 6000, datetime.datetime(2022, 12, 25, 12, 21, 40, 335654))"
      ]
     },
     "execution_count": 59,
     "metadata": {},
     "output_type": "execute_result"
    }
   ],
   "source": [
    "e1 = Employee( 'Suresh', 6000 )\n",
    "e1.name, e1.salary, e1.hire_dt"
   ]
  },
  {
   "cell_type": "code",
   "execution_count": 60,
   "id": "pretty-donna",
   "metadata": {},
   "outputs": [
    {
     "data": {
      "text/plain": [
       "('Suresh', 0, datetime.datetime(2022, 12, 25, 12, 23, 30, 757667))"
      ]
     },
     "execution_count": 60,
     "metadata": {},
     "output_type": "execute_result"
    }
   ],
   "source": [
    "# setting an attribute based on a condition\n",
    "class Employee:\n",
    "\n",
    "    def __init__( self, name_val, salary_val ):\n",
    "        self.name= name_val\n",
    "        self.salary = salary_val  if( salary_val >= 0 ) else 0  # attrib based on condition\n",
    "        self.hire_dt = datetime.datetime.today()\n",
    "\n",
    "e1 = Employee( 'Suresh', -9 )\n",
    "e1.name, e1.salary, e1.hire_dt"
   ]
  },
  {
   "cell_type": "markdown",
   "id": "furnished-loading",
   "metadata": {},
   "source": [
    "Geomteric application of a class"
   ]
  },
  {
   "cell_type": "code",
   "execution_count": 71,
   "id": "nervous-impossible",
   "metadata": {},
   "outputs": [],
   "source": [
    "class PointClass:\n",
    "\n",
    "    def __init__( self, x= 0.0, y= 0.0 ):\n",
    "        self.x = x\n",
    "        self.y = y\n",
    "\n",
    "    def distance_to_origin( self ):     # <-- class's method\n",
    "        return(  np.sqrt( self.x**2 + self.y**2 )  )\n",
    "\n",
    "    def reflect( self, axis ):\n",
    "        if( axis == 'x' ):  self.y = -self.y\n",
    "        elif( axis == 'y' ):  self.x = -self.x\n",
    "        else: print( f'Error: Axis should ve either x or y, you provided: {axis}' )"
   ]
  },
  {
   "cell_type": "code",
   "execution_count": 72,
   "id": "rural-eagle",
   "metadata": {},
   "outputs": [
    {
     "name": "stdout",
     "output_type": "stream",
     "text": [
      "3 4\n",
      "5.0\n",
      "Error: Axis should ve either x or y, you provided: asd\n",
      "3 -4\n"
     ]
    }
   ],
   "source": [
    "pt1 = PointClass( 3, 4 )\n",
    "\n",
    "print( pt1.x, pt1.y )\n",
    "\n",
    "print( pt1.distance_to_origin() )\n",
    "\n",
    "pt1.reflect( 'asd' )\n",
    "\n",
    "pt1.reflect( 'x' ); print( pt1.x, pt1.y )"
   ]
  },
  {
   "cell_type": "markdown",
   "id": "241a672d",
   "metadata": {},
   "source": [
    "#### method"
   ]
  },
  {
   "cell_type": "code",
   "execution_count": 2,
   "id": "413c7846",
   "metadata": {},
   "outputs": [],
   "source": [
    "class EmployeeClass:\n",
    "  \n",
    "  def __init__( self, first, last, pay ) -> None:\n",
    "    self.first, self.last  =  first, last\n",
    "    self.email = f'{first}.{last}@gmail.com'\n",
    "    self.pay = pay\n",
    "    EmployeeClass.empNum_Cvar = EmployeeClass.empNum_Cvar + 1\n",
    "\n",
    "  def get_fullname( self ):\n",
    "    return( f'{self.first} {self.last}' )"
   ]
  },
  {
   "cell_type": "code",
   "execution_count": 5,
   "id": "a4ee4cca",
   "metadata": {},
   "outputs": [
    {
     "data": {
      "text/plain": [
       "'Rabi Sharma'"
      ]
     },
     "execution_count": 5,
     "metadata": {},
     "output_type": "execute_result"
    }
   ],
   "source": [
    "emp1 = EmployeeClass( last= 'Sharma', first= 'Rabi', pay= 10000 )"
   ]
  },
  {
   "cell_type": "code",
   "execution_count": 7,
   "id": "db704437",
   "metadata": {},
   "outputs": [
    {
     "name": "stdout",
     "output_type": "stream",
     "text": [
      "Rabi Sharma\n"
     ]
    },
    {
     "data": {
      "text/plain": [
       "'Rabi Sharma'"
      ]
     },
     "execution_count": 7,
     "metadata": {},
     "output_type": "execute_result"
    }
   ],
   "source": [
    "print( emp1.get_fullname() )   #  <-- is same as:  \n",
    "EmployeeClass.get_fullname( self= emp1 )   #  <-- behind the hood"
   ]
  },
  {
   "cell_type": "markdown",
   "id": "legitimate-sweet",
   "metadata": {},
   "source": [
    "<br><br>\n",
    "<div id= '1.2'>\n",
    "    <h2>Chapter 1.2 -  Inheritance & Polymorphism</h2>\n",
    "</div>\n",
    "\n",
    "#### Key Concepts\n",
    "Inheritance and polymorphism are the core concepts of OOP that enable efficient and consistent code reuse.\n",
    "\n",
    "    - learn how to inherit from a class\n",
    "    - customize and redefine methods\n",
    "    - review the differences between class-level data and instance-level data\n",
    "\n",
    "<br>\n",
    "<div id= '1.2.1'>\n",
    "    <h3>1.2.1 - Instance and class-level attributes</h3>     \n",
    "</div>\n",
    "\n",
    "*[Go to top](#toc)*"
   ]
  },
  {
   "cell_type": "code",
   "execution_count": 76,
   "id": "lovely-blowing",
   "metadata": {},
   "outputs": [],
   "source": [
    "# \"Class-level\" variable like gloabal variable \n",
    "\n",
    "class EmployeeClass:\n",
    "    SALARY_MIN = 2000\n",
    "\n",
    "    def __init__( self, name_val, salary_val ):\n",
    "        self.name= name_val\n",
    "        self.salary = salary_val  if( salary_val >= EmployeeClass.SALARY_MIN ) else EmployeeClass.SALARY_MIN  # attrib based on condition\n",
    "        \n"
   ]
  },
  {
   "cell_type": "code",
   "execution_count": 78,
   "id": "977de4c3",
   "metadata": {},
   "outputs": [
    {
     "data": {
      "text/plain": [
       "('Suresh', 2000)"
      ]
     },
     "execution_count": 78,
     "metadata": {},
     "output_type": "execute_result"
    }
   ],
   "source": [
    "e1 = EmployeeClass( 'Suresh', 1500 )\n",
    "e1.name, e1.salary"
   ]
  },
  {
   "cell_type": "markdown",
   "id": "d2684237",
   "metadata": {},
   "source": [
    "In this exercise, we will code as a game developer working on a game that will have several players moving on a grid and interacting with each other.\n",
    "\n",
    "As the first step, we will define a `Player` class that will just move along a straight line. Player will have a `position` attribute and a `move()` method. The grid is limited, so the `position` of `Player` will have a maximal value."
   ]
  },
  {
   "cell_type": "code",
   "execution_count": 81,
   "id": "52a9ef90",
   "metadata": {},
   "outputs": [],
   "source": [
    "class Player:\n",
    "    MAX_POS = 50\n",
    "\n",
    "    def __init__( self, pos_val= 0 ):\n",
    "        self.pos = pos_val  if( pos_val <= Player.MAX_POS ) else Player.MAX_POS\n",
    "\n",
    "    def move( self, steps ):\n",
    "        self.pos = self.pos + steps  if( self.pos + steps <= Player.MAX_POS ) else Player.MAX_POS\n",
    "\n",
    "    # This method provides a rudimentary visualization in the console    \n",
    "    def draw ( self ):\n",
    "        drawing = '-' * self.pos + '|' +'-'*( Player.MAX_POS - self.pos )\n",
    "        print(drawing)"
   ]
  },
  {
   "cell_type": "code",
   "execution_count": 87,
   "id": "durable-render",
   "metadata": {},
   "outputs": [
    {
     "name": "stdout",
     "output_type": "stream",
     "text": [
      "|--------------------------------------------------\n",
      "----|----------------------------------------------\n",
      "------------------------|--------------------------\n",
      "---------------------------------------|-----------\n",
      "--------------------------------------------------|\n",
      "--------------------------------------------------|\n"
     ]
    }
   ],
   "source": [
    "p = Player(); p.draw()\n",
    "p.move(4); p.draw()\n",
    "p.move(20); p.draw()\n",
    "p.move(15); p.draw()\n",
    "p.move(30); p.draw()\n",
    "p.move(30); p.draw()\n"
   ]
  },
  {
   "cell_type": "markdown",
   "id": "dcdff802",
   "metadata": {},
   "source": [
    "Changing class attributes\n"
   ]
  },
  {
   "cell_type": "code",
   "execution_count": 193,
   "id": "d98c1bdf",
   "metadata": {},
   "outputs": [
    {
     "name": "stdout",
     "output_type": "stream",
     "text": [
      "SALARY_MIN of e1 and e2 before assignment:\t2000 \t&\t 2000\n",
      "SALARY_MIN of e1 and e2 after assignment:\t1000 \t&\t 2000\n",
      "SALARY_MIN of e1 and e2 after assignment:\t1000 \t&\t 500\n",
      "\n",
      ">> here the e1.SALARY_MIN didn't changed even after EmployeeClass.SALARY_MIN as it was explictely changed earlier\n"
     ]
    }
   ],
   "source": [
    "# Changing class attributes\n",
    "class EmployeeClass:\n",
    "    SALARY_MIN = 2000\n",
    "\n",
    "    def __init__( self, name_val, salary_val ):\n",
    "        self.name= name_val\n",
    "        \n",
    "e1, e2 = EmployeeClass( 'Suresh', 4000 ),   EmployeeClass( 'Ramesh', 1500 )\n",
    "print( f'SALARY_MIN of e1 and e2 before assignment:\\t{e1.SALARY_MIN} \\t&\\t {e2.SALARY_MIN}' )\n",
    "\n",
    "# change SALARY_MIN for e1\n",
    "e1.SALARY_MIN = 1000\n",
    "print( f'SALARY_MIN of e1 and e2 after assignment:\\t{e1.SALARY_MIN} \\t&\\t {e2.SALARY_MIN}' )\n",
    "\n",
    "# change SALARY_MIN for the Class\n",
    "EmployeeClass.SALARY_MIN = 500\n",
    "print( f'SALARY_MIN of e1 and e2 after assignment:\\t{e1.SALARY_MIN} \\t&\\t {e2.SALARY_MIN}' )\n",
    "print( \"\\n>> here the e1.SALARY_MIN didn't changed even after EmployeeClass.SALARY_MIN as it was explictely changed earlier\" )"
   ]
  },
  {
   "cell_type": "code",
   "execution_count": 194,
   "id": "264988c9",
   "metadata": {},
   "outputs": [
    {
     "name": "stdout",
     "output_type": "stream",
     "text": [
      "SALARY_MIN of e1 and e2 after assignment:\t1000 \t&\t 500\n"
     ]
    }
   ],
   "source": [
    "# change SALARY_MIN for the Class\n",
    "EmployeeClass.SALARY_MIN = 500\n",
    "print(  f'SALARY_MIN of e1 and e2 after assignment:\\t{e1.SALARY_MIN} \\t&\\t {e2.SALARY_MIN}'  )"
   ]
  },
  {
   "cell_type": "markdown",
   "id": "c2491183",
   "metadata": {},
   "source": [
    "Detailed, cogent, concise explanation on `Instance` and `class-level` attributes"
   ]
  },
  {
   "cell_type": "code",
   "execution_count": 59,
   "id": "2aa51d56",
   "metadata": {},
   "outputs": [
    {
     "name": "stdout",
     "output_type": "stream",
     "text": [
      "# however, the usage of EmployeeClass.self.raiseAmt_Cvar vs self.raiseAmt_Cvar really depends upon what safe-check priority we want to adopt i.e. whether we want the apply_raise() to always use class var (and ignore any mistakenly updated inst var) or whetherwe want apply_raise() to always check for newly updated inst var and use that nascent inst var instead of sticking to irrelevant old class var.Example where it make sense to use Class var (and not inst var using self) is few cells below:   \n"
     ]
    }
   ],
   "source": [
    "class EmployeeClass:\n",
    "  raiseAmt_Cvar = 1.04\n",
    "  \n",
    "  def __init__( self, first, last, pay ) -> None:\n",
    "    self.first, self.last  =  first, last\n",
    "    self.email = f'{first}.{last}@gmail.com'\n",
    "    self.pay = pay\n",
    "\n",
    "  def get_fullname( self ):\n",
    "    return( f'{self.first} {self.last}' )\n",
    "\n",
    "  def apply_raise( self ):\n",
    "    # self.pay = int( self.pay * EmployeeClass.raiseAmt_Cvar )   #  <-- here raiseAmt_Cvar is used as class var, this may not be a perfect approach say when inst raiseAmt is defined, and then apply_raise() is called, it still uses class var instead of inst var (which might not be intended)\n",
    "    self.pay = int( self.pay * self.raiseAmt_Cvar )       #  <--   here raiseAmt_Cvar is used as inst var, this may be more appt and error-prone (for some situation) as it over-rides and correctly use the inst var rather than class var which was defined in the beginning of the time\n",
    "    \n",
    "print( \"# however, the usage of EmployeeClass.self.raiseAmt_Cvar vs self.raiseAmt_Cvar really depends upon what safe-check priority we want to adopt\\\n",
    " i.e. whether we want the apply_raise() to always use class var (and ignore any mistakenly updated inst var) or whether\\\n",
    "we want apply_raise() to always check for newly updated inst var and use that nascent inst var instead of sticking to irrelevant old class var.\\\n",
    "Example where it make sense to use Class var (and not inst var using self) is few cells below: \\\n",
    "  \" )"
   ]
  },
  {
   "cell_type": "code",
   "execution_count": 47,
   "id": "435ee3b2",
   "metadata": {},
   "outputs": [
    {
     "data": {
      "text/plain": [
       "10400"
      ]
     },
     "execution_count": 47,
     "metadata": {},
     "output_type": "execute_result"
    }
   ],
   "source": [
    "emp1 = EmployeeClass(  'Rabi', 'Sharma', 10000  )\n",
    "emp2 = EmployeeClass(  'Suresh', 'Roy', 90000  )\n",
    "\n",
    "emp1.apply_raise()\n",
    "\n",
    "emp1.pay"
   ]
  },
  {
   "cell_type": "code",
   "execution_count": 48,
   "id": "b778c9ec",
   "metadata": {},
   "outputs": [
    {
     "data": {
      "text/plain": [
       "20800"
      ]
     },
     "execution_count": 48,
     "metadata": {},
     "output_type": "execute_result"
    }
   ],
   "source": [
    "emp1.raiseAmt_Cvar = 2\n",
    "\n",
    "emp1.apply_raise()\n",
    "\n",
    "emp1.pay"
   ]
  },
  {
   "cell_type": "code",
   "execution_count": 19,
   "id": "af867b2f",
   "metadata": {},
   "outputs": [
    {
     "name": "stdout",
     "output_type": "stream",
     "text": [
      "1.04 1.04 1.04\n"
     ]
    }
   ],
   "source": [
    "print(  EmployeeClass.raiseAmt_Cvar, emp1.raiseAmt_Cvar, emp2.raiseAmt_Cvar  )"
   ]
  },
  {
   "cell_type": "code",
   "execution_count": 22,
   "id": "34524484",
   "metadata": {},
   "outputs": [
    {
     "name": "stdout",
     "output_type": "stream",
     "text": [
      "{'first': 'Rabi', 'last': 'Sharma', 'email': 'Rabi.Sharma@gmail.com', 'pay': 10816}\n",
      "\n",
      "\n",
      " {'__module__': '__main__', 'empNum_Cvar': 4, 'raiseAmt_Cvar': 1.04, '__init__': <function EmployeeClass.__init__ at 0x000002A4EEFCE4D0>, 'get_fullname': <function EmployeeClass.get_fullname at 0x000002A4EF288280>, 'apply_raise': <function EmployeeClass.apply_raise at 0x000002A4EF288040>, '__dict__': <attribute '__dict__' of 'EmployeeClass' objects>, '__weakref__': <attribute '__weakref__' of 'EmployeeClass' objects>, '__doc__': None}\n"
     ]
    }
   ],
   "source": [
    "print( emp1.__dict__ )\n",
    "print( '\\n\\n',EmployeeClass.__dict__ )"
   ]
  },
  {
   "cell_type": "code",
   "execution_count": 36,
   "id": "c3a50718",
   "metadata": {},
   "outputs": [
    {
     "name": "stdout",
     "output_type": "stream",
     "text": [
      "{'first': 'Rabi', 'last': 'Sharma', 'email': 'Rabi.Sharma@gmail.com', 'pay': 10816, 'raiseAmt_Cvar': 2}\n",
      "\n",
      "\n",
      "EmployeeClass.raiseAmt_Cvar = 5,\n",
      "emp1.raiseAmt_Cvar = 2,\n",
      "emp2.raiseAmt_Cvar = 5\n",
      "\n",
      "\n",
      "# emp1.raiseAmt_Cvar = 2 created an independent inst var raiseAmt_Cvar for emp1 (inspired from class var). But emp2 reflects class var raiseAmt_Cvar whenever emp2.raiseAmt_Cvar is called; it doesn't have it's own personal inst var which can also be checked as:\n",
      "\n",
      "-----------------------------------------------------------------------------------------------------------------------------------------------------------\n",
      "\n",
      "EmployeeClass.__dict__  --> {'__module__': '__main__', 'empNum_Cvar': 4, 'raiseAmt_Cvar': 5, '__init__': <function EmployeeClass.__init__ at 0x000002A4EEFCE4D0>, 'get_fullname': <function EmployeeClass.get_fullname at 0x000002A4EF288280>, 'apply_raise': <function EmployeeClass.apply_raise at 0x000002A4EF288040>, '__dict__': <attribute '__dict__' of 'EmployeeClass' objects>, '__weakref__': <attribute '__weakref__' of 'EmployeeClass' objects>, '__doc__': None} \n",
      "\n",
      "emp1.__dict__  -->  {'first': 'Rabi', 'last': 'Sharma', 'email': 'Rabi.Sharma@gmail.com', 'pay': 10816, 'raiseAmt_Cvar': 2} \n",
      "\n",
      "emp2.__dict__  --> {'first': 'Suresh', 'last': 'Roy', 'email': 'Suresh.Roy@gmail.com', 'pay': 90000}\n"
     ]
    }
   ],
   "source": [
    "emp1.raiseAmt_Cvar = 2\n",
    "print( emp1.__dict__ )\n",
    "\n",
    "EmployeeClass.raiseAmt_Cvar = 5\n",
    "\n",
    "print(  f'\\n\\nEmployeeClass.raiseAmt_Cvar = {EmployeeClass.raiseAmt_Cvar},\\nemp1.raiseAmt_Cvar = {emp1.raiseAmt_Cvar},\\nemp2.raiseAmt_Cvar = {emp2.raiseAmt_Cvar}'  )\n",
    "\n",
    "print( \"\\n\\n# emp1.raiseAmt_Cvar = 2 created an independent inst var raiseAmt_Cvar for emp1 (inspired from class var). But emp2 reflects class var raiseAmt_Cvar whenever emp2.raiseAmt_Cvar is called; it doesn't have it's own personal inst var which can also be checked as:\" )\n",
    "print( '\\n-----------------------------------------------------------------------------------------------------------------------------------------------------------' )\n",
    "print( f'\\nEmployeeClass.__dict__  --> {EmployeeClass.__dict__} \\n\\nemp1.__dict__  -->  {emp1.__dict__ } \\n\\nemp2.__dict__  --> {emp2.__dict__ }' )\n"
   ]
  },
  {
   "cell_type": "code",
   "execution_count": 60,
   "id": "8e6c2d1c",
   "metadata": {},
   "outputs": [],
   "source": [
    "## example where it doesn't make sense to use inst var (i.e. self) but is appt to use class var\n",
    "\n",
    "class EmployeeClass:\n",
    "  empNum_CVAR = 0    # number of employees that will be automatically managed\n",
    "  raiseAmt_Cvar = 1.04\n",
    "  \n",
    "  def __init__( self, first, last, pay ) -> None:\n",
    "    self.first, self.last  =  first, last\n",
    "    self.email = f'{first}.{last}@gmail.com'\n",
    "    self.pay = pay\n",
    "    EmployeeClass.empNum_CVAR = EmployeeClass.empNum_CVAR + 1        # not using \"self.empNum_CVAR\" as we dont want empNum_CVAR different for different objects \n",
    "    \n",
    "\n",
    "  def get_fullname( self ):\n",
    "    return( f'{self.first} {self.last}' )\n",
    "\n",
    "  def apply_raise( self ):\n",
    "    # self.pay = int( self.pay * EmployeeClass.raiseAmt_Cvar ) \n",
    "    self.pay = int( self.pay * self.raiseAmt_Cvar )      "
   ]
  },
  {
   "cell_type": "code",
   "execution_count": 61,
   "id": "92409fb4",
   "metadata": {},
   "outputs": [
    {
     "name": "stdout",
     "output_type": "stream",
     "text": [
      "0\n",
      "2\n"
     ]
    }
   ],
   "source": [
    "print( EmployeeClass.empNum_CVAR )\n",
    "\n",
    "emp1 = EmployeeClass(  'Rabi', 'Sharma', 10000  );   emp2 = EmployeeClass(  'Suresh', 'Roy', 90000  )\n",
    "\n",
    "print( EmployeeClass.empNum_CVAR )"
   ]
  },
  {
   "cell_type": "markdown",
   "id": "1fc67f96",
   "metadata": {},
   "source": [
    "\n",
    "<br>\n",
    "<div id= '1.2.2'>\n",
    "    <h3>1.2.2 - Regular methods, Class methods & Static methods</h3>     \n",
    "</div>\n",
    "\n",
    "<br>\n",
    "<div id= '1.2.2.1'></div>\n",
    "\n",
    "#### 1.2.2.1 Class Method\n",
    "Python allows you to define class methods as well, using the `@classmethod` decorator and a special first argument `cls`. The main use of class methods is defining methods that return an instance of the class, but aren't using the same code as `__init__()`.\n",
    "\n",
    "*[Go to top](#toc)* \n",
    "<br>"
   ]
  },
  {
   "cell_type": "code",
   "execution_count": 1,
   "id": "0fef8daa",
   "metadata": {},
   "outputs": [],
   "source": [
    "\n",
    "class EmployeeClass:\n",
    "  empNum_CVAR = 0    # number of employees that will be automatically managed\n",
    "  raiseAmt_CVAR = 1.04\n",
    "  \n",
    "  def __init__( self, first, last, pay ) -> None:\n",
    "    self.first, self.last  =  first, last\n",
    "    self.email = f'{first}.{last}@gmail.com'\n",
    "    self.pay = pay\n",
    "    EmployeeClass.empNum_CVAR = EmployeeClass.empNum_CVAR + 1     \n",
    "    \n",
    "  def get_fullname( self ):                             #  <-- REGULAR METHOD\n",
    "    return(  f'{self.first} {self.last}'  )\n",
    "\n",
    "  def apply_raise( self ):\n",
    "    self.pay = int( self.pay * self.raiseAmt_CVAR )\n",
    "\n",
    "  @classmethod                                         # <-- CLASS METHOD\n",
    "  def set_raise_amt( cls, amt_val ):\n",
    "    cls.raiseAmt_CVAR = amt_val\n",
    "    "
   ]
  },
  {
   "cell_type": "code",
   "execution_count": 2,
   "id": "5c59d498",
   "metadata": {},
   "outputs": [
    {
     "name": "stdout",
     "output_type": "stream",
     "text": [
      "EmployeeClass.raiseAmt_CVAR --> 1.04\n",
      "\n",
      "emp1.raiseAmt_CVAR --> 1.04, \t\t emp2.raiseAmt_CVAR --> 1.04\n"
     ]
    }
   ],
   "source": [
    "emp1 = EmployeeClass(  'Rabi', 'Sharma', 10000  );   emp2 = EmployeeClass(  'Suresh', 'Roy', 90000  )\n",
    "\n",
    "print( f'EmployeeClass.raiseAmt_CVAR --> {EmployeeClass.raiseAmt_CVAR}' )\n",
    "\n",
    "print( f'\\nemp1.raiseAmt_CVAR --> {emp1.raiseAmt_CVAR}, \\t\\t emp2.raiseAmt_CVAR --> {emp2.raiseAmt_CVAR}' )"
   ]
  },
  {
   "cell_type": "code",
   "execution_count": 4,
   "id": "5274c514",
   "metadata": {},
   "outputs": [
    {
     "name": "stdout",
     "output_type": "stream",
     "text": [
      "EmployeeClass.raiseAmt_CVAR --> 1.05 \n",
      "\n",
      "emp1.raiseAmt_CVAR --> 1.05, \t\t emp2.raiseAmt_CVAR --> 1.05\n"
     ]
    }
   ],
   "source": [
    "# change class raise amount to 5% using CLASS METHOD\n",
    "\n",
    "EmployeeClass.set_raise_amt( amt_val= 1.05 )\n",
    "\n",
    "print( f'EmployeeClass.raiseAmt_CVAR --> {EmployeeClass.raiseAmt_CVAR} \\n\\nemp1.raiseAmt_CVAR --> {emp1.raiseAmt_CVAR}, \\t\\t emp2.raiseAmt_CVAR --> {emp2.raiseAmt_CVAR}' )"
   ]
  },
  {
   "cell_type": "code",
   "execution_count": null,
   "id": "97b60d93",
   "metadata": {},
   "outputs": [],
   "source": [
    "# note:\n",
    "EmployeeClass.set_raise_amt( amt_val= 1.05 )    # is same as \n",
    "EmployeeClass.raiseAmt_CVAR = 1.05"
   ]
  },
  {
   "cell_type": "code",
   "execution_count": 5,
   "id": "16fd730a",
   "metadata": {},
   "outputs": [
    {
     "name": "stdout",
     "output_type": "stream",
     "text": [
      "EmployeeClass.raiseAmt_CVAR --> 1.9 \n",
      "emp1.raiseAmt_CVAR --> 1.9, \t\t emp2.raiseAmt_CVAR --> 1.9\n"
     ]
    }
   ],
   "source": [
    "# one could run CLASS METHOD from instances (but wouldnt make much sense, and usually is discouraged)\n",
    "\n",
    "emp1.set_raise_amt( amt_val= 1.9 )\n",
    "print( f'EmployeeClass.raiseAmt_CVAR --> {EmployeeClass.raiseAmt_CVAR} \\nemp1.raiseAmt_CVAR --> {emp1.raiseAmt_CVAR}, \\t\\t emp2.raiseAmt_CVAR --> {emp2.raiseAmt_CVAR}' )\n"
   ]
  },
  {
   "cell_type": "markdown",
   "id": "7db38242",
   "metadata": {},
   "source": [
    "<br>\n",
    "<div id= '1.2.2.2'></div>\n",
    "\n",
    "#### 1.2.2.2 Class Method as: <b>`  Alternative Constructors`</b>\n",
    "        - multiple ways of creating objects\n",
    "        - we want to create obj/inst alternatively, here we cannot use the METHOD as there isn't one so we need to use CLASS METHOD\n",
    "\n",
    "Creating Employees instances/objects from a string sep by '-'\n",
    "\n",
    "*[Go to top](#toc)* \n",
    "<br>"
   ]
  },
  {
   "cell_type": "code",
   "execution_count": 7,
   "id": "71c28e67",
   "metadata": {},
   "outputs": [],
   "source": [
    "emp_str1 = 'John-Doe-70000'\n",
    "emp_str2 = 'Steve-Smith-30000'\n",
    "emp_str3 = 'Jane-Doe-90000'"
   ]
  },
  {
   "cell_type": "code",
   "execution_count": 8,
   "id": "7dc327f5",
   "metadata": {},
   "outputs": [
    {
     "name": "stdout",
     "output_type": "stream",
     "text": [
      "John Doe 70000\n"
     ]
    },
    {
     "data": {
      "text/plain": [
       "'John.Doe@gmail.com'"
      ]
     },
     "execution_count": 8,
     "metadata": {},
     "output_type": "execute_result"
    }
   ],
   "source": [
    "## manual rudimentary approach\n",
    "\n",
    "fn, ln, pay = emp_str1.split( '-' )\n",
    "print( fn, ln, pay )\n",
    "\n",
    "emp_new1 = EmployeeClass( fn, ln, pay )\n",
    "emp_new1.email"
   ]
  },
  {
   "cell_type": "code",
   "execution_count": 9,
   "id": "e4d1e023",
   "metadata": {},
   "outputs": [],
   "source": [
    "## create an alt constructor that accepts these hyphened-strings and creates an Employee object from EmployeeClass\n",
    "\n",
    "class EmployeeClass:\n",
    "  empNum_CVAR = 0    # number of employees that will be automatically managed\n",
    "  raiseAmt_CVAR = 1.04\n",
    "  \n",
    "  def __init__( self, first, last, pay ) -> None:\n",
    "    self.first, self.last  =  first, last\n",
    "    self.email = f'{first}.{last}@gmail.com'\n",
    "    self.pay = pay\n",
    "    EmployeeClass.empNum_CVAR = EmployeeClass.empNum_CVAR + 1     \n",
    "    \n",
    "  def get_fullname( self ):                             #  <-- REGULAR METHOD\n",
    "    return(  f'{self.first} {self.last}'  )\n",
    "\n",
    "  def apply_raise( self ):\n",
    "    self.pay = int( self.pay * self.raiseAmt_CVAR )\n",
    "\n",
    "  @classmethod                                         # <-- CLASS METHOD\n",
    "  def set_raise_amt( cls, amt_val ):\n",
    "    EmployeeClass.raiseAmt_CVAR                  #  <-- OR do like this which is more apt --> cls.raiseAmt_CVAR = amt_val \n",
    "    # cls.raiseAmt_CVAR = amt_val                #  <-- is more apt\n",
    "    \n",
    "  @classmethod\n",
    "  def from_str_altCnstr( cls, emp_str ):\n",
    "    fn, ln, pay = emp_str.split( '-' )\n",
    "    return(  EmployeeClass( fn, ln, pay )  )  #  <-- OR do like this which is more apt --> cls( fn, ln, pay )\n",
    "    # return(  cls( fn, ln, pay )  )          #  <-- is more apt "
   ]
  },
  {
   "cell_type": "code",
   "execution_count": 10,
   "id": "1e8eff10",
   "metadata": {},
   "outputs": [
    {
     "data": {
      "text/plain": [
       "'John.Doe@gmail.com'"
      ]
     },
     "execution_count": 10,
     "metadata": {},
     "output_type": "execute_result"
    }
   ],
   "source": [
    "emp_str1 = 'John-Doe-70000'\n",
    "\n",
    "## so now instead of these 2 manual steps each time creating object each time from strings:\n",
    "# fn, ln, pay = emp_str1.split( '-' )\n",
    "# emp_new1 = EmployeeClass( fn, ln, pay )\n",
    "\n",
    "emp_new1 = EmployeeClass.from_str_altCnstr( emp_str= emp_str1 )\n",
    "emp_new1.email"
   ]
  },
  {
   "cell_type": "code",
   "execution_count": null,
   "id": "5ec44dfd",
   "metadata": {},
   "outputs": [],
   "source": [
    "## another completely different example of CLASS METHOD\n",
    "\n",
    "class NiceDate_class:\n",
    "  def __init__( self, yr, mon, day ):\n",
    "    self.year = yr\n",
    "    self.month = mon\n",
    "    self.day= day"
   ]
  },
  {
   "cell_type": "code",
   "execution_count": 15,
   "id": "96269f37",
   "metadata": {},
   "outputs": [],
   "source": [
    "# using CLASS METHOD for alt const\n",
    "class NiceDate_Class:\n",
    "  \n",
    "  def __init__( self, yr, mon, day ):  # main cnstr\n",
    "    self.year = yr;      self.month = mon;       self.day= day\n",
    "\n",
    "  @classmethod\n",
    "  def date_from_str_AltCnstr( cls, datestr ):\n",
    "    date_comp = datestr.split('-')\n",
    "    yr = date_comp[0];     mon = date_comp[1];       day = date_comp[2]\n",
    "    return(  cls( yr, mon, day )  )                          # same as:  return(  NiceDate_class( yr, mon, day )  )"
   ]
  },
  {
   "cell_type": "code",
   "execution_count": 16,
   "id": "49047cb6",
   "metadata": {},
   "outputs": [
    {
     "data": {
      "text/plain": [
       "'2023'"
      ]
     },
     "execution_count": 16,
     "metadata": {},
     "output_type": "execute_result"
    }
   ],
   "source": [
    "date_obj1 = NiceDate_Class.date_from_str_AltCnstr( '2023-01-01' )\n",
    "\n",
    "date_obj1.year\n"
   ]
  },
  {
   "cell_type": "code",
   "execution_count": 20,
   "id": "6bc7b5f2",
   "metadata": {},
   "outputs": [],
   "source": [
    "## additional alternate constructor (which happens in the real-life project)\n",
    "class NiceDate_Class:\n",
    "  \n",
    "  def __init__( self, yr, mon, day ):  # main cnstr\n",
    "    self.year = yr;      self.month = mon;       self.day= day\n",
    "\n",
    "  @classmethod\n",
    "  def date_from_str_AltCnstr( cls, datestr ):\n",
    "    yr, mon, day = datestr.split('-')\n",
    "    return(  cls( yr, mon, day )  )\n",
    "\n",
    "  @classmethod\n",
    "  def date_from_datetimeObj_AltCnstr( cls, date_obj ):\n",
    "    yr, mon, day = date_obj.year, date_obj.month, date_obj.day\n",
    "    return(  cls( yr, mon, day )  )"
   ]
  },
  {
   "cell_type": "code",
   "execution_count": 21,
   "id": "eac641b8",
   "metadata": {},
   "outputs": [
    {
     "name": "stdout",
     "output_type": "stream",
     "text": [
      "2023 2023\n"
     ]
    }
   ],
   "source": [
    "# thus create date objects using both new alt cnstr\n",
    "\n",
    "date_obj1 = NiceDate_Class.date_from_str_AltCnstr( '2023-01-01' )\n",
    "date_obj2 = NiceDate_Class.date_from_datetimeObj_AltCnstr( datetime.datetime.today() )\n",
    "\n",
    "\n",
    "print( date_obj1.year, date_obj2.year )"
   ]
  },
  {
   "cell_type": "markdown",
   "id": "9238bba6",
   "metadata": {},
   "source": [
    "<br>\n",
    "<div id= '1.2.2.3'></div>\n",
    "\n",
    "#### 1.2.2.3 Static Method<b>\n",
    "*[Go to top](#toc)* \n",
    "\n",
    "    - a function that does something useful but doesnt depends upon class and/or instances, dont operate on the instance or the class\n",
    "    - thus doesnt take instance or class as an argument\n",
    "    - Static Methods are mainly used for helper or utility functions that could as well live outside of the class, but make more sense when bundled into the class\n",
    "<br>"
   ]
  },
  {
   "cell_type": "code",
   "execution_count": 22,
   "id": "ddcc9ecd",
   "metadata": {},
   "outputs": [],
   "source": [
    "## staticmethod an alt constructor that accepts these hyphened-strings and creates an Employee object from EmployeeClass\n",
    "\n",
    "class EmployeeClass:\n",
    "  empNum_CVAR = 0    # number of employees that will be automatically managed\n",
    "  raiseAmt_CVAR = 1.04\n",
    "  \n",
    "  def __init__( self, first, last, pay ) -> None:\n",
    "    self.first, self.last  =  first, last\n",
    "    self.email = f'{first}.{last}@gmail.com'\n",
    "    self.pay = pay\n",
    "    EmployeeClass.empNum_CVAR = EmployeeClass.empNum_CVAR + 1     \n",
    "    \n",
    "  def get_fullname( self ):                             #  <-- REGULAR METHOD\n",
    "    return(  f'{self.first} {self.last}'  )\n",
    "\n",
    "  def apply_raise( self ):\n",
    "    self.pay = int( self.pay * self.raiseAmt_CVAR )\n",
    "\n",
    "  @classmethod                                          # <-- CLASS METHOD\n",
    "  def set_raise_amt( cls, amt_val ):\n",
    "    cls.raiseAmt_CVAR = amt_val         \n",
    "    \n",
    "  @classmethod                                          # <-- CLASS METHOD\n",
    "  def from_str_altCnstr( cls, emp_str ):\n",
    "    fn, ln, pay = emp_str.split( '-' )\n",
    "    return(  cls( fn, ln, pay )  )\n",
    "\n",
    "  @staticmethod                                         # <-- STATIC METHOD\n",
    "  def is_Workday( day_val ):\n",
    "    return   False  if( day_val.weekday() == 5 or day_val.weekday() == 6 )  else  True"
   ]
  },
  {
   "cell_type": "code",
   "execution_count": 23,
   "id": "9804a733",
   "metadata": {},
   "outputs": [
    {
     "name": "stdout",
     "output_type": "stream",
     "text": [
      "2023-01-01\n",
      "False\n"
     ]
    }
   ],
   "source": [
    "import datetime\n",
    "\n",
    "date1 = datetime.date( 2023, 1, 1 );    print(date1)\n",
    "\n",
    "print(  EmployeeClass.is_Workday( date1 )  )"
   ]
  },
  {
   "cell_type": "markdown",
   "id": "c5e4184d",
   "metadata": {},
   "source": [
    "<br>\n",
    "<div id= '1.2.3'>\n",
    "    <h3>1.2.3 - Class Inheritance</h3>     \n",
    "</div>\n",
    "\n",
    "*[Go to top](#toc)*"
   ]
  },
  {
   "cell_type": "code",
   "execution_count": 24,
   "id": "024b946a",
   "metadata": {},
   "outputs": [],
   "source": [
    "class EmployeeClass:\n",
    "  empNum_CVAR = 0   \n",
    "  raiseAmt_CVAR = 1.04\n",
    "  \n",
    "  def __init__( self, first, last, pay ) -> None:\n",
    "    self.first, self.last  =  first, last\n",
    "    self.email = f'{first}.{last}@gmail.com'\n",
    "    self.pay = pay\n",
    "    EmployeeClass.empNum_CVAR = EmployeeClass.empNum_CVAR + 1     \n",
    "    \n",
    "  def apply_raise( self ):\n",
    "    self.pay = int( self.pay * self.raiseAmt_CVAR )\n",
    "\n",
    "  @classmethod                                         \n",
    "  def set_raise_amt( cls, amt_val ):\n",
    "    cls.raiseAmt_CVAR = amt_val         \n",
    "    \n",
    "class DeveloperClass( EmployeeClass ):\n",
    "  pass\n",
    "\n",
    "class SeniorDevClass( DeveloperClass ):\n",
    "  pass"
   ]
  },
  {
   "cell_type": "code",
   "execution_count": 25,
   "id": "af586399",
   "metadata": {},
   "outputs": [
    {
     "data": {
      "text/plain": [
       "'Rabi.Sharma@gmail.com'"
      ]
     },
     "execution_count": 25,
     "metadata": {},
     "output_type": "execute_result"
    }
   ],
   "source": [
    "dev1 = DeveloperClass( 'Rabi', 'Sharma', 10000 )\n",
    "dev1.email"
   ]
  },
  {
   "cell_type": "code",
   "execution_count": 26,
   "id": "78a1d5b7",
   "metadata": {},
   "outputs": [
    {
     "name": "stdout",
     "output_type": "stream",
     "text": [
      "Help on class DeveloperClass in module __main__:\n",
      "\n",
      "class DeveloperClass(EmployeeClass)\n",
      " |  DeveloperClass(first, last, pay) -> None\n",
      " |  \n",
      " |  Method resolution order:\n",
      " |      DeveloperClass\n",
      " |      EmployeeClass\n",
      " |      builtins.object\n",
      " |  \n",
      " |  Methods inherited from EmployeeClass:\n",
      " |  \n",
      " |  __init__(self, first, last, pay) -> None\n",
      " |      Initialize self.  See help(type(self)) for accurate signature.\n",
      " |  \n",
      " |  apply_raise(self)\n",
      " |  \n",
      " |  ----------------------------------------------------------------------\n",
      " |  Class methods inherited from EmployeeClass:\n",
      " |  \n",
      " |  set_raise_amt(amt_val) from builtins.type\n",
      " |  \n",
      " |  ----------------------------------------------------------------------\n",
      " |  Data descriptors inherited from EmployeeClass:\n",
      " |  \n",
      " |  __dict__\n",
      " |      dictionary for instance variables (if defined)\n",
      " |  \n",
      " |  __weakref__\n",
      " |      list of weak references to the object (if defined)\n",
      " |  \n",
      " |  ----------------------------------------------------------------------\n",
      " |  Data and other attributes inherited from EmployeeClass:\n",
      " |  \n",
      " |  empNum_CVAR = 1\n",
      " |  \n",
      " |  raiseAmt_CVAR = 1.04\n",
      "\n",
      "None\n"
     ]
    }
   ],
   "source": [
    "print( help(DeveloperClass) )"
   ]
  },
  {
   "cell_type": "code",
   "execution_count": 27,
   "id": "6b93ec14",
   "metadata": {},
   "outputs": [
    {
     "name": "stdout",
     "output_type": "stream",
     "text": [
      "Kabi.Sharma@gmail.com\n",
      "Help on class SeniorDevClass in module __main__:\n",
      "\n",
      "class SeniorDevClass(DeveloperClass)\n",
      " |  SeniorDevClass(first, last, pay) -> None\n",
      " |  \n",
      " |  Method resolution order:\n",
      " |      SeniorDevClass\n",
      " |      DeveloperClass\n",
      " |      EmployeeClass\n",
      " |      builtins.object\n",
      " |  \n",
      " |  Methods inherited from EmployeeClass:\n",
      " |  \n",
      " |  __init__(self, first, last, pay) -> None\n",
      " |      Initialize self.  See help(type(self)) for accurate signature.\n",
      " |  \n",
      " |  apply_raise(self)\n",
      " |  \n",
      " |  ----------------------------------------------------------------------\n",
      " |  Class methods inherited from EmployeeClass:\n",
      " |  \n",
      " |  set_raise_amt(amt_val) from builtins.type\n",
      " |  \n",
      " |  ----------------------------------------------------------------------\n",
      " |  Data descriptors inherited from EmployeeClass:\n",
      " |  \n",
      " |  __dict__\n",
      " |      dictionary for instance variables (if defined)\n",
      " |  \n",
      " |  __weakref__\n",
      " |      list of weak references to the object (if defined)\n",
      " |  \n",
      " |  ----------------------------------------------------------------------\n",
      " |  Data and other attributes inherited from EmployeeClass:\n",
      " |  \n",
      " |  empNum_CVAR = 2\n",
      " |  \n",
      " |  raiseAmt_CVAR = 1.04\n",
      "\n",
      "None\n"
     ]
    }
   ],
   "source": [
    "dev2 = SeniorDevClass( 'Kabi', 'Sharma', 15000 )\n",
    "print( dev2.email )\n",
    "\n",
    "print( help(SeniorDevClass) )"
   ]
  },
  {
   "cell_type": "code",
   "execution_count": 28,
   "id": "7906fc46",
   "metadata": {},
   "outputs": [
    {
     "name": "stdout",
     "output_type": "stream",
     "text": [
      "{'__module__': '__main__', '__doc__': None} \n",
      "\n",
      "\n"
     ]
    },
    {
     "data": {
      "text/plain": [
       "mappingproxy({'__module__': '__main__',\n",
       "              'empNum_CVAR': 2,\n",
       "              'raiseAmt_CVAR': 1.04,\n",
       "              '__init__': <function __main__.EmployeeClass.__init__(self, first, last, pay) -> None>,\n",
       "              'apply_raise': <function __main__.EmployeeClass.apply_raise(self)>,\n",
       "              'set_raise_amt': <classmethod at 0x1c580193760>,\n",
       "              '__dict__': <attribute '__dict__' of 'EmployeeClass' objects>,\n",
       "              '__weakref__': <attribute '__weakref__' of 'EmployeeClass' objects>,\n",
       "              '__doc__': None})"
      ]
     },
     "execution_count": 28,
     "metadata": {},
     "output_type": "execute_result"
    }
   ],
   "source": [
    "print( SeniorDevClass.__dict__, '\\n\\n' )\n",
    "EmployeeClass.__dict__"
   ]
  },
  {
   "cell_type": "code",
   "execution_count": 29,
   "id": "f6189744",
   "metadata": {},
   "outputs": [
    {
     "name": "stdout",
     "output_type": "stream",
     "text": [
      "10000\n",
      "11000\n"
     ]
    }
   ],
   "source": [
    "# have a different value for a raise amount (a class variable) in Developer class\n",
    "\n",
    "class DeveloperClass( EmployeeClass ):\n",
    "  raiseAmt_CVAR = 1.10\n",
    "\n",
    "dev1 = DeveloperClass( 'Rabi', 'Sharma', 10000 )\n",
    "\n",
    "print( dev1.pay )\n",
    "dev1.apply_raise()\n",
    "print( dev1.pay )"
   ]
  },
  {
   "cell_type": "code",
   "execution_count": 30,
   "id": "58a39b3c",
   "metadata": {},
   "outputs": [
    {
     "name": "stdout",
     "output_type": "stream",
     "text": [
      "10000\n",
      "10400\n"
     ]
    }
   ],
   "source": [
    "emp1 = EmployeeClass( 'Rabi', 'Sharma', 10000 )\n",
    "print( emp1.pay )\n",
    "emp1.apply_raise()\n",
    "print( emp1.pay )"
   ]
  },
  {
   "cell_type": "markdown",
   "id": "be54d77e",
   "metadata": {},
   "source": [
    "##### having additional arguments in the child class than the parent class"
   ]
  },
  {
   "cell_type": "code",
   "execution_count": 31,
   "id": "ff3203c1",
   "metadata": {},
   "outputs": [],
   "source": [
    "class EmployeeClass:\n",
    "  empNum_CVAR = 0   \n",
    "  raiseAmt_CVAR = 1.04\n",
    "  \n",
    "  def __init__( self, first, last, pay ) -> None:\n",
    "    self.first, self.last  =  first, last\n",
    "    self.email = f'{first}.{last}@gmail.com'\n",
    "    self.pay = pay\n",
    "    EmployeeClass.empNum_CVAR = EmployeeClass.empNum_CVAR + 1     \n",
    "    \n",
    "  def apply_raise( self ):\n",
    "    self.pay = int( self.pay * self.raiseAmt_CVAR )\n",
    "\n",
    "  @classmethod                                         \n",
    "  def set_raise_amt( cls, amt_val ):\n",
    "    cls.raiseAmt_CVAR = amt_val         "
   ]
  },
  {
   "cell_type": "code",
   "execution_count": 32,
   "id": "77123886",
   "metadata": {},
   "outputs": [],
   "source": [
    "# having more argument in the child class\n",
    "\n",
    "class DeveloperClass( EmployeeClass ):\n",
    "\n",
    "  def __init__(self, first, last, paym, progLang) -> None:\n",
    "    super().__init__( first, last, pay )                           # parent constructor need to be called, Self is for both DeveloperClass & EmployeeClass\n",
    "    self.prog_lang = progLang\n"
   ]
  },
  {
   "cell_type": "code",
   "execution_count": 33,
   "id": "a58b5ce0",
   "metadata": {},
   "outputs": [
    {
     "name": "stdout",
     "output_type": "stream",
     "text": [
      "Rabi.Sharma@gmail.com Python\n"
     ]
    }
   ],
   "source": [
    "dev1 = DeveloperClass( 'Rabi', 'Sharma',  10000, 'Python' )\n",
    "dev2 = DeveloperClass( 'Kavi', 'Devkota', 10000, 'Java'   )\n",
    "\n",
    "print( dev1.email, dev1.prog_lang )"
   ]
  },
  {
   "cell_type": "markdown",
   "id": "2dcee84d",
   "metadata": {},
   "source": [
    "<br>\n",
    "\n",
    "##### Creating more complex Subclass that accepts object"
   ]
  },
  {
   "cell_type": "code",
   "execution_count": 34,
   "id": "4eab57c3",
   "metadata": {},
   "outputs": [],
   "source": [
    "# previous code\n",
    "\n",
    "class EmployeeClass:\n",
    "  empNum_CVAR = 0   \n",
    "  raiseAmt_CVAR = 1.04\n",
    "  \n",
    "  def __init__( self, first, last, pay ) -> None:\n",
    "    self.first, self.last  =  first, last\n",
    "    self.email = f'{first}.{last}@gmail.com'\n",
    "    self.pay = pay\n",
    "    EmployeeClass.empNum_CVAR = EmployeeClass.empNum_CVAR + 1     \n",
    "    \n",
    "  def apply_raise( self ):\n",
    "    self.pay = int( self.pay * self.raiseAmt_CVAR )\n",
    "\n",
    "  def get_fullname( self ):                             #  <-- REGULAR METHOD\n",
    "    return(  f'{self.first} {self.last}'  )\n",
    "\n",
    "  @classmethod                                         \n",
    "  def set_raise_amt( cls, amt_val ):\n",
    "    cls.raiseAmt_CVAR = amt_val         \n",
    "\n",
    "\n",
    "class DeveloperClass( EmployeeClass ):\n",
    "\n",
    "  def __init__(self, first, last, paym, progLang) -> None:\n",
    "    super().__init__( first, last, pay )                           # parent constructor need to be called, Self is for both DeveloperClass & EmployeeClass\n",
    "    self.prog_lang = progLang"
   ]
  },
  {
   "cell_type": "code",
   "execution_count": 40,
   "id": "09a9f152",
   "metadata": {},
   "outputs": [],
   "source": [
    "class ManagerClass( EmployeeClass ):\n",
    "\n",
    "  def __init__( self, first, last, pay, employeeObj_ls = None ) -> None:\n",
    "    super().__init__(first, last, pay)\n",
    "    if employeeObj_ls is None:  self.employeeObj_ls = []\n",
    "    else:  self.employeeObj_ls = employeeObj_ls\n",
    "\n",
    "  def add_emp( self, emp_obj ):\n",
    "    if emp_obj not in self.employeeObj_ls:  self.employeeObj_ls.append(emp_obj)\n",
    "\n",
    "  def remove_emp( self, emp_obj ):\n",
    "    if emp_obj in self.employeeObj_ls:  self.employeeObj_ls.remove(emp_obj)\n",
    "\n",
    "  def list_all_emp( self ):\n",
    "    [   print( f'--> {e_empObj.get_fullname()}' )  for e_empObj in self.employeeObj_ls   ];"
   ]
  },
  {
   "cell_type": "code",
   "execution_count": 45,
   "id": "8b56ce0a",
   "metadata": {},
   "outputs": [
    {
     "name": "stdout",
     "output_type": "stream",
     "text": [
      "--> Rabi Sharma\n",
      "--> Kavi Devkota\n"
     ]
    }
   ],
   "source": [
    "dev1 = DeveloperClass( 'Rabi', 'Sharma',  10000, 'Python' )\n",
    "dev2 = DeveloperClass( 'Kavi', 'Devkota', 10000, 'Java'   )\n",
    "\n",
    "mgr1 = ManagerClass( 'Nsichal', 'Dahal', 8000, employeeObj_ls= [dev1,dev2]  )\n",
    "\n",
    "mgr1.list_all_emp()\n"
   ]
  },
  {
   "cell_type": "code",
   "execution_count": 46,
   "id": "53d3190c",
   "metadata": {},
   "outputs": [],
   "source": [
    "dev3 = DeveloperClass( 'Roshan', 'Sapkota', 10000, 'pHp'   )\n",
    "dev4 = DeveloperClass( 'Hari', 'Poudyal', 7000, 'Ruby'   )"
   ]
  },
  {
   "cell_type": "code",
   "execution_count": 47,
   "id": "efeab130",
   "metadata": {},
   "outputs": [
    {
     "name": "stdout",
     "output_type": "stream",
     "text": [
      "--> Rabi Sharma\n",
      "--> Kavi Devkota\n",
      "\n",
      "\n",
      "--> Rabi Sharma\n",
      "--> Kavi Devkota\n",
      "--> Roshan Sapkota\n"
     ]
    }
   ],
   "source": [
    "mgr1.list_all_emp()\n",
    "mgr1.add_emp( dev3 );     print( '\\n' )\n",
    "mgr1.list_all_emp()"
   ]
  },
  {
   "cell_type": "code",
   "execution_count": 50,
   "id": "9ba2d1c9",
   "metadata": {},
   "outputs": [
    {
     "name": "stdout",
     "output_type": "stream",
     "text": [
      "--> Kavi Devkota\n",
      "--> Roshan Sapkota\n"
     ]
    }
   ],
   "source": [
    "mgr1.remove_emp( dev1 )\n",
    "mgr1.list_all_emp()"
   ]
  },
  {
   "cell_type": "markdown",
   "id": "faae1648",
   "metadata": {},
   "source": [
    "`isinstance(  )` \n",
    "\n",
    "`issubclass( )`"
   ]
  },
  {
   "cell_type": "code",
   "execution_count": 51,
   "id": "e61300a9",
   "metadata": {},
   "outputs": [
    {
     "name": "stdout",
     "output_type": "stream",
     "text": [
      "True \n",
      " True \n",
      " True \n",
      " True \n",
      " False \n",
      "\n"
     ]
    }
   ],
   "source": [
    "print(  isinstance( mgr1, ManagerClass ), '\\n',\n",
    "isinstance( mgr1, EmployeeClass ), '\\n',\n",
    "issubclass( DeveloperClass, EmployeeClass ), '\\n',\n",
    "issubclass( ManagerClass, EmployeeClass ),'\\n',\n",
    "issubclass( ManagerClass, DeveloperClass ),'\\n',\n",
    "  )"
   ]
  },
  {
   "cell_type": "code",
   "execution_count": 159,
   "id": "8557d8f5",
   "metadata": {},
   "outputs": [],
   "source": [
    "## Child and parent's class\n",
    "\n",
    "class BankAc:  # parent class\n",
    "\n",
    "    def __init__( self, balance ):\n",
    "        self.balance = balance\n",
    "\n",
    "    def withdraw( self, withdraw_amt ):\n",
    "        self.balance -= withdraw_amt\n",
    "\n",
    "class SavingAc( BankAc ):  # class inherted from BankAcc: subclass\n",
    "    pass"
   ]
  },
  {
   "cell_type": "code",
   "execution_count": 133,
   "id": "0f50b16b",
   "metadata": {},
   "outputs": [
    {
     "name": "stdout",
     "output_type": "stream",
     "text": [
      "1000\n",
      "800\n"
     ]
    }
   ],
   "source": [
    "sa1 = SavingAc( 1000 )\n",
    "print( sa1.balance )\n",
    "\n",
    "sa1.withdraw( 200 )\n",
    "print( sa1.balance )"
   ]
  },
  {
   "cell_type": "code",
   "execution_count": 136,
   "id": "a12e4ee3",
   "metadata": {},
   "outputs": [
    {
     "data": {
      "text/plain": [
       "(True, True)"
      ]
     },
     "execution_count": 136,
     "metadata": {},
     "output_type": "execute_result"
    }
   ],
   "source": [
    "isinstance( sa1, SavingAc ), isinstance( sa1, BankAc )   # both True"
   ]
  },
  {
   "cell_type": "code",
   "execution_count": 137,
   "id": "4ec313a4",
   "metadata": {},
   "outputs": [
    {
     "data": {
      "text/plain": [
       "(False, True)"
      ]
     },
     "execution_count": 137,
     "metadata": {},
     "output_type": "execute_result"
    }
   ],
   "source": [
    "ba1 = BankAc( 2000 )\n",
    "isinstance( ba1, SavingAc ), isinstance( ba1, BankAc )   # both not True"
   ]
  },
  {
   "cell_type": "markdown",
   "id": "55bf9b48",
   "metadata": {},
   "source": [
    "<br>\n",
    "<div id= '1.2.4'>\n",
    "    <h3>1.2.4 - Customizing functionality via Inheritance</h3>     \n",
    "</div>\n",
    "\n",
    "*[Go to top](#toc)*"
   ]
  },
  {
   "cell_type": "code",
   "execution_count": 81,
   "id": "9ab6af3f",
   "metadata": {},
   "outputs": [],
   "source": [
    "## Child and parent's class\n",
    "\n",
    "class BankAcClass:  # parent class\n",
    "    def __init__( self, balance ):\n",
    "        self.balance = balance\n",
    "    def withdraw( self, withdraw_amt ):\n",
    "        self.balance -= withdraw_amt"
   ]
  },
  {
   "cell_type": "code",
   "execution_count": 82,
   "id": "4c566eb3",
   "metadata": {},
   "outputs": [],
   "source": [
    "class SavingAcClass( BankAcClass ):\n",
    "    # constructor specifically for SavingAc with additional attribs\n",
    "    def __init__( self, balance_val, interestRate_val ):\n",
    "        BankAcClass.__init__( self, balance_val )   # parent constructor need to be called, Self is for both BankAc & SavingAc\n",
    "        # additional new attribs\n",
    "        self.interest_rate = interestRate_val"
   ]
  },
  {
   "cell_type": "code",
   "execution_count": 156,
   "id": "d727985d",
   "metadata": {},
   "outputs": [
    {
     "data": {
      "text/plain": [
       "(1000, 0.03)"
      ]
     },
     "execution_count": 156,
     "metadata": {},
     "output_type": "execute_result"
    }
   ],
   "source": [
    "sc1 = SavingAcClass( 1000, 3/100 )\n",
    "sc1.balance, sc1.interest_rate"
   ]
  },
  {
   "cell_type": "markdown",
   "id": "7ae3ff39",
   "metadata": {},
   "source": [
    "Add methods to a subclass"
   ]
  },
  {
   "cell_type": "code",
   "execution_count": 162,
   "id": "eeb75555",
   "metadata": {},
   "outputs": [],
   "source": [
    "class SavingAc( BankAc ):\n",
    "    def __init__( self, balance, interestRate_val ):\n",
    "        BankAc.__init__( self, balance )\n",
    "        self.interest_rate = interestRate_val\n",
    "    # additional new methods\n",
    "    def compute_interest( self, n_period= 1 ):\n",
    "        interest_amt = self.balance * (  (1+self.interest_rate)**n_period - 1  )\n",
    "        return( interest_amt )"
   ]
  },
  {
   "cell_type": "code",
   "execution_count": 163,
   "id": "dfd300c5",
   "metadata": {},
   "outputs": [
    {
     "data": {
      "text/plain": [
       "(1000, 0.03)"
      ]
     },
     "execution_count": 163,
     "metadata": {},
     "output_type": "execute_result"
    }
   ],
   "source": [
    "sc1 = SavingAc( 1000, 3/100 )\n",
    "sc1.balance, sc1.interest_rate"
   ]
  },
  {
   "cell_type": "code",
   "execution_count": 164,
   "id": "aea5f4b7",
   "metadata": {},
   "outputs": [
    {
     "data": {
      "text/plain": [
       "92.727"
      ]
     },
     "execution_count": 164,
     "metadata": {},
     "output_type": "execute_result"
    }
   ],
   "source": [
    "sc1.compute_interest( 3 )"
   ]
  },
  {
   "cell_type": "code",
   "execution_count": 166,
   "id": "5758fead",
   "metadata": {},
   "outputs": [
    {
     "data": {
      "text/plain": [
       "700"
      ]
     },
     "execution_count": 166,
     "metadata": {},
     "output_type": "execute_result"
    }
   ],
   "source": [
    "sc1.withdraw( 300 )\n",
    "sc1.balance"
   ]
  },
  {
   "cell_type": "markdown",
   "id": "b9d6a0b8",
   "metadata": {},
   "source": [
    "Enhance existing functionality"
   ]
  },
  {
   "cell_type": "code",
   "execution_count": null,
   "id": "5ed090a2",
   "metadata": {},
   "outputs": [],
   "source": [
    "# same a previous\n",
    "class BankAc:  # parent class\n",
    "    def __init__( self, balance ):\n",
    "        self.balance = balance\n",
    "    def withdraw( self, withdraw_amt ):\n",
    "        self.balance = self.balance - withdraw_amt"
   ]
  },
  {
   "cell_type": "code",
   "execution_count": 179,
   "id": "099d7d83",
   "metadata": {},
   "outputs": [],
   "source": [
    "class CheckingAc( BankAc ):\n",
    "    def __init__( self, balance, limit_val ):\n",
    "        # super().__init__( self, balance )\n",
    "        BankAc.__init__( self, balance )\n",
    "        self.limit = limit_val\n",
    "    def deposit( self, deposit_amt ):\n",
    "        self.balance += deposit_amt\n",
    "    def withdraw( self, withdraw_amt, fee= 0 ):\n",
    "        if( fee <= self.limit):  BankAc.withdraw( self, withdraw_amt= withdraw_amt + fee )\n",
    "        else:  BankAc.withdraw( self, withdraw_amt= withdraw_amt + self.limit )"
   ]
  },
  {
   "cell_type": "code",
   "execution_count": 185,
   "id": "1a3bd431",
   "metadata": {},
   "outputs": [
    {
     "name": "stdout",
     "output_type": "stream",
     "text": [
      "1000\n",
      "380\n"
     ]
    }
   ],
   "source": [
    "ca1 = CheckingAc( 1000, 100 )\n",
    "print( ca1.balance )\n",
    "ca1.withdraw( 600, fee= 20 )   # CheckingAc \"enhanced\" withdrawn method will be used\n",
    "print( ca1.balance )"
   ]
  },
  {
   "cell_type": "code",
   "execution_count": 186,
   "id": "101c0690",
   "metadata": {},
   "outputs": [
    {
     "name": "stdout",
     "output_type": "stream",
     "text": [
      "1000\n",
      "400\n"
     ]
    }
   ],
   "source": [
    "ba1 = BankAc( 1000 )\n",
    "print( ba1.balance )\n",
    "ba1.withdraw( 600 )     # BankAc generixc withdrawn method will be used\n",
    "print( ba1.balance )"
   ]
  },
  {
   "cell_type": "code",
   "execution_count": 178,
   "id": "83c4b407",
   "metadata": {},
   "outputs": [
    {
     "name": "stdout",
     "output_type": "stream",
     "text": [
      "-600\n"
     ]
    }
   ],
   "source": [
    "print( ca1.balance )"
   ]
  },
  {
   "cell_type": "code",
   "execution_count": null,
   "id": "407b57dd",
   "metadata": {},
   "outputs": [],
   "source": [
    "class Employee:\n",
    "    def __init__(self, name, salary=30000):\n",
    "        self.name = name\n",
    "        self.salary = salary\n",
    "\n",
    "    def give_raise(self, amount):\n",
    "        self.salary += amount\n",
    "\n",
    "        \n",
    "class Manager(Employee):\n",
    "    def display( self ):\n",
    "        print(\"Manager \", self.name)\n",
    "\n",
    "    def __init__(self, name, salary=50000, project=None):\n",
    "        Employee.__init__(self, name, salary)\n",
    "        self.project = project\n",
    "\n",
    "    # Add a give_raise method\n",
    "    def give_raise( self, amount, bonus= 1.05 ):\n",
    "        new_amount =   amount * bonus\n",
    "        Employee.give_raise( self, new_amount )\n",
    "    \n",
    "    \n",
    "mngr = Manager(\"Ashta Dunbar\", 78500)\n",
    "mngr.give_raise(1000)\n",
    "print(mngr.salary)\n",
    "mngr.give_raise(2000, bonus=1.03)\n",
    "print(mngr.salary)"
   ]
  },
  {
   "cell_type": "markdown",
   "id": "efb4dca2",
   "metadata": {},
   "source": [
    "OR in simple terms"
   ]
  },
  {
   "cell_type": "code",
   "execution_count": 97,
   "id": "c7190ea1",
   "metadata": {},
   "outputs": [
    {
     "name": "stdout",
     "output_type": "stream",
     "text": [
      "ChildClass --> Ashta Dunbar\n",
      "78500\n",
      "78500\n"
     ]
    }
   ],
   "source": [
    "class ParentClass:\n",
    "    def __init__( obj, name, salary= 30000 ):\n",
    "        obj.name, obj.salary = name, salary\n",
    "\n",
    "    def give_raise( obj, amount ):\n",
    "        obj.salary += amount\n",
    "\n",
    "        \n",
    "class ChildClass(ParentClass):\n",
    "    def display( obj ):\n",
    "        print( f'ChildClass --> {obj.name}' )\n",
    "\n",
    "    def __init__( obj, name, salary= 50000, project= None ):\n",
    "        ParentClass.__init__( obj, name, salary )\n",
    "        obj.project_childAttrib = project\n",
    "\n",
    "    # Add a give_raise method\n",
    "    def give_raise( obj, amount, bonus= 1.05 ):\n",
    "        new_amount =   amount * bonus\n",
    "        ParentClass.give_raise( obj, new_amount )\n",
    "    \n",
    "    \n",
    "childObj = ChildClass(\"Ashta Dunbar\", 78500)\n",
    "childObj.display()\n",
    "\n",
    "mngr.give_raise(1000)\n",
    "print(childObj.salary)\n",
    "\n",
    "mngr.give_raise(2000, bonus=1.03)\n",
    "print(childObj.salary)"
   ]
  },
  {
   "cell_type": "markdown",
   "id": "869de801",
   "metadata": {},
   "source": [
    "<br>\n",
    "\n",
    "### Customizing a DataFrame\n",
    "\n",
    "Let's say that in our company, any data has to come with a timestamp recording when the dataset was created, to make sure that outdated information is not being used. We would like to use pandas DataFrames for processing data, but we would need to customize the class to allow for the use of timestamps.\n",
    "\n",
    "In this exercise, we will implement a small `LoggedDF` class that inherits from a regular pandas DataFrame but has a `created_at` attribute storing the timestamp. We will then augment the standard `to_csv()` method to always include a column storing the creation date.\n",
    "\n",
    "<i> Tip: all DataFrame methods have many parameters, and it is not sustainable to copy all of them for each method we're customizing. The trick is to use variable-length arguments `*args` and `**kwargs` to\n",
    " catch all of them.</i>"
   ]
  },
  {
   "cell_type": "code",
   "execution_count": 280,
   "id": "ce9a3021",
   "metadata": {},
   "outputs": [],
   "source": [
    "# Define LoggedDF inherited from pd.DataFrame and add the constructor\n",
    "class LoggedDF_class( pd.DataFrame ):\n",
    "  def __init__( self, *args, **kwargs ) -> None:   # all DataFrame methods have many parameters, and it is not sustainable to copy all of them for each method we're customizing, thus, we are passing variable-length arguments `*args` and `**kwargs`.\n",
    "    pd.DataFrame.__init__( self, *args, **kwargs )\n",
    "    self.creation_dt = datetime.datetime.today()"
   ]
  },
  {
   "cell_type": "code",
   "execution_count": 285,
   "id": "ec4ee915",
   "metadata": {},
   "outputs": [
    {
     "name": "stdout",
     "output_type": "stream",
     "text": [
      "   col1  col2\n",
      "0     1     3\n",
      "1     2     4 \n",
      "\n",
      "2023-01-02 17:30:01.652194\n"
     ]
    }
   ],
   "source": [
    "logged_df1 = LoggedDF_class(   { 'col1': [1,2],\n",
    "                                 'col2': [3,4 ] }   )\n",
    "print( logged_df1, '\\n' )\n",
    "print( logged_df1.creation_dt )"
   ]
  },
  {
   "cell_type": "markdown",
   "id": "386d3cea",
   "metadata": {},
   "source": [
    "let's modify existing methods - `to_csv( )` inside our borrowed Class"
   ]
  },
  {
   "cell_type": "code",
   "execution_count": 287,
   "id": "d76c479e",
   "metadata": {},
   "outputs": [
    {
     "data": {
      "text/plain": [
       "\"\\nNotice how in the very last line, you called the parent method and passed an object to it that isn't self. When you call parent methods in the class, they should accept some object as the first argument, and that object is usually self, but it doesn't have to be!\\n\""
      ]
     },
     "execution_count": 287,
     "metadata": {},
     "output_type": "execute_result"
    }
   ],
   "source": [
    "class LoggedDF_class( pd.DataFrame ):\n",
    "\n",
    "  def __init__( self, *args, **kwarg ) -> None:\n",
    "    pd.DataFrame.__init__( self, *args, **kwarg )\n",
    "    self.creation_dt = datetime.datetime.today()\n",
    "\n",
    "  def to_csv( self,  *args, **kwarg ):\n",
    "    # Copy self to a temporary DataFrame\n",
    "    temp_df = self.copy()\n",
    "    # Create a new column filled with self.creation_dt\n",
    "    temp_df[ 'creation_date' ] = self.creation_dt\n",
    "    # Call pd.DataFrame.to_csv on temp_df, passing in *args and **kwargs\n",
    "    pd.DataFrame.to_csv( temp_df, *args, **kwarg )\n",
    "\n",
    "\"\"\"\n",
    "Notice how in the very last line, we called the parent method and passed an object to it that isn't self. When we call parent methods in the class, they should accept some object as the first argument, and that object is usually self, but it doesn't have to be!\n",
    "\"\"\"\n",
    "  "
   ]
  },
  {
   "cell_type": "markdown",
   "id": "5f48f797",
   "metadata": {},
   "source": [
    "<br>\n",
    "<div id= '1.2.5'>\n",
    "    <h3>1.2.5 -  Property Decorators - Getters, Setters, and Deleters</h3>     \n",
    "</div>\n",
    "\n",
    "*[Go to top](#toc)*"
   ]
  },
  {
   "cell_type": "code",
   "execution_count": 13,
   "id": "139a6092",
   "metadata": {},
   "outputs": [],
   "source": [
    "# previous code\n",
    "\n",
    "class EmployeeClass:\n",
    "  empNum_CVAR = 0   ;    raiseAmt_CVAR = 1.04\n",
    "  \n",
    "  def __init__( self, first, last, pay ) -> None:\n",
    "    self.first, self.last  =  first, last\n",
    "    self.email = f'{first}.{last}@gmail.com'\n",
    "    EmployeeClass.empNum_CVAR = EmployeeClass.empNum_CVAR + 1     \n",
    "    \n",
    "  def get_fullname( self ):                             \n",
    "    return(  f'{self.first} {self.last}'  )     "
   ]
  },
  {
   "cell_type": "code",
   "execution_count": 15,
   "id": "9bab105f",
   "metadata": {},
   "outputs": [
    {
     "name": "stdout",
     "output_type": "stream",
     "text": [
      "Rabi Sharma Rabi.Sharma@gmail.com\n",
      "Shyam Sharma Rabi.Sharma@gmail.com\n"
     ]
    },
    {
     "data": {
      "text/plain": [
       "'See how the email is not updated even after name is updated!'"
      ]
     },
     "execution_count": 15,
     "metadata": {},
     "output_type": "execute_result"
    }
   ],
   "source": [
    "emp1 = EmployeeClass( 'Rabi', 'Sharma', 10000 )\n",
    "print( emp1.get_fullname(), emp1.email )\n",
    "\n",
    "emp1.first = 'Shyam'\n",
    "print( emp1.get_fullname(), emp1.email )\n",
    "\n",
    "'''See how the email is not updated even after name is updated!'''"
   ]
  },
  {
   "cell_type": "code",
   "execution_count": 53,
   "id": "ba8245f7",
   "metadata": {},
   "outputs": [],
   "source": [
    "# By using Property Decorators, we can access method as an attrib\n",
    "\n",
    "class EmployeeClass:\n",
    "  empNum_CVAR = 0   ;    raiseAmt_CVAR = 1.04\n",
    "  \n",
    "  def __init__( self, first, last, pay ) -> None:\n",
    "    self.first, self.last  =  first, last\n",
    "    EmployeeClass.empNum_CVAR = EmployeeClass.empNum_CVAR + 1     \n",
    "    \n",
    "  @property\n",
    "  def email( self ):\n",
    "    return( f'{self.first}.{self.last}@gmail.com' )\n",
    "\n",
    "  @property\n",
    "  def fullname( self ):                             \n",
    "    return(  f'{self.first} {self.last}'  )     "
   ]
  },
  {
   "cell_type": "code",
   "execution_count": 54,
   "id": "bf668784",
   "metadata": {},
   "outputs": [
    {
     "name": "stdout",
     "output_type": "stream",
     "text": [
      "Rabi.Sharma@gmail.com\n",
      "Rabi Sharma\n"
     ]
    }
   ],
   "source": [
    "emp1 = EmployeeClass( 'Rabi', 'Sharma', 10000 )\n",
    "print( emp1.email )      # instead of emp1.email()\n",
    "\n",
    "# before propert decorator\n",
    "# print( emp1.get_fullname() )\n",
    "print( emp1.fullname )\n",
    "\n",
    "# for now we cannot use email() OR fullname() as a setter (only as a getter)\n",
    "# emp1.fullname = 'Hari Bahadur'   # --> AttributeError: can't set attribute 'fullname'"
   ]
  },
  {
   "cell_type": "markdown",
   "id": "ff37a3c7",
   "metadata": {},
   "source": [
    "##### Using method as a `setter` (inaddition to being a getter)"
   ]
  },
  {
   "cell_type": "code",
   "execution_count": 55,
   "id": "00943237",
   "metadata": {},
   "outputs": [],
   "source": [
    "class EmployeeClass:\n",
    "\n",
    "  def __init__( self, first, last, salary ) -> None:\n",
    "    self.first, self.last, self.salary  =  first, last, salary\n",
    "\n",
    "  @property\n",
    "  def email( self ):\n",
    "    return( f'{self.first}.{self.last}@gmail.com' )\n",
    "\n",
    "  # using @property Decorator as a setter\n",
    "  @property\n",
    "  def fullname( self ):                             \n",
    "    return(  f'{self.first} {self.last}'  )     \n",
    "\n",
    "  @fullname.setter\n",
    "  def fullname( self, fullnm ):\n",
    "    self.first, self.last = fullnm.split(' ')"
   ]
  },
  {
   "cell_type": "code",
   "execution_count": 21,
   "id": "a05d63e5",
   "metadata": {},
   "outputs": [
    {
     "name": "stdout",
     "output_type": "stream",
     "text": [
      "Rabi, Rabi.Sharma@gmail.com\n",
      "Fullname is being used as a getter \t--> \tRabi Sharma\n",
      "\n",
      "Fullname is being used as a setter \t-->\n",
      "Hari, Hari.Bahadur@gmail.com\n"
     ]
    }
   ],
   "source": [
    "emp1 = EmployeeClass( 'Rabi', 'Sharma', 10000 )\n",
    "print( f'{emp1.first}, {emp1.email}' )\n",
    "\n",
    "# and now use fullname as a getter\n",
    "print( f'Fullname is being used as a getter \\t--> \\t{emp1.fullname}\\n' )\n",
    "\n",
    "# now use fullname() as a setter\n",
    "print( f'Fullname is being used as a setter \\t-->' )\n",
    "emp1.fullname = 'Hari Bahadur' \n",
    "print( f'{emp1.first}, {emp1.email}' )"
   ]
  },
  {
   "cell_type": "markdown",
   "id": "364d01c6",
   "metadata": {},
   "source": [
    "##### `deleter`"
   ]
  },
  {
   "cell_type": "code",
   "execution_count": 57,
   "id": "41ed4680",
   "metadata": {},
   "outputs": [],
   "source": [
    "class EmployeeClass:\n",
    "\n",
    "  def __init__( self, first, last ) -> None:\n",
    "    self.first, self.last  =  first, last\n",
    "\n",
    "  @property\n",
    "  def email( self ):\n",
    "    return( f'{self.first}.{self.last}@gmail.com' )\n",
    "\n",
    "  # using @property Decorator as a deleter\n",
    "\n",
    "  @property\n",
    "  def fullname( self ):                             \n",
    "    return(  f'{self.first} {self.last}'  )     \n",
    "\n",
    "  @fullname.setter\n",
    "  def fullname( self, fullnm ):\n",
    "    self.first, self.last = fullnm.split(' ')\n",
    "\n",
    "  @fullname.deleter\n",
    "  def fullname( self ):\n",
    "    print( f'Delete Employees Name - {self.fullname}' )\n",
    "    self.first, self.last = None, None\n"
   ]
  },
  {
   "cell_type": "code",
   "execution_count": 58,
   "id": "53c08de2",
   "metadata": {},
   "outputs": [
    {
     "name": "stdout",
     "output_type": "stream",
     "text": [
      "Rabi, Rabi.Sharma@gmail.com\n",
      "\n",
      "Delete Employees Name - Rabi Sharma\n",
      "\n",
      "None, None.None@gmail.com, None None\n"
     ]
    }
   ],
   "source": [
    "emp1 = EmployeeClass( 'Rabi', 'Sharma' )\n",
    "print( f'{emp1.first}, {emp1.email}\\n' )\n",
    "\n",
    "# if executed prior to defining @fullname.deleter\n",
    "del emp1.fullname    # --> AttributeError: can't delete attribute 'fullname'\n",
    "print( f'\\n{emp1.first}, {emp1.email}, {emp1.fullname}' )\n"
   ]
  },
  {
   "cell_type": "code",
   "execution_count": 59,
   "id": "ad378b59",
   "metadata": {},
   "outputs": [
    {
     "data": {
      "text/plain": [
       "'None None'"
      ]
     },
     "execution_count": 59,
     "metadata": {},
     "output_type": "execute_result"
    }
   ],
   "source": [
    "emp1.fullname"
   ]
  },
  {
   "cell_type": "markdown",
   "id": "282285eb",
   "metadata": {},
   "source": [
    "<br><br>\n",
    "<div id= '1.3'>\n",
    "    <h2>Chapter 1.3 - Integrating with Standard Python</h2>\n",
    "</div>\n",
    "\n",
    "#### Key Concepts\n",
    "\n",
    "Learn how to:\n",
    "\n",
    "    - make sure that objects that store the same data are considered equal\n",
    "    - define and customize string representations of objects\n",
    "    - create new error types\n",
    "    - further customize classes to make them work more like standard Python data types\n",
    "\n",
    "<div id= '1.3.1'></div>\n",
    "\n",
    "#### 1.3.1 - Operator overloading: `Comparison`\n",
    "\n",
    "*[Go to top](#toc)*\n",
    "\n",
    "When comparing two objects of a custom class using `==`, Python by default compares just the object references, not the data contained in the objects. To override this behavior, the class can implement the special `__eq__()` method, which accepts two arguments -- the objects to be compared -- and returns `True` or `False`. This method will be implicitly called when two objects are compared."
   ]
  },
  {
   "cell_type": "code",
   "execution_count": 288,
   "id": "12244574",
   "metadata": {},
   "outputs": [],
   "source": [
    "class EmployeeClass:\n",
    "\n",
    "  def __init__( self, id, first, last ) -> None:\n",
    "    self.id, self.first, self.last  =  id, first, last"
   ]
  },
  {
   "cell_type": "code",
   "execution_count": 302,
   "id": "86cc05f7",
   "metadata": {},
   "outputs": [
    {
     "name": "stdout",
     "output_type": "stream",
     "text": [
      "True\n"
     ]
    }
   ],
   "source": [
    "emp1 = EmployeeClass( 123, 'Rabi', 'Sharma' )\n",
    "emp2 = EmployeeClass( 123, 'Rabi', 'Sharma' )\n",
    "print( emp1 == emp2 )"
   ]
  },
  {
   "cell_type": "code",
   "execution_count": 303,
   "id": "a2f24cfb",
   "metadata": {},
   "outputs": [
    {
     "name": "stdout",
     "output_type": "stream",
     "text": [
      "True\n"
     ]
    }
   ],
   "source": [
    "# but in np case, its True if both of them have same value\n",
    "np1 = np.array( [1,2,3] );   np2 = np.array( [1,2,3] )\n",
    "print( np.array_equal( np1, np2 ) )"
   ]
  },
  {
   "cell_type": "markdown",
   "id": "d9ee2d68",
   "metadata": {},
   "source": [
    "###### using `__eq__` for object comparison"
   ]
  },
  {
   "cell_type": "code",
   "execution_count": 300,
   "id": "6462fd9c",
   "metadata": {},
   "outputs": [],
   "source": [
    "class EmployeeClass:\n",
    "\n",
    "  def __init__( self, id, first, last ) -> None:\n",
    "    self.id, self.first, self.last  =  id, first, last\n",
    "\n",
    "  def __eq__( self, other ):\n",
    "    return ( self.id == other.id )  and\\\n",
    "           ( self.first == other.first )  and  ( self.last == other.last )"
   ]
  },
  {
   "cell_type": "code",
   "execution_count": 304,
   "id": "1d60f563",
   "metadata": {},
   "outputs": [
    {
     "name": "stdout",
     "output_type": "stream",
     "text": [
      "True\n",
      "False\n"
     ]
    }
   ],
   "source": [
    "emp1 = EmployeeClass( 123, 'Rabi', 'Sharma' )\n",
    "emp2 = EmployeeClass( 123, 'Rabi', 'Sharma' )\n",
    "print( emp1 == emp2 )\n",
    "\n",
    "emp1 = EmployeeClass( 123, 'Rabi', 'Sharma' )\n",
    "emp2 = EmployeeClass( 111, 'Rabi', 'Sharma' )\n",
    "print( emp1 == emp2 )\n"
   ]
  },
  {
   "cell_type": "markdown",
   "id": "be288d22",
   "metadata": {},
   "source": [
    "##### Another example for `__eq__`\n",
    "\n",
    "Using the `BankAc` class. It has one `attribute`, `balance`, and a `withdraw()` method. Two bank accounts with the same `balance` are not necessarily the same account, but a bank account usually has an account number, and two accounts with the same account number should be considered the same."
   ]
  },
  {
   "cell_type": "code",
   "execution_count": null,
   "id": "3cab1ac3",
   "metadata": {},
   "outputs": [],
   "source": [
    "# previous code\n",
    "class BankAc:\n",
    "    def __init__( self, balance ):\n",
    "        self.balance = balance\n",
    "    def withdraw( self, withdraw_amt ):\n",
    "        self.balance -= withdraw_amt\n"
   ]
  },
  {
   "cell_type": "code",
   "execution_count": 305,
   "id": "3ec9acc1",
   "metadata": {},
   "outputs": [],
   "source": [
    "# modify it for __eq__\n",
    "\n",
    "class BankAc:\n",
    "\n",
    "    def __init__( self, ac_num, balance ):\n",
    "        self.ac_number = ac_num\n",
    "        self.balance = balance\n",
    "\n",
    "    def withdraw( self, ac_num, withdraw_amt ):\n",
    "        self.ac_number = ac_num\n",
    "        self.balance -= withdraw_amt\n",
    "\n",
    "    def __eq__( self, other ):\n",
    "      return(  self.ac_number == other.ac_number  )"
   ]
  },
  {
   "cell_type": "code",
   "execution_count": 308,
   "id": "4c024336",
   "metadata": {},
   "outputs": [
    {
     "name": "stdout",
     "output_type": "stream",
     "text": [
      "True\n",
      "False\n"
     ]
    }
   ],
   "source": [
    "acct1 = BankAc(123, 1000);  acct2 = BankAc(123, 1000)  ; acct3 = BankAc(456, 1000)\n",
    "print(acct1 == acct2);  print(acct1 == acct3)"
   ]
  },
  {
   "cell_type": "markdown",
   "id": "fb53c611",
   "metadata": {},
   "source": [
    "##### Checking class equality\n",
    "\n",
    "Above we defined a `BankAc` class with a `number` attribute that was used for comparison. But if we were to compare a `BankAc` object to an object of another class that also has a `number` attribute, we could end up with unexpected results (i.e. True even though they are from 2 different classes).<br>\n",
    "__The solution__: to check the class of objects passed to the `__eq__()` method to make sure the comparison makes sense."
   ]
  },
  {
   "cell_type": "code",
   "execution_count": 323,
   "id": "3d544229",
   "metadata": {},
   "outputs": [],
   "source": [
    "# modify it for __eq__\n",
    "\n",
    "class BankAc:\n",
    "\n",
    "    def __init__( self, ac_num, balance ):\n",
    "        self.number = ac_num\n",
    "        self.balance = balance\n",
    "\n",
    "    def withdraw( self, ac_num, withdraw_amt ):\n",
    "        self.number = ac_num\n",
    "        self.balance -= withdraw_amt\n",
    "\n",
    "    def __eq__( self, other ):\n",
    "      return(  self.number == other.number  ) and (  isinstance(self,BankAc) == isinstance(other,BankAc)  )\n",
    "\n",
    "class PhoneClass:\n",
    "\n",
    "    def __init__( self, phone_num ):\n",
    "        self.number = phone_num\n",
    "\n",
    "    def __eq__( self, other ):\n",
    "      return(  self.number == other.number  ) and (  isinstance(self,PhoneClass) == isinstance(other,PhoneClass)  )"
   ]
  },
  {
   "cell_type": "code",
   "execution_count": 322,
   "id": "fb29493d",
   "metadata": {},
   "outputs": [
    {
     "name": "stdout",
     "output_type": "stream",
     "text": [
      "False\n"
     ]
    }
   ],
   "source": [
    "acct_obj = BankAc( 873555333, 1000 )\n",
    "phn_obj = PhoneClass( 873555333 )\n",
    "print( acct_obj == phn_obj )"
   ]
  },
  {
   "cell_type": "markdown",
   "id": "94dbc973",
   "metadata": {},
   "source": [
    "<div id= '1.3.2'></div>\n",
    "\n",
    "#### 1.3.2 - Operator overloading: string representation --> `__str__` & `__repr__`\n",
    "\n",
    "*[Go to top](#toc)*"
   ]
  },
  {
   "cell_type": "code",
   "execution_count": 386,
   "id": "37bc5873",
   "metadata": {},
   "outputs": [],
   "source": [
    "# creating a method for getting inst attributes and respective values\n",
    "\n",
    "class EmployeeClass:\n",
    "\n",
    "  def __init__( self, id_val, first, last ) -> None:\n",
    "    self.id_val, self.first, self.last  =  id_val, first, last\n",
    "\n",
    "  def get_inst_attrib( self ):\n",
    "    attrib_val = ''\n",
    "    for e_key, e_val in self.__dict__.items():\n",
    "      attrib_val += f'{e_key} --> {e_val}      '\n",
    "    return( attrib_val.strip() )"
   ]
  },
  {
   "cell_type": "code",
   "execution_count": 387,
   "id": "e2a36b61",
   "metadata": {},
   "outputs": [
    {
     "data": {
      "text/plain": [
       "'id_val --> 123      first --> Rabi      last --> Sharma'"
      ]
     },
     "execution_count": 387,
     "metadata": {},
     "output_type": "execute_result"
    }
   ],
   "source": [
    "emp1 = EmployeeClass( 123, 'Rabi', 'Sharma' )\n",
    "emp1.get_inst_attrib()"
   ]
  },
  {
   "cell_type": "markdown",
   "id": "5d5ee376",
   "metadata": {},
   "source": [
    "##### `__str__`"
   ]
  },
  {
   "cell_type": "code",
   "execution_count": 388,
   "id": "d3946316",
   "metadata": {},
   "outputs": [],
   "source": [
    "class EmployeeClass:\n",
    "\n",
    "  def __init__( self, id_val, first, last ) -> None:\n",
    "    self.id_val, self.first, self.last  =  id_val, first, last\n",
    "\n",
    "  def __str__( self ):\n",
    "    attrib_val = ''\n",
    "    for e_key, e_val in self.__dict__.items():\n",
    "      attrib_val += f'{e_key} --> {e_val}      '\n",
    "    return( attrib_val )"
   ]
  },
  {
   "cell_type": "code",
   "execution_count": 390,
   "id": "b08eba38",
   "metadata": {},
   "outputs": [
    {
     "name": "stdout",
     "output_type": "stream",
     "text": [
      "id_val --> 123      first --> Rabi      last --> Sharma      \n"
     ]
    }
   ],
   "source": [
    "emp1 = EmployeeClass( 123, 'Rabi', 'Sharma' )\n",
    "print( emp1 )"
   ]
  },
  {
   "cell_type": "markdown",
   "id": "a9c88b98",
   "metadata": {},
   "source": [
    "##### `__repr__`\n"
   ]
  },
  {
   "cell_type": "code",
   "execution_count": 401,
   "id": "c3d1e115",
   "metadata": {},
   "outputs": [],
   "source": [
    "class EmployeeClass:\n",
    "\n",
    "  def __init__( self, id_val, first, last ) -> None:\n",
    "    self.id_val, self.first, self.last  =  id_val, first, last\n",
    "\n",
    "  def __str__( self ):\n",
    "    attrib_val = ''\n",
    "    for e_key, e_val in self.__dict__.items():\n",
    "      attrib_val += f'{e_key} --> {e_val}      '\n",
    "    return( attrib_val )\n",
    "    \n",
    "  def __repr__( self ):                                       ## <-- this is what I would have done, not best practise\n",
    "    return(  str( self.__dict__.items() )  )"
   ]
  },
  {
   "cell_type": "code",
   "execution_count": 396,
   "id": "8b01b6f1",
   "metadata": {},
   "outputs": [
    {
     "data": {
      "text/plain": [
       "dict_items([('id_val', 123), ('first', 'Rabi'), ('last', 'Sharma')])"
      ]
     },
     "execution_count": 396,
     "metadata": {},
     "output_type": "execute_result"
    }
   ],
   "source": [
    "emp1.__dict__.items()"
   ]
  },
  {
   "cell_type": "code",
   "execution_count": 400,
   "id": "13fc1985",
   "metadata": {},
   "outputs": [
    {
     "name": "stdout",
     "output_type": "stream",
     "text": [
      "id_val --> 123      first --> Rabi      last --> Sharma      \n"
     ]
    },
    {
     "data": {
      "text/plain": [
       "dict_items([('id_val', 123), ('first', 'Rabi'), ('last', 'Sharma')])"
      ]
     },
     "execution_count": 400,
     "metadata": {},
     "output_type": "execute_result"
    }
   ],
   "source": [
    "emp1 = EmployeeClass( 123, 'Rabi', 'Sharma' )\n",
    "print( emp1 )\n",
    "emp1"
   ]
  },
  {
   "cell_type": "code",
   "execution_count": 408,
   "id": "a74a2a0f",
   "metadata": {},
   "outputs": [],
   "source": [
    "class EmployeeClass:\n",
    "\n",
    "  def __init__( self, id_val, first, last ) -> None:\n",
    "    self.id_val, self.first, self.last  =  id_val, first, last\n",
    "\n",
    "  def __str__( self ):\n",
    "    attrib_val = ''\n",
    "    for e_key, e_val in self.__dict__.items():\n",
    "      attrib_val += f'{e_key} --> {e_val}      '\n",
    "    return( attrib_val )\n",
    "    \n",
    "  def __repr__( self ):                                       ## <-- this is what I would have done\n",
    "    return(  str( self.__dict__.items() )  )\n",
    "  \n",
    "  def __repr__(self) -> str:                                   ## Best practise: repr should return the string that can be used to reproduce the object, in this case, the exact initialization call.\n",
    "    return_str = 'EmployeeClass({id}, \"{first}\", \"{last}\")'\\\n",
    "                      .format( id= self.id_val, first= self.first, last= self.last )\n",
    "    return( return_str )"
   ]
  },
  {
   "cell_type": "code",
   "execution_count": 409,
   "id": "818e9051",
   "metadata": {},
   "outputs": [
    {
     "name": "stdout",
     "output_type": "stream",
     "text": [
      "id_val --> 123      first --> Rabi      last --> Sharma      \n"
     ]
    },
    {
     "data": {
      "text/plain": [
       "EmployeeClass(123, \"Rabi\", \"Sharma\")"
      ]
     },
     "execution_count": 409,
     "metadata": {},
     "output_type": "execute_result"
    }
   ],
   "source": [
    "emp1 = EmployeeClass( 123, 'Rabi', 'Sharma' )\n",
    "print( emp1 )\n",
    "emp1"
   ]
  },
  {
   "cell_type": "code",
   "execution_count": 414,
   "id": "1504e666",
   "metadata": {},
   "outputs": [
    {
     "name": "stdout",
     "output_type": "stream",
     "text": [
      "EmployeeClass(123, \"Rabi\", \"Sharma\")\n"
     ]
    },
    {
     "data": {
      "text/plain": [
       "'EmployeeClass(123, \"Rabi\", \"Sharma\")'"
      ]
     },
     "execution_count": 414,
     "metadata": {},
     "output_type": "execute_result"
    }
   ],
   "source": [
    "print( repr(emp1) );            repr( emp1 )"
   ]
  },
  {
   "cell_type": "markdown",
   "id": "8fdaf8ac",
   "metadata": {},
   "source": [
    "<br>\n",
    "<div id= '1.3.3'></div>\n",
    "\n",
    "#### 1.3.3 - Exceptions\n",
    "\n",
    "*[Go to top](#toc)*"
   ]
  },
  {
   "cell_type": "code",
   "execution_count": 432,
   "id": "c9f835f7",
   "metadata": {},
   "outputs": [],
   "source": [
    "class SalaryError( Exception ): pass\n",
    "\n",
    "class EmployeeClass:\n",
    "\n",
    "  def __init__( self, id_val, first, last, salary ) -> None:\n",
    "    if salary < 0:  raise SalaryError( 'Salary has to be non-negative!' )\n",
    "    else:\n",
    "      self.id_val, self.first, self.last, self.salary  =  id_val, first, last, salary\n",
    "\n",
    "  def __str__( self ):\n",
    "    attrib_val = ''\n",
    "    for e_key, e_val in self.__dict__.items():\n",
    "      attrib_val += f'{e_key} --> {e_val}      '\n",
    "    return( attrib_val )\n",
    "    \n",
    "  def __repr__(self) -> str:                                   \n",
    "    return_str = 'EmployeeClass({id_val}, \"{first}\", \"{last}\")'\\\n",
    "                      .format( id_val= self.id_val, first= self.first, last= self.last )\n",
    "    return( return_str )"
   ]
  },
  {
   "cell_type": "code",
   "execution_count": 433,
   "id": "890741a9",
   "metadata": {},
   "outputs": [
    {
     "data": {
      "text/plain": [
       "EmployeeClass(123, \"Rabi\", \"Sharma\")"
      ]
     },
     "execution_count": 433,
     "metadata": {},
     "output_type": "execute_result"
    }
   ],
   "source": [
    "emp1 = EmployeeClass( 123, 'Rabi', 'Sharma', 10000 )\n",
    "emp1"
   ]
  },
  {
   "cell_type": "code",
   "execution_count": 434,
   "id": "c1350235",
   "metadata": {},
   "outputs": [
    {
     "ename": "SalaryError",
     "evalue": "Salary has to be non-negative!",
     "output_type": "error",
     "traceback": [
      "\u001b[1;31m---------------------------------------------------------------------------\u001b[0m",
      "\u001b[1;31mSalaryError\u001b[0m                               Traceback (most recent call last)",
      "\u001b[1;32mc:\\Users\\k31952\\OneDrive - FINRA\\Learning\\Python\\Course -  Python Programming.ipynb Cell 154\u001b[0m in \u001b[0;36m<cell line: 1>\u001b[1;34m()\u001b[0m\n\u001b[1;32m----> <a href='vscode-notebook-cell:/c%3A/Users/k31952/OneDrive%20-%20FINRA/Learning/Python/Course%20-%20%20Python%20Programming.ipynb#Y426sZmlsZQ%3D%3D?line=0'>1</a>\u001b[0m emp121 \u001b[39m=\u001b[39m EmployeeClass( \u001b[39m123\u001b[39;49m, \u001b[39m'\u001b[39;49m\u001b[39mRabi\u001b[39;49m\u001b[39m'\u001b[39;49m, \u001b[39m'\u001b[39;49m\u001b[39mSharma\u001b[39;49m\u001b[39m'\u001b[39;49m, \u001b[39m-\u001b[39;49m\u001b[39m1\u001b[39;49m )\n",
      "\u001b[1;32mc:\\Users\\k31952\\OneDrive - FINRA\\Learning\\Python\\Course -  Python Programming.ipynb Cell 154\u001b[0m in \u001b[0;36mEmployeeClass.__init__\u001b[1;34m(self, id_val, first, last, salary)\u001b[0m\n\u001b[0;32m      <a href='vscode-notebook-cell:/c%3A/Users/k31952/OneDrive%20-%20FINRA/Learning/Python/Course%20-%20%20Python%20Programming.ipynb#Y426sZmlsZQ%3D%3D?line=4'>5</a>\u001b[0m \u001b[39mdef\u001b[39;00m \u001b[39m__init__\u001b[39m( \u001b[39mself\u001b[39m, id_val, first, last, salary ) \u001b[39m-\u001b[39m\u001b[39m>\u001b[39m \u001b[39mNone\u001b[39;00m:\n\u001b[1;32m----> <a href='vscode-notebook-cell:/c%3A/Users/k31952/OneDrive%20-%20FINRA/Learning/Python/Course%20-%20%20Python%20Programming.ipynb#Y426sZmlsZQ%3D%3D?line=5'>6</a>\u001b[0m   \u001b[39mif\u001b[39;00m salary \u001b[39m<\u001b[39m \u001b[39m0\u001b[39m:  \u001b[39mraise\u001b[39;00m SalaryError( \u001b[39m'\u001b[39m\u001b[39mSalary has to be non-negative!\u001b[39m\u001b[39m'\u001b[39m )\n\u001b[0;32m      <a href='vscode-notebook-cell:/c%3A/Users/k31952/OneDrive%20-%20FINRA/Learning/Python/Course%20-%20%20Python%20Programming.ipynb#Y426sZmlsZQ%3D%3D?line=6'>7</a>\u001b[0m   \u001b[39melse\u001b[39;00m:\n\u001b[0;32m      <a href='vscode-notebook-cell:/c%3A/Users/k31952/OneDrive%20-%20FINRA/Learning/Python/Course%20-%20%20Python%20Programming.ipynb#Y426sZmlsZQ%3D%3D?line=7'>8</a>\u001b[0m     \u001b[39mself\u001b[39m\u001b[39m.\u001b[39mid_val, \u001b[39mself\u001b[39m\u001b[39m.\u001b[39mfirst, \u001b[39mself\u001b[39m\u001b[39m.\u001b[39mlast, \u001b[39mself\u001b[39m\u001b[39m.\u001b[39msalary  \u001b[39m=\u001b[39m  id_val, first, last, salary\n",
      "\u001b[1;31mSalaryError\u001b[0m: Salary has to be non-negative!"
     ]
    }
   ],
   "source": [
    "emp121 = EmployeeClass( 123, 'Rabi', 'Sharma', -1 )"
   ]
  },
  {
   "cell_type": "code",
   "execution_count": 435,
   "id": "092b96ad",
   "metadata": {},
   "outputs": [
    {
     "ename": "NameError",
     "evalue": "name 'emp121' is not defined",
     "output_type": "error",
     "traceback": [
      "\u001b[1;31m---------------------------------------------------------------------------\u001b[0m",
      "\u001b[1;31mNameError\u001b[0m                                 Traceback (most recent call last)",
      "\u001b[1;32mc:\\Users\\k31952\\OneDrive - FINRA\\Learning\\Python\\Course -  Python Programming.ipynb Cell 155\u001b[0m in \u001b[0;36m<cell line: 1>\u001b[1;34m()\u001b[0m\n\u001b[1;32m----> <a href='vscode-notebook-cell:/c%3A/Users/k31952/OneDrive%20-%20FINRA/Learning/Python/Course%20-%20%20Python%20Programming.ipynb#Y425sZmlsZQ%3D%3D?line=0'>1</a>\u001b[0m emp121\n",
      "\u001b[1;31mNameError\u001b[0m: name 'emp121' is not defined"
     ]
    }
   ],
   "source": [
    "emp121"
   ]
  },
  {
   "cell_type": "code",
   "execution_count": 437,
   "id": "51adee69",
   "metadata": {},
   "outputs": [
    {
     "name": "stdout",
     "output_type": "stream",
     "text": [
      "Need to check Salary value..\n",
      "id_val --> 121      first --> Vivek      last --> Thapa      salary --> 0      \n"
     ]
    }
   ],
   "source": [
    "# developer may hanfles this case depending on his requirement, for an example:\n",
    "salary_val = -1\n",
    "try: emp1 = EmployeeClass( 121, 'Vivek', 'Thapa', salary= salary_val )\n",
    "except:\n",
    "  emp1 = EmployeeClass( 121, 'Vivek', 'Thapa', salary= 0 )\n",
    "  print( 'Need to check Salary value..' )\n",
    "\n",
    "print(emp1)"
   ]
  },
  {
   "cell_type": "markdown",
   "id": "9962dd9b",
   "metadata": {},
   "source": [
    "##### Handling exception hierarchies"
   ]
  },
  {
   "cell_type": "code",
   "execution_count": 438,
   "id": "0edc3045",
   "metadata": {},
   "outputs": [],
   "source": [
    "class SalaryError( ValueError ):            #  SalaryError inherited from ValueError\n",
    "  pass\n",
    "class BonusError( SalaryError ): pass       #  BonusError inherited from SalaryError\n"
   ]
  },
  {
   "cell_type": "code",
   "execution_count": 440,
   "id": "3fd5ec63",
   "metadata": {},
   "outputs": [],
   "source": [
    "class EmployeeClass:\n",
    "  MIN_SALARY = 30000\n",
    "  MAX_BONUS = 5000\n",
    "\n",
    "  def __init__( self, name, salary = 30000 ):\n",
    "    self.name = name    \n",
    "    if salary < Employee.MIN_SALARY:  raise SalaryError( 'Salary is too low!' )\n",
    "    else:  self.salary = salary\n",
    "    \n",
    "  # Rewrite using exceptions  \n",
    "  def give_bonus(self, bonus_amount):\n",
    "    if bonus_amount > Employee.MAX_BONUS:  raise BonusError( 'The bonus amount is too high!')  \n",
    "    elif self.salary + bonus_amount <  Employee.MIN_SALARY:  raise SalaryError( 'The salary after bonus is too low!' )\n",
    "    else:  self.salary += bonus_amount"
   ]
  },
  {
   "cell_type": "code",
   "execution_count": 451,
   "id": "bbab0301",
   "metadata": {},
   "outputs": [
    {
     "name": "stdout",
     "output_type": "stream",
     "text": [
      "SalaryError caught!\n",
      "---------------------------------------------------------------------------------------------------------------------------------------------------------------------------------------------------------------------------------\n",
      "SalaryError caught again!\n",
      "---------------------------------------------------------------------------------------------------------------------------------------------------------------------------------------------------------------------------------\n",
      "SalaryError caught again!\n",
      "---------------------------------------------------------------------------------------------------------------------------------------------------------------------------------------------------------------------------------\n"
     ]
    },
    {
     "ename": "SalaryError",
     "evalue": "The salary after bonus is too low!",
     "output_type": "error",
     "traceback": [
      "\u001b[1;31m---------------------------------------------------------------------------\u001b[0m",
      "\u001b[1;31mSalaryError\u001b[0m                               Traceback (most recent call last)",
      "\u001b[1;32mc:\\Users\\k31952\\OneDrive - FINRA\\Learning\\Python\\Course -  Python Programming.ipynb Cell 160\u001b[0m in \u001b[0;36m<cell line: 18>\u001b[1;34m()\u001b[0m\n\u001b[0;32m     <a href='vscode-notebook-cell:/c%3A/Users/k31952/OneDrive%20-%20FINRA/Learning/Python/Course%20-%20%20Python%20Programming.ipynb#Y420sZmlsZQ%3D%3D?line=13'>14</a>\u001b[0m \u001b[39mexcept\u001b[39;00m SalaryError:  \u001b[39mprint\u001b[39m( \u001b[39m'\u001b[39m\u001b[39mSalaryError caught again!\u001b[39m\u001b[39m'\u001b[39m )\n\u001b[0;32m     <a href='vscode-notebook-cell:/c%3A/Users/k31952/OneDrive%20-%20FINRA/Learning/Python/Course%20-%20%20Python%20Programming.ipynb#Y420sZmlsZQ%3D%3D?line=15'>16</a>\u001b[0m \u001b[39mprint\u001b[39m( \u001b[39m'\u001b[39m\u001b[39m---------------------------------------------------------------------------------------------------------------------------------------------------------------------------------------------------------------------------------\u001b[39m\u001b[39m'\u001b[39m )\n\u001b[1;32m---> <a href='vscode-notebook-cell:/c%3A/Users/k31952/OneDrive%20-%20FINRA/Learning/Python/Course%20-%20%20Python%20Programming.ipynb#Y420sZmlsZQ%3D%3D?line=17'>18</a>\u001b[0m \u001b[39mtry\u001b[39;00m:  emp1\u001b[39m.\u001b[39mgive_bonus(\u001b[39m-\u001b[39m\u001b[39m100000\u001b[39m)\n\u001b[0;32m     <a href='vscode-notebook-cell:/c%3A/Users/k31952/OneDrive%20-%20FINRA/Learning/Python/Course%20-%20%20Python%20Programming.ipynb#Y420sZmlsZQ%3D%3D?line=18'>19</a>\u001b[0m \u001b[39mexcept\u001b[39;00m BonusError:  \u001b[39mprint\u001b[39m( \u001b[39m'\u001b[39m\u001b[39mBonusError caught again!\u001b[39m\u001b[39m'\u001b[39m )\n",
      "\u001b[1;32mc:\\Users\\k31952\\OneDrive - FINRA\\Learning\\Python\\Course -  Python Programming.ipynb Cell 160\u001b[0m in \u001b[0;36mEmployeeClass.give_bonus\u001b[1;34m(self, bonus_amount)\u001b[0m\n\u001b[0;32m     <a href='vscode-notebook-cell:/c%3A/Users/k31952/OneDrive%20-%20FINRA/Learning/Python/Course%20-%20%20Python%20Programming.ipynb#Y420sZmlsZQ%3D%3D?line=10'>11</a>\u001b[0m \u001b[39mdef\u001b[39;00m \u001b[39mgive_bonus\u001b[39m(\u001b[39mself\u001b[39m, bonus_amount):\n\u001b[0;32m     <a href='vscode-notebook-cell:/c%3A/Users/k31952/OneDrive%20-%20FINRA/Learning/Python/Course%20-%20%20Python%20Programming.ipynb#Y420sZmlsZQ%3D%3D?line=11'>12</a>\u001b[0m   \u001b[39mif\u001b[39;00m bonus_amount \u001b[39m>\u001b[39m Employee\u001b[39m.\u001b[39mMAX_BONUS:  \u001b[39mraise\u001b[39;00m BonusError( \u001b[39m'\u001b[39m\u001b[39mThe bonus amount is too high!\u001b[39m\u001b[39m'\u001b[39m)  \n\u001b[1;32m---> <a href='vscode-notebook-cell:/c%3A/Users/k31952/OneDrive%20-%20FINRA/Learning/Python/Course%20-%20%20Python%20Programming.ipynb#Y420sZmlsZQ%3D%3D?line=12'>13</a>\u001b[0m   \u001b[39melif\u001b[39;00m \u001b[39mself\u001b[39m\u001b[39m.\u001b[39msalary \u001b[39m+\u001b[39m bonus_amount \u001b[39m<\u001b[39m  Employee\u001b[39m.\u001b[39mMIN_SALARY:  \u001b[39mraise\u001b[39;00m SalaryError( \u001b[39m'\u001b[39m\u001b[39mThe salary after bonus is too low!\u001b[39m\u001b[39m'\u001b[39m )\n\u001b[0;32m     <a href='vscode-notebook-cell:/c%3A/Users/k31952/OneDrive%20-%20FINRA/Learning/Python/Course%20-%20%20Python%20Programming.ipynb#Y420sZmlsZQ%3D%3D?line=13'>14</a>\u001b[0m   \u001b[39melse\u001b[39;00m:  \u001b[39mself\u001b[39m\u001b[39m.\u001b[39msalary \u001b[39m+\u001b[39m\u001b[39m=\u001b[39m bonus_amount\n",
      "\u001b[1;31mSalaryError\u001b[0m: The salary after bonus is too low!"
     ]
    }
   ],
   "source": [
    "emp1 = EmployeeClass( 'Katze Rik', salary= 50000 )\n",
    "try:  emp1.give_bonus(7000)\n",
    "except SalaryError:  print( 'SalaryError caught!' )\n",
    "\n",
    "print( '---------------------------------------------------------------------------------------------------------------------------------------------------------------------------------------------------------------------------------' )\n",
    "\n",
    "try:  emp1.give_bonus(7000)\n",
    "except BonusError:  print( 'BonusError caught! ')\n",
    "\n",
    "print( '---------------------------------------------------------------------------------------------------------------------------------------------------------------------------------------------------------------------------------' )\n",
    "\n",
    "try:  emp1.give_bonus(-100000)\n",
    "except SalaryError:  print( 'SalaryError caught again!' )\n",
    "\n",
    "print( '---------------------------------------------------------------------------------------------------------------------------------------------------------------------------------------------------------------------------------' )\n",
    "\n",
    "try:  emp1.give_bonus(-100000)\n",
    "except BonusError:  print( 'BonusError caught again!' )\n",
    "# except SalaryError:  print( 'SalaryError caught again!' )     # <-- this exception should also be there if the coder wants to catch the error       "
   ]
  },
  {
   "cell_type": "code",
   "execution_count": 448,
   "id": "5f255f78",
   "metadata": {},
   "outputs": [
    {
     "name": "stdout",
     "output_type": "stream",
     "text": [
      "SalaryError caught again!\n"
     ]
    }
   ],
   "source": [
    "try:  emp1.give_bonus(7000)\n",
    "except SalaryError:  print( 'SalaryError caught again!' )"
   ]
  },
  {
   "cell_type": "markdown",
   "id": "e4212e73",
   "metadata": {},
   "source": [
    "!! It's better to include an `except block` for a `child exception` before the block for a `parent exception`, otherwise the `child exceptions` will be always be caught in the `parent block`, and the `except block` for the `child` will never be executed."
   ]
  },
  {
   "cell_type": "code",
   "execution_count": 452,
   "id": "0139dbf5",
   "metadata": {},
   "outputs": [
    {
     "name": "stdout",
     "output_type": "stream",
     "text": [
      "SalaryError caught!\n"
     ]
    }
   ],
   "source": [
    "emp = Employee( \"Katze Rik\", 50000 )\n",
    "\n",
    "try:  emp.give_bonus(7000)\n",
    "except SalaryError:  print( 'SalaryError caught!' )             # Don't do like this i.e. dont do parents before children\n",
    "except BonusError:  print( 'BonusError caught! ')               #  except block for the child will never be executed."
   ]
  },
  {
   "cell_type": "markdown",
   "id": "7dbc7baf",
   "metadata": {},
   "source": [
    "Improvment: It's better to list the `except blocks` in the increasing order of specificity, i.e. `children` before `parents`, otherwise the `child exception` will be called in the `parent except block`.\n"
   ]
  },
  {
   "cell_type": "code",
   "execution_count": 453,
   "id": "27728143",
   "metadata": {},
   "outputs": [
    {
     "name": "stdout",
     "output_type": "stream",
     "text": [
      "BonusError caught! \n"
     ]
    }
   ],
   "source": [
    "# Improvment: \n",
    "\n",
    "try:  emp.give_bonus(7000)\n",
    "except BonusError:  print( 'BonusError caught! ')               #  except block for the child should come first\n",
    "except SalaryError:  print( 'SalaryError caught!' )"
   ]
  },
  {
   "cell_type": "markdown",
   "id": "05a7b5c4",
   "metadata": {},
   "source": [
    "<br><br>\n",
    "<div id= '1.4'>\n",
    "    <h2>Chapter 1.4 - Best Practices of Class Design</h2>\n",
    "</div>\n",
    "\n",
    "#### Key Concepts\n",
    "Learn:\n",
    "\n",
    "    - to design classes for inheritance\n",
    "    - private attributes\n",
    "    - to control attribute access\n",
    "    - class design best practices\n",
    "\n",
    "<br>\n",
    "<div id= '1.4.1'></div>\n",
    "\n",
    "#### 1.4.1 - Designing for inheritance & polymorphism\n",
    "\n",
    "*[Go to top](#toc)*\n",
    "\n",
    "\n",
    "##### `Liskov substitution principle`\n",
    "\n",
    "There is a fundamental object-oriented design principle of when and how to use inheritance properly, called `Liskov substitution principle` (named after the computer scientist Barbara Liskov). A `base class` should be interchangeable with any of its `subclasses` without altering any properties of the surrounding program. Using the example of our Account hierarchy, that means that wherever in our application we use a `bankaccount object` instance, substituting a `checking account` instead should not affect anything in the surrounding program.\n",
    "\n",
    "__Liskov substitution principle__ should be true both __syntactically__ and __semantically__.<br>\n",
    "__Syntactically__: The `method` in a `subclass` should have a signature with _parameters_ and _returned values_ compatible with the method in the `parent class`.<br>\n",
    "__Semantically__: The _state of objects_ also must stay consistent; the `subclass method` shouldn't rely on stronger input conditions, should not provide weaker output conditions, it should not throw additional `exceptions` and so on.\n",
    "\n",
    "<br><hr><br>\n",
    "\n",
    "##### Violating LSP\n",
    "    → Syntactic incompatibility\n",
    "`BankAccount.withdraw()` requires 1 parameter, but `CheckingAccount.withdraw()` requiring 2<br><br>\n",
    "    \n",
    "    → Subclass strengthening input conditions\n",
    "`BankAccount.withdraw()` accepts any amount, but `CheckingAccount.withdraw()` assumes that the amount is limited.<br><br>\n",
    "\n",
    "    → Subclass weakening output conditions\n",
    "`BankAccount.withdraw() `can only leave a positive balance or cause an error, `Checking Account.withdraw()` can leave balance negative.<br><br>\n",
    "\n",
    "    → Other violated scenario:\n",
    "Changing additional attributes in subclass's method<br>\n",
    "Throwing additional exceptions in subclass's method\n",
    "\n",
    "##### LSP violated <--> No Inheritance"
   ]
  },
  {
   "cell_type": "markdown",
   "id": "a3487a91",
   "metadata": {},
   "source": [
    "<br>\n",
    "\n",
    "#### Square and rectangle\n",
    "\n",
    "The classic example of a problem that violates the Liskov Substitution Principle is the `Circle-Ellipse` problem, aka `Square-Rectangle` problem.\n",
    "\n",
    "By all means, it seems like onw should be able to define a class `Rectangle`, with attributes `h` and `w` (for height and width), and then define a class `Square` that inherits from the `Rectangle`. After all, a square \"is-a\" rectangle!\n",
    "\n",
    "Unfortunately, this intuition doesn't apply to object-oriented design"
   ]
  },
  {
   "cell_type": "code",
   "execution_count": 4,
   "id": "56ca29aa",
   "metadata": {},
   "outputs": [],
   "source": [
    "class RectangleClass:\n",
    "  def __init__( self, h, w ) -> None:\n",
    "    self.h, self.w  =  h, w\n",
    "\n",
    "class SquareClass( RectangleClass ):\n",
    "  def __init__(self, side) -> None:\n",
    "    RectangleClass.__init__( self, side, side )\n",
    "    self.h, self.w  =  side, side"
   ]
  },
  {
   "cell_type": "code",
   "execution_count": 5,
   "id": "7391be2d",
   "metadata": {},
   "outputs": [],
   "source": [
    "sq1 = SquareClass( side= 4 )"
   ]
  },
  {
   "cell_type": "code",
   "execution_count": 11,
   "id": "c9f12e44",
   "metadata": {},
   "outputs": [
    {
     "data": {
      "text/plain": [
       "'The 4x4 Square object would no longer be a square if we assign 7 to h.\\n'"
      ]
     },
     "execution_count": 11,
     "metadata": {},
     "output_type": "execute_result"
    }
   ],
   "source": [
    "# now this assignment causes many issues:\n",
    "sq1 = 7\n",
    "\n",
    "\"\"\"The 4x4 Square object would no longer be a square if we assign 7 to h.\n",
    "\"\"\""
   ]
  },
  {
   "cell_type": "markdown",
   "id": "d053f510",
   "metadata": {},
   "source": [
    "##### Manual solution to the above problem\n",
    "        defining setter function"
   ]
  },
  {
   "cell_type": "code",
   "execution_count": null,
   "id": "e67c8882",
   "metadata": {},
   "outputs": [],
   "source": [
    "class RectangleClass:\n",
    "  def __init__( self, h, w ) -> None:\n",
    "    self.h, self.w  =  h, w\n",
    "\n",
    "  def set_h(self, h):\n",
    "    self.h = h\n",
    "\n",
    "  def set_w(self, w):\n",
    "    self.w = w   \n",
    "\n",
    "class SquareClass( RectangleClass ):\n",
    "  \n",
    "  def __init__(self, side) -> None:\n",
    "    RectangleClass.__init__( self, side, side )\n",
    "    self.h, self.w  =  side, side\n",
    "\n",
    "  def set_h(self, h):\n",
    "    self.h = h;  self.w = h\n",
    "\n",
    "  def set_w(self, w):\n",
    "    self.h = w;  self.w = w"
   ]
  },
  {
   "cell_type": "markdown",
   "id": "e0c6a966",
   "metadata": {},
   "source": [
    "Later we will learn to make these `setter methods` run automatically when attributes are assigned new values. Even though it's manual, atlest now when we modify `side` both `h` & `w` will be updated.\n",
    "\n",
    "However, we voilated LSP as:<br>\n",
    "Each of the `setter` methods of `Square` change both `h` and `w` attributes, while `setter` methods of `Rectangle` change only one attribute at a time, so the `Square` objects cannot be substituted for `Rectangle` into programs that rely on one attribute staying constant."
   ]
  },
  {
   "cell_type": "markdown",
   "id": "20104de9",
   "metadata": {},
   "source": [
    "<br>\n",
    "<div id= '1.4.2'></div>\n",
    "\n",
    "#### 1.4.2 - Managing data access: private attributes\n",
    "\n",
    "*[Go to top](#toc)*\n",
    "\n",
    "`_name`: The single leading underscore is a convention for internal details of implementation.\n",
    "\n",
    "`__name`: Double leading underscores are used for attributes that should not be inherited to avoid name clashes in child classes.\n",
    "    \n",
    "`__name__`: Leading and trailing double underscores are reserved for built-in methods.\n",
    "\n",
    "<br>"
   ]
  },
  {
   "cell_type": "markdown",
   "id": "21de4dae",
   "metadata": {},
   "source": [
    "Using internal attributes\n",
    "\n",
    "We will work on the `BetterDate` class. Let's add a method that checks the validity of the date, but we don't want to make it a part of `BetterDate`'s public interface."
   ]
  },
  {
   "cell_type": "code",
   "execution_count": 60,
   "id": "54911303",
   "metadata": {},
   "outputs": [],
   "source": [
    "## additional alternate constructor (which happens in the real-life project)\n",
    "class NiceDate_Class:\n",
    "  _MAX_DAYS = 30\n",
    "  _MAX_MONTHS = 12\n",
    "  \n",
    "  def __init__( self, yr, mon, day ):  # main cnstr\n",
    "    self.year, self.month, self.day  =  yr, mon, day\n",
    "\n",
    "  @classmethod\n",
    "  def date_from_str_AltCnstr( cls, datestr ):\n",
    "    yr, mon, day  =  map(  int, datestr.split('-')  )\n",
    "    return(  cls( yr, mon, day )  )\n",
    "\n",
    "  @classmethod\n",
    "  def date_from_datetimeObj_AltCnstr( cls, date_obj ):\n",
    "    yr, mon, day = date_obj.year, date_obj.month, date_obj.day\n",
    "    return(  cls( yr, mon, day )  )\n",
    "\n",
    "  def _is_valid( self ):\n",
    "    return True  if( self.day <= NiceDate_Class._MAX_DAYS and self.month <= NiceDate_Class._MAX_MONTHS )  else False\n",
    "\n",
    "  def __is_valid_private( self ):\n",
    "    return True  if( self.day <= NiceDate_Class._MAX_DAYS and self.month <= NiceDate_Class._MAX_MONTHS )  else False\n"
   ]
  },
  {
   "cell_type": "code",
   "execution_count": 62,
   "id": "41db1728",
   "metadata": {},
   "outputs": [
    {
     "name": "stdout",
     "output_type": "stream",
     "text": [
      "True False\n"
     ]
    }
   ],
   "source": [
    "date1 = NiceDate_Class(2020, 4, 20)\n",
    "date2 = NiceDate_Class(2020, 6, 45)\n",
    "\n",
    "print(  date1._is_valid(), date2._is_valid()  )"
   ]
  },
  {
   "cell_type": "code",
   "execution_count": 63,
   "id": "48913863",
   "metadata": {},
   "outputs": [
    {
     "ename": "AttributeError",
     "evalue": "'NiceDate_Class' object has no attribute '__is_valid_private'",
     "output_type": "error",
     "traceback": [
      "\u001b[1;31m---------------------------------------------------------------------------\u001b[0m",
      "\u001b[1;31mAttributeError\u001b[0m                            Traceback (most recent call last)",
      "\u001b[1;32m~\\AppData\\Local\\Temp\\1\\ipykernel_35520\\3062988991.py\u001b[0m in \u001b[0;36m<module>\u001b[1;34m\u001b[0m\n\u001b[1;32m----> 1\u001b[1;33m \u001b[0mdate1\u001b[0m\u001b[1;33m.\u001b[0m\u001b[0m__is_valid_private\u001b[0m\u001b[1;33m(\u001b[0m\u001b[1;33m)\u001b[0m\u001b[1;33m\u001b[0m\u001b[1;33m\u001b[0m\u001b[0m\n\u001b[0m",
      "\u001b[1;31mAttributeError\u001b[0m: 'NiceDate_Class' object has no attribute '__is_valid_private'"
     ]
    }
   ],
   "source": [
    "date1.__is_valid_private()   # <-- Error:  AttributeError: 'NiceDate_Class' object has no attribute '__is_valid_private'"
   ]
  },
  {
   "cell_type": "markdown",
   "id": "78cc2a83",
   "metadata": {},
   "source": [
    "<br>\n",
    "<div id= '1.4.3'></div>\n",
    "\n",
    "#### 1.4.3 - Properties\n",
    "\n",
    "*[Go to top](#toc)*\n",
    "\n",
    "    - Create & Set properties\n",
    "    - Read-only properties\n",
    "<br>"
   ]
  },
  {
   "cell_type": "code",
   "execution_count": 65,
   "id": "906f558d",
   "metadata": {},
   "outputs": [],
   "source": [
    "# to prevent from user changing attrib using '.'\n",
    "\n",
    "class EmployeeClass:\n",
    "  def __init__( self, firstnm, lastnm, salary_val ) -> None:\n",
    "    self.first, self.last = firstnm, lastnm\n",
    "    self._salary = salary_val\n",
    "\n",
    "  @property                    # getter method\n",
    "  def salary( self ):\n",
    "    return( self._salary )"
   ]
  },
  {
   "cell_type": "code",
   "execution_count": 67,
   "id": "e1aa1aa3",
   "metadata": {},
   "outputs": [
    {
     "data": {
      "text/plain": [
       "dict_items([('first', 'Rabi'), ('last', 'Sharma'), ('_salary', 10000)])"
      ]
     },
     "execution_count": 67,
     "metadata": {},
     "output_type": "execute_result"
    }
   ],
   "source": [
    "emp1 = EmployeeClass( 'Rabi', 'Sharma', 10000 )\n",
    "emp1.__dict__.items()"
   ]
  },
  {
   "cell_type": "code",
   "execution_count": 68,
   "id": "05f0c5f8",
   "metadata": {},
   "outputs": [
    {
     "ename": "AttributeError",
     "evalue": "can't set attribute 'salary'",
     "output_type": "error",
     "traceback": [
      "\u001b[1;31m---------------------------------------------------------------------------\u001b[0m",
      "\u001b[1;31mAttributeError\u001b[0m                            Traceback (most recent call last)",
      "\u001b[1;32mc:\\Users\\k31952\\OneDrive - FINRA\\Learning\\Python\\Course -  Python Programming.ipynb Cell 183\u001b[0m in \u001b[0;36m<cell line: 1>\u001b[1;34m()\u001b[0m\n\u001b[1;32m----> <a href='vscode-notebook-cell:/c%3A/Users/k31952/OneDrive%20-%20FINRA/Learning/Python/Course%20-%20%20Python%20Programming.ipynb#Y360sZmlsZQ%3D%3D?line=0'>1</a>\u001b[0m emp1\u001b[39m.\u001b[39msalary \u001b[39m=\u001b[39m \u001b[39m8000\u001b[39m\n",
      "\u001b[1;31mAttributeError\u001b[0m: can't set attribute 'salary'"
     ]
    }
   ],
   "source": [
    "emp1.salary = 8000   # --> AttributeError: can't set attribute 'salary'"
   ]
  },
  {
   "cell_type": "code",
   "execution_count": 65,
   "id": "c220229a",
   "metadata": {},
   "outputs": [],
   "source": [
    "# to allow user to modify 'Salary'\n",
    "\n",
    "class EmployeeClass:\n",
    "  def __init__( self, firstnm, lastnm, salary_val ) -> None:\n",
    "    self.first, self.last = firstnm, lastnm\n",
    "    self._salary_hiddenAttrib = salary_val\n",
    "\n",
    "  @property                                             # getter method\n",
    "  def salary( self ):\n",
    "    return( self._salary_hiddenAttrib )\n",
    "\n",
    "  @salary.setter                                       # setter method\n",
    "  def salary( self, salary_new ):\n",
    "    self._salary_hiddenAttrib = salary_new"
   ]
  },
  {
   "cell_type": "code",
   "execution_count": 66,
   "id": "02dfdad2",
   "metadata": {},
   "outputs": [
    {
     "data": {
      "text/plain": [
       "dict_items([('first', 'Rabi'), ('last', 'Sharma'), ('_salary_hiddenAttrib', 10000)])"
      ]
     },
     "execution_count": 66,
     "metadata": {},
     "output_type": "execute_result"
    }
   ],
   "source": [
    "emp1 = EmployeeClass( 'Rabi', 'Sharma', 10000 )\n",
    "emp1.__dict__.items()"
   ]
  },
  {
   "cell_type": "code",
   "execution_count": 67,
   "id": "04edf6b4",
   "metadata": {},
   "outputs": [
    {
     "data": {
      "text/plain": [
       "dict_items([('first', 'Rabi'), ('last', 'Sharma'), ('_salary_hiddenAttrib', 11000)])"
      ]
     },
     "execution_count": 67,
     "metadata": {},
     "output_type": "execute_result"
    }
   ],
   "source": [
    "emp1.salary = 11000\n",
    "emp1.__dict__.items()"
   ]
  },
  {
   "cell_type": "code",
   "execution_count": 68,
   "id": "bc9052d6",
   "metadata": {},
   "outputs": [
    {
     "data": {
      "text/plain": [
       "dict_items([('first', 'Rabi'), ('last', 'Sharma'), ('_salary_hiddenAttrib', 11000), ('asddd', 1)])"
      ]
     },
     "execution_count": 68,
     "metadata": {},
     "output_type": "execute_result"
    }
   ],
   "source": [
    "emp1.asddd = 1\n",
    "emp1.__dict__.items()\n"
   ]
  },
  {
   "cell_type": "code",
   "execution_count": 69,
   "id": "62fd06cf",
   "metadata": {},
   "outputs": [],
   "source": [
    "# replacing the 'self' with 'obj'\n",
    "\n",
    "class EmployeeClass:\n",
    "  def __init__( obj, firstnm, lastnm, salary_val ) -> None:\n",
    "    obj.first, obj.last = firstnm, lastnm\n",
    "    obj._salary_hiddenAttrib = salary_val\n",
    "\n",
    "  @property\n",
    "  def salary( obj ):\n",
    "    return( obj._salary_hiddenAttrib )\n",
    "\n",
    "  @salary.setter\n",
    "  def salary( obj, salary_new ):\n",
    "    obj._salary_hiddenAttrib = salary_new\n"
   ]
  },
  {
   "cell_type": "code",
   "execution_count": 70,
   "id": "85d4dce0",
   "metadata": {},
   "outputs": [],
   "source": [
    "# replacing the 'self' with 'obj'\n",
    "\n",
    "class EmployeeClass:\n",
    "  def __init__( obj, firstnm, lastnm, salary_val ) -> None:\n",
    "    obj.first, obj.last = firstnm, lastnm\n",
    "    obj._salary_hiddenAttrib = salary_val\n",
    "\n",
    "  @property                                             # getter method\n",
    "  def salary( obj ):\n",
    "    return( obj._salary_hiddenAttrib )\n",
    "\n",
    "  @salary.setter                                       # setter method\n",
    "  def salary( obj, salary_new ):\n",
    "    obj._salary_hiddenAttrib = salary_new"
   ]
  },
  {
   "cell_type": "markdown",
   "id": "008bacf2",
   "metadata": {},
   "source": [
    "<br> <hr> <br> <hr> <br>\n",
    "\n",
    "<div id= 'course2'>\n",
    "    <h1> Course 2  - Writing Functions in Python</h1> \n",
    "    <h5> <a href= '#toc'> Go to top </a> </h5> \n",
    "</div>\n",
    "\n",
    "#### Key Concepts\n",
    "\n",
    "    - learn to write complex and beautiful functions\n",
    "    - learn how to write context managers and decorators \n",
    "    - learn best practices around how to write maintainable reusable functions with good documentation\n",
    "\n",
    "<br><br>\n",
    "<div id= '2.1'>\n",
    "    <h2>Chapter 2.1 -  Best Practices on writing functions</h2>\n",
    "</div>\n",
    "\n",
    "#### Key Concepts\n",
    "    - learn about docstrings and its importance\n",
    "    - learn when to turn a chunk of code into a function\n",
    "    - learn the details of how Python passes arguments to functions\n",
    "    - learn pitfalls that can invite major debugging when calling functions\n",
    "\n",
    "\n",
    "<div id= '2.1.1'>\n",
    "    <h3>2.1.1 - Docstrings</h3>     \n",
    "</div>\n",
    "\n",
    "*[Go to top](#toc)*\n",
    "\n",
    " #### Google Style docstring"
   ]
  },
  {
   "cell_type": "code",
   "execution_count": null,
   "id": "f15af1c0",
   "metadata": {},
   "outputs": [],
   "source": [
    "def count_letter(content, letter):\n",
    "  \"\"\"Count the number of times `letter` appears in `content`.\n",
    "\n",
    "  Args:\n",
    "    content (str): The string to search.\n",
    "    letter (str): The letter to search for.\n",
    "\n",
    "  Returns:\n",
    "    int\n",
    "\n",
    "  # Add a section detailing what errors might be raised\n",
    "  Raises:\n",
    "    ValueError: If `letter` is not a one-character string.\n",
    "  \"\"\"\n",
    "  if( not isinstance(letter, str) ) or len(letter) != 1:\n",
    "    raise ValueError('`letter` must be a single character string.')\n",
    "  return len(  [ e_char for e_char in content if e_char == letter ]  )"
   ]
  },
  {
   "cell_type": "markdown",
   "id": "504a3564",
   "metadata": {},
   "source": [
    "#### Retrieving docstrings"
   ]
  },
  {
   "cell_type": "code",
   "execution_count": 86,
   "id": "bd2b61da",
   "metadata": {},
   "outputs": [
    {
     "name": "stdout",
     "output_type": "stream",
     "text": [
      "\n",
      "    Gives a new shape to an array without changing its data.\n",
      "\n",
      "    Parameters\n",
      "    ----------\n",
      "    a : array_like\n",
      "        Array to be reshaped.\n",
      "    newshape : int or tuple of ints\n",
      "        The new shape should be compatible with the original shape. If\n",
      "        an integer, then the result will be a 1-D array of that length.\n",
      "        One shape dimension can be -1. In this case, the value is\n",
      "        inferred from the length of the array and remaining dimensions.\n",
      "    order : {'C', 'F', 'A'}, optional\n",
      "        Read the elements of `a` using this index order, and place the\n",
      "        elements into the reshaped array using this index order.  'C'\n",
      "        means to read / write the elements using C-like index order,\n",
      "        with the last axis index changing fastest, back to the first\n",
      "        axis index changing slowest. 'F' means to read / write the\n",
      "        elements using Fortran-like index order, with the first index\n",
      "        changing fastest, and the last index changing slowest. Note that\n",
      "        the 'C' and 'F' options take no account of the memory layout of\n",
      "        the underlying array, and only refer to the order of indexing.\n",
      "        'A' means to read / write the elements in Fortran-like index\n",
      "        order if `a` is Fortran *contiguous* in memory, C-like order\n",
      "        otherwise.\n",
      "\n",
      "    Returns\n",
      "    -------\n",
      "    reshaped_array : ndarray\n",
      "        This will be a new view object if possible; otherwise, it will\n",
      "        be a copy.  Note there is no guarantee of the *memory layout* (C- or\n",
      "        Fortran- contiguous) of the returned array.\n",
      "\n",
      "    See Also\n",
      "    --------\n",
      "    ndarray.reshape : Equivalent method.\n",
      "\n",
      "    Notes\n",
      "    -----\n",
      "    It is not always possible to change the shape of an array without\n",
      "    copying the data. If you want an error to be raised when the data is copied,\n",
      "    you should assign the new shape to the shape attribute of the array::\n",
      "\n",
      "     >>> a = np.zeros((10, 2))\n",
      "\n",
      "     # A transpose makes the array non-contiguous\n",
      "     >>> b = a.T\n",
      "\n",
      "     # Taking a view makes it possible to modify the shape without modifying\n",
      "     # the initial object.\n",
      "     >>> c = b.view()\n",
      "     >>> c.shape = (20)\n",
      "     Traceback (most recent call last):\n",
      "        ...\n",
      "     AttributeError: Incompatible shape for in-place modification. Use\n",
      "     `.reshape()` to make a copy with the desired shape.\n",
      "\n",
      "    The `order` keyword gives the index ordering both for *fetching* the values\n",
      "    from `a`, and then *placing* the values into the output array.\n",
      "    For example, let's say you have an array:\n",
      "\n",
      "    >>> a = np.arange(6).reshape((3, 2))\n",
      "    >>> a\n",
      "    array([[0, 1],\n",
      "           [2, 3],\n",
      "           [4, 5]])\n",
      "\n",
      "    You can think of reshaping as first raveling the array (using the given\n",
      "    index order), then inserting the elements from the raveled array into the\n",
      "    new array using the same kind of index ordering as was used for the\n",
      "    raveling.\n",
      "\n",
      "    >>> np.reshape(a, (2, 3)) # C-like index ordering\n",
      "    array([[0, 1, 2],\n",
      "           [3, 4, 5]])\n",
      "    >>> np.reshape(np.ravel(a), (2, 3)) # equivalent to C ravel then C reshape\n",
      "    array([[0, 1, 2],\n",
      "           [3, 4, 5]])\n",
      "    >>> np.reshape(a, (2, 3), order='F') # Fortran-like index ordering\n",
      "    array([[0, 4, 3],\n",
      "           [2, 1, 5]])\n",
      "    >>> np.reshape(np.ravel(a, order='F'), (2, 3), order='F')\n",
      "    array([[0, 4, 3],\n",
      "           [2, 1, 5]])\n",
      "\n",
      "    Examples\n",
      "    --------\n",
      "    >>> a = np.array([[1,2,3], [4,5,6]])\n",
      "    >>> np.reshape(a, 6)\n",
      "    array([1, 2, 3, 4, 5, 6])\n",
      "    >>> np.reshape(a, 6, order='F')\n",
      "    array([1, 4, 2, 5, 3, 6])\n",
      "\n",
      "    >>> np.reshape(a, (3,-1))       # the unspecified value is inferred to be 2\n",
      "    array([[1, 2],\n",
      "           [3, 4],\n",
      "           [5, 6]])\n",
      "    \n"
     ]
    }
   ],
   "source": [
    "print( np.reshape.__doc__ )"
   ]
  },
  {
   "cell_type": "code",
   "execution_count": 89,
   "id": "74c83944",
   "metadata": {},
   "outputs": [
    {
     "name": "stdout",
     "output_type": "stream",
     "text": [
      "Gives a new shape to an array without changing its data.\n",
      "\n",
      "Parameters\n",
      "----------\n",
      "a : array_like\n",
      "    Array to be reshaped.\n",
      "newshape : int or tuple of ints\n",
      "    The new shape should be compatible with the original shape. If\n",
      "    an integer, then the result will be a 1-D array of that length.\n",
      "    One shape dimension can be -1. In this case, the value is\n",
      "    inferred from the length of the array and remaining dimensions.\n",
      "order : {'C', 'F', 'A'}, optional\n",
      "    Read the elements of `a` using this index order, and place the\n",
      "    elements into the reshaped array using this index order.  'C'\n",
      "    means to read / write the elements using C-like index order,\n",
      "    with the last axis index changing fastest, back to the first\n",
      "    axis index changing slowest. 'F' means to read / write the\n",
      "    elements using Fortran-like index order, with the first index\n",
      "    changing fastest, and the last index changing slowest. Note that\n",
      "    the 'C' and 'F' options take no account of the memory layout of\n",
      "    the underlying array, and only refer to the order of indexing.\n",
      "    'A' means to read / write the elements in Fortran-like index\n",
      "    order if `a` is Fortran *contiguous* in memory, C-like order\n",
      "    otherwise.\n",
      "\n",
      "Returns\n",
      "-------\n",
      "reshaped_array : ndarray\n",
      "    This will be a new view object if possible; otherwise, it will\n",
      "    be a copy.  Note there is no guarantee of the *memory layout* (C- or\n",
      "    Fortran- contiguous) of the returned array.\n",
      "\n",
      "See Also\n",
      "--------\n",
      "ndarray.reshape : Equivalent method.\n",
      "\n",
      "Notes\n",
      "-----\n",
      "It is not always possible to change the shape of an array without\n",
      "copying the data. If you want an error to be raised when the data is copied,\n",
      "you should assign the new shape to the shape attribute of the array::\n",
      "\n",
      " >>> a = np.zeros((10, 2))\n",
      "\n",
      " # A transpose makes the array non-contiguous\n",
      " >>> b = a.T\n",
      "\n",
      " # Taking a view makes it possible to modify the shape without modifying\n",
      " # the initial object.\n",
      " >>> c = b.view()\n",
      " >>> c.shape = (20)\n",
      " Traceback (most recent call last):\n",
      "    ...\n",
      " AttributeError: Incompatible shape for in-place modification. Use\n",
      " `.reshape()` to make a copy with the desired shape.\n",
      "\n",
      "The `order` keyword gives the index ordering both for *fetching* the values\n",
      "from `a`, and then *placing* the values into the output array.\n",
      "For example, let's say you have an array:\n",
      "\n",
      ">>> a = np.arange(6).reshape((3, 2))\n",
      ">>> a\n",
      "array([[0, 1],\n",
      "       [2, 3],\n",
      "       [4, 5]])\n",
      "\n",
      "You can think of reshaping as first raveling the array (using the given\n",
      "index order), then inserting the elements from the raveled array into the\n",
      "new array using the same kind of index ordering as was used for the\n",
      "raveling.\n",
      "\n",
      ">>> np.reshape(a, (2, 3)) # C-like index ordering\n",
      "array([[0, 1, 2],\n",
      "       [3, 4, 5]])\n",
      ">>> np.reshape(np.ravel(a), (2, 3)) # equivalent to C ravel then C reshape\n",
      "array([[0, 1, 2],\n",
      "       [3, 4, 5]])\n",
      ">>> np.reshape(a, (2, 3), order='F') # Fortran-like index ordering\n",
      "array([[0, 4, 3],\n",
      "       [2, 1, 5]])\n",
      ">>> np.reshape(np.ravel(a, order='F'), (2, 3), order='F')\n",
      "array([[0, 4, 3],\n",
      "       [2, 1, 5]])\n",
      "\n",
      "Examples\n",
      "--------\n",
      ">>> a = np.array([[1,2,3], [4,5,6]])\n",
      ">>> np.reshape(a, 6)\n",
      "array([1, 2, 3, 4, 5, 6])\n",
      ">>> np.reshape(a, 6, order='F')\n",
      "array([1, 4, 2, 5, 3, 6])\n",
      "\n",
      ">>> np.reshape(a, (3,-1))       # the unspecified value is inferred to be 2\n",
      "array([[1, 2],\n",
      "       [3, 4],\n",
      "       [5, 6]])\n"
     ]
    }
   ],
   "source": [
    "import inspect\n",
    "print( inspect.getdoc( np.reshape ) )"
   ]
  },
  {
   "cell_type": "markdown",
   "id": "33523911",
   "metadata": {},
   "source": [
    "<br>\n",
    "<div id= '2.1.2'>\n",
    "    <h3>2.1.2 - Pass by assignment</h3>     \n",
    "</div>\n",
    "\n",
    "*[Go to top](#toc)*"
   ]
  },
  {
   "cell_type": "code",
   "execution_count": 90,
   "id": "991fdb13",
   "metadata": {},
   "outputs": [
    {
     "data": {
      "text/plain": [
       "[99, 2, 3]"
      ]
     },
     "execution_count": 90,
     "metadata": {},
     "output_type": "execute_result"
    }
   ],
   "source": [
    "def foo(x):\n",
    "  x[0] = 99\n",
    "\n",
    "my_ls = [ 1,2,3 ]\n",
    "foo( my_ls )\n",
    "my_ls                    # --> modifies list as it is mutable"
   ]
  },
  {
   "cell_type": "code",
   "execution_count": 92,
   "id": "4ebb428a",
   "metadata": {},
   "outputs": [
    {
     "data": {
      "text/plain": [
       "3"
      ]
     },
     "execution_count": 92,
     "metadata": {},
     "output_type": "execute_result"
    }
   ],
   "source": [
    "def bar(x):\n",
    "  x = x + 10\n",
    "\n",
    "var1 = 3\n",
    "bar(var1)\n",
    "var1                      # --> doesn't modifies 'var1' as int is immutable"
   ]
  },
  {
   "cell_type": "markdown",
   "id": "7a2bf12b",
   "metadata": {},
   "source": [
    "##### Mutable default argument is not a good idea, avoid it at all"
   ]
  },
  {
   "cell_type": "code",
   "execution_count": 104,
   "id": "b3055ea6",
   "metadata": {},
   "outputs": [
    {
     "name": "stdout",
     "output_type": "stream",
     "text": [
      "[1]\n",
      "[1, 1]\n",
      "[1, 1, 1]\n"
     ]
    },
    {
     "data": {
      "text/plain": [
       "3"
      ]
     },
     "execution_count": 104,
     "metadata": {},
     "output_type": "execute_result"
    }
   ],
   "source": [
    "def foo( var1 = [] ):            \n",
    "  var1.append(1)              # appends 1 at the end of a passed list\n",
    "  return( var1 )\n",
    "\n",
    "print( foo() )\n",
    "print( foo() )\n",
    "print( foo() )\n",
    "foo()"
   ]
  },
  {
   "cell_type": "markdown",
   "id": "88d7349b",
   "metadata": {},
   "source": [
    "##### Solution"
   ]
  },
  {
   "cell_type": "code",
   "execution_count": 113,
   "id": "c6a69a4e",
   "metadata": {},
   "outputs": [
    {
     "name": "stdout",
     "output_type": "stream",
     "text": [
      "[1]\n",
      "[1]\n",
      "[1]\n"
     ]
    },
    {
     "data": {
      "text/plain": [
       "[1]"
      ]
     },
     "execution_count": 113,
     "metadata": {},
     "output_type": "execute_result"
    }
   ],
   "source": [
    "def foo( var1 = None ):\n",
    "  if var1 is None:  var1= []\n",
    "  var1.append(1)           \n",
    "\n",
    "  return( var1 )\n",
    "\n",
    "print( foo() )\n",
    "print( foo() )\n",
    "foo()"
   ]
  },
  {
   "cell_type": "code",
   "execution_count": 115,
   "id": "57da286e",
   "metadata": {},
   "outputs": [],
   "source": [
    "def store_lower(_dict, _string):\n",
    "  \"\"\"Add a mapping between `_string` and a lowercased version of `_string` to `_dict`\n",
    "\n",
    "  Args:\n",
    "    _dict (dict): The dictionary to update.\n",
    "    _string (str): The string to add.\n",
    "  \"\"\"\n",
    "  orig_string = _string\n",
    "  _string = _string.lower()\n",
    "  _dict[orig_string] = _string\n",
    "\n",
    "d = {}\n",
    "s = 'Hello'\n",
    "\n",
    "store_lower(d, s)"
   ]
  },
  {
   "cell_type": "code",
   "execution_count": 140,
   "id": "0d04d38a",
   "metadata": {},
   "outputs": [
    {
     "data": {
      "text/plain": [
       "({'Hello': 'hello'}, 'Hello')"
      ]
     },
     "execution_count": 140,
     "metadata": {},
     "output_type": "execute_result"
    }
   ],
   "source": [
    "d, s"
   ]
  },
  {
   "cell_type": "code",
   "execution_count": 117,
   "id": "255d2a56",
   "metadata": {},
   "outputs": [
    {
     "data": {
      "text/plain": [
       "'Hello'"
      ]
     },
     "execution_count": 117,
     "metadata": {},
     "output_type": "execute_result"
    }
   ],
   "source": [
    "s"
   ]
  },
  {
   "cell_type": "code",
   "execution_count": 139,
   "id": "99cf6efc",
   "metadata": {},
   "outputs": [
    {
     "name": "stdout",
     "output_type": "stream",
     "text": [
      "1 1\n",
      "11 1\n"
     ]
    }
   ],
   "source": [
    "a = 1\n",
    "b = a\n",
    "print( a, b )\n",
    "\n",
    "a = a + 10\n",
    "print( a, b )"
   ]
  },
  {
   "cell_type": "code",
   "execution_count": 138,
   "id": "ecec993d",
   "metadata": {},
   "outputs": [
    {
     "name": "stdout",
     "output_type": "stream",
     "text": [
      "[1, 2, 3] [1, 2, 3]\n",
      "[1, 2, 3, 4] [1, 2, 3, 4]\n"
     ]
    }
   ],
   "source": [
    "a = [ 1,2,3 ]\n",
    "b = a\n",
    "print( a, b )\n",
    "\n",
    "a.append(4)\n",
    "print( a, b )"
   ]
  },
  {
   "cell_type": "markdown",
   "id": "58a9d132",
   "metadata": {},
   "source": [
    "<br>\n",
    "\n",
    "#### Never do Default argument Mutable: pandas example\n",
    "\n",
    "When you need to set a mutable variable as a default argument, always use None and then set the value in the body of the function. This prevents unexpected behavior like adding multiple columns if you call the function more than once."
   ]
  },
  {
   "cell_type": "code",
   "execution_count": null,
   "id": "06d52b74",
   "metadata": {},
   "outputs": [],
   "source": [
    "def add_column( values, df= pandas.DataFrame() ):\n",
    "  \"\"\"Add a column of `values` to a DataFrame `df`. The column will be named \"col_<n>\" where \"n\" is the numerical index of the column.\n",
    "  Args:\n",
    "    values (iterable): The values of the new column\n",
    "    df (DataFrame, optional): The DataFrame to update. If no DataFrame is passed, one is created by default.\n",
    "  Returns: DataFrame\n",
    "  \"\"\"\n",
    "  df[  'col_{}'.format( len(df.columns) )  ] = values\n",
    "\n",
    "  return( df )"
   ]
  },
  {
   "cell_type": "markdown",
   "id": "a2aae693",
   "metadata": {},
   "source": [
    "Solution"
   ]
  },
  {
   "cell_type": "code",
   "execution_count": null,
   "id": "220f3664",
   "metadata": {},
   "outputs": [],
   "source": [
    "def better_add_column( values, df= None ):\n",
    "  if df is None:  df = pandas.DataFrame()\n",
    "  df[  'col_{}'.format( len(df.columns) )  ] = values\n",
    "  \n",
    "  return( df )"
   ]
  },
  {
   "cell_type": "markdown",
   "id": "59bb5b0f",
   "metadata": {},
   "source": [
    "<br><br>\n",
    "<div id= '2.2'>\n",
    "    <h2>Chapter 2.2 - Context Managers</h2>\n",
    "</div>\n",
    "\n",
    "#### Key Concepts\n",
    "Context managers are a convenient way to provide connections in Python and guarantee that those connections get cleaned up when one is done using them. \n",
    "\n",
    "    - learn how to use context managers\n",
    "    - learn how to how to write a context manager\n",
    "\n",
    "<div id= '2.2.1'>\n",
    "    <h3>2.2.1 - Using Context Manager</h3>     \n",
    "</div>\n",
    "\n",
    "*[Go to top](#toc)*"
   ]
  },
  {
   "cell_type": "code",
   "execution_count": 13,
   "id": "4b9029ec",
   "metadata": {},
   "outputs": [
    {
     "data": {
      "text/plain": [
       "'How do we know climate change is really happening?\\n\\nClimate change is often cast as a prediction made by complicated computer models. But the scientific basis for climate change is much broader, and models are actually only one part of it (and, for what it’s worth, they’re surprisingly accurate).\\n\\nFor more than a century, scientists have understood the basic physics behind why greenhouse gases like carbon dioxide cause warming. These gases make up just a small fraction of the atmosphere but exer'"
      ]
     },
     "execution_count": 13,
     "metadata": {},
     "output_type": "execute_result"
    }
   ],
   "source": [
    "# calculate number of times \"climate\" is used\n",
    "\n",
    "with open(  'dataset\\\\climate_change.txt', encoding= 'utf-8' ) as file1:\n",
    "    readTxt_str = file1.read( )\n",
    "\n",
    "readTxt_str[ :500 ]"
   ]
  },
  {
   "cell_type": "code",
   "execution_count": 17,
   "id": "3e6580f4",
   "metadata": {},
   "outputs": [
    {
     "ename": "ValueError",
     "evalue": "I/O operation on closed file.",
     "output_type": "error",
     "traceback": [
      "\u001b[1;31m---------------------------------------------------------------------------\u001b[0m",
      "\u001b[1;31mValueError\u001b[0m                                Traceback (most recent call last)",
      "\u001b[1;32mc:\\Users\\k31952\\OneDrive - FINRA\\Learning\\Python\\Course -  Python Programming.ipynb Cell 213\u001b[0m in \u001b[0;36m<cell line: 1>\u001b[1;34m()\u001b[0m\n\u001b[1;32m----> <a href='vscode-notebook-cell:/c%3A/Users/k31952/OneDrive%20-%20FINRA/Learning/Python/Course%20-%20%20Python%20Programming.ipynb#Y423sZmlsZQ%3D%3D?line=0'>1</a>\u001b[0m file1\u001b[39m.\u001b[39;49mread()\n",
      "\u001b[1;31mValueError\u001b[0m: I/O operation on closed file."
     ]
    }
   ],
   "source": [
    "file1.read()   # returns: ValueError: I/O operation on closed file. as the file is closed inside the Context manager"
   ]
  },
  {
   "cell_type": "markdown",
   "id": "2875de2f",
   "metadata": {},
   "source": [
    "<div id= '2.2.2'>\n",
    "    <h3>2.2.2 - Writing context managers</h3>     \n",
    "</div>\n",
    "\n",
    "*[Go to top](#toc)*\n",
    "\n",
    "Context manager can be written in 2 ways:\n",
    "\n",
    "    i.  Class-based using __enter__() & __exit__()\n",
    "    ii. Decorating the function\n",
    "\n",
    "##### Create Context-manager-func if a process/flow has follwoing any or combined patterns:\n",
    "        Open - Close\n",
    "        Lock - Release\n",
    "        Change - Reset\n",
    "        Enter - Exit\n",
    "        Start - Stop\n",
    "        Setup - Teardown\n",
    "        Connect - Disconnect\n",
    "\n",
    "\n",
    "##### Creating Context-manager-func by Decorating the function\n",
    "```\n",
    "@contextlib.contextmanager               # <-- (1) decorator\n",
    "def context_func():\n",
    "\n",
    "    (2) statement(s) that runs within the context\n",
    "\n",
    "    yield  or  yield( rv )  or yield( rv1, rv2 )                   # (3) <-- with or without return variables    \n",
    "\n",
    "    (3) any reverse/undoing, cleaning out, teardown statment(s) when the flow exits out context_func's context\n",
    "```"
   ]
  },
  {
   "cell_type": "markdown",
   "id": "5df99cbd",
   "metadata": {},
   "source": [
    "A. Context Manager that yield no variable"
   ]
  },
  {
   "cell_type": "code",
   "execution_count": null,
   "id": "2bb34999",
   "metadata": {},
   "outputs": [],
   "source": [
    "import pyodbc as pydb\n",
    "import contextlib"
   ]
  },
  {
   "cell_type": "markdown",
   "id": "602634ba",
   "metadata": {},
   "source": [
    "non-sensical but logically correct example to show the flow of context"
   ]
  },
  {
   "cell_type": "code",
   "execution_count": 150,
   "id": "d25d5e20",
   "metadata": {},
   "outputs": [],
   "source": [
    "@contextlib.contextmanager\n",
    "def context_func1():\n",
    "    print( 'Context func pre-yield.' )\n",
    "\n",
    "    yield_val = 'any yield value'\n",
    "    print( 'yield_val variable assigned. ' )\n",
    "\n",
    "    yield( yield_val )\n",
    "\n",
    "    print( \"Context func post-yield. This is where you put:\\t\\t(3) any reverse/undoing, cleaning out, clean-up, teardown statment(s) when the flow exits out context_func's context\" )"
   ]
  },
  {
   "cell_type": "code",
   "execution_count": 151,
   "id": "9cc7aca1",
   "metadata": {},
   "outputs": [
    {
     "name": "stdout",
     "output_type": "stream",
     "text": [
      "Context func pre-yield.\n",
      "yield_val variable assigned. \n",
      "Printed inside context\n",
      "Yield value received from context_func1() \t-->\t any yield value\n",
      "Last print from context_func1()\n",
      "Context func post-yield. This is where you put:\t\t(3) any reverse/undoing, cleaning out, clean-up, teardown statment(s) when the flow exits out context_func's context\n",
      "Printed outside with context_func1()\n"
     ]
    }
   ],
   "source": [
    "with context_func1() as contextYieldVal:\n",
    "    print( 'Printed inside context' )\n",
    "    print( f'Yield value received from context_func1() \\t-->\\t {contextYieldVal}' ) \n",
    "    print( 'Last print from context_func1()' )\n",
    "\n",
    "print( 'Printed outside with context_func1()' )"
   ]
  },
  {
   "cell_type": "code",
   "execution_count": 23,
   "id": "b354c0e4",
   "metadata": {},
   "outputs": [],
   "source": [
    "## Context manager func to temp change current dir and change back to the original one\n",
    "\n",
    "@contextlib.contextmanager\n",
    "def chdir_temp( path_new ):\n",
    "    dir_old = os.getcwd()                 # save cwd \n",
    "    os.chdir( path_new )                  # switch to new working dir\n",
    "\n",
    "    yield\n",
    "   \n",
    "    os.chdir( dir_old )                   # Tear-down statement i.e. statement that negates the temp changes --> change back to original old dir"
   ]
  },
  {
   "cell_type": "code",
   "execution_count": 25,
   "id": "c2ceeec3",
   "metadata": {},
   "outputs": [
    {
     "name": "stdout",
     "output_type": "stream",
     "text": [
      "c:\\Users\\k31952\\OneDrive - FINRA\\Learning\\Python\n",
      "G:\\Internal Audit\\Audit Working Papers\n",
      "['2010', '2011', '2012', '2013', '2014', '2015', '2016', '2017', '2018', '2019', '2020', '2021', '2022', '2023', 'ASERT', 'CAATS', 'CAP', 'Current Team Projects']\n",
      "c:\\Users\\k31952\\OneDrive - FINRA\\Learning\\Python\n"
     ]
    }
   ],
   "source": [
    "print( os.getcwd() )\n",
    "\n",
    "with chdir_temp( r'G:\\Internal Audit\\Audit Working Papers' ):\n",
    "    print( os.getcwd() )\n",
    "    project_files = os.listdir()\n",
    "    print( project_files )\n",
    "    \n",
    "print( os.getcwd() )"
   ]
  },
  {
   "cell_type": "code",
   "execution_count": 59,
   "id": "e0a0ea74",
   "metadata": {},
   "outputs": [
    {
     "name": "stdout",
     "output_type": "stream",
     "text": [
      "['2010', '2011', '2012', '2013', '2014', '2015', '2016', '2017', '2018', '2019', '2020', '2021', '2022', '2023', 'ASERT', 'CAATS', 'CAP', 'Current Team Projects']\n"
     ]
    }
   ],
   "source": [
    "print( project_files )"
   ]
  },
  {
   "cell_type": "markdown",
   "id": "8daba95f",
   "metadata": {},
   "source": [
    "B. Context Manager that yield one variable"
   ]
  },
  {
   "cell_type": "code",
   "execution_count": null,
   "id": "f7df0109",
   "metadata": {},
   "outputs": [],
   "source": [
    "excel_driver = [ e_dr for e_dr in pydb.drivers() if '.xls' in e_dr ][0]"
   ]
  },
  {
   "cell_type": "code",
   "execution_count": 85,
   "id": "15d337e8",
   "metadata": {},
   "outputs": [],
   "source": [
    "@contextlib.contextmanager\n",
    "def connect_to_db( filepath ):\n",
    "    # set up db connection\n",
    "    cnx_pydb = pydb.connect(  driver= excel_driver, dbq= filepath, autocommit= True, readonly= 1 )\n",
    "    cur_pydb = cnx_pydb.cursor()\n",
    "\n",
    "    yield( cur_pydb )\n",
    "    \n",
    "    # Tear-down statement i.e. statement that is to be run when the program exist the context: close the db connection\n",
    "    cur_pydb.close();  cnx_pydb.close()"
   ]
  },
  {
   "cell_type": "code",
   "execution_count": 87,
   "id": "2581b159",
   "metadata": {},
   "outputs": [],
   "source": [
    "filepath_temp = r'C:\\Users\\k31952\\OneDrive - FINRA\\Learning\\Python\\dataset\\sample_excelfile.xlsx'\n",
    "\n",
    "with connect_to_db( filepath_temp ) as cur_obj:\n",
    "    worksheet_1 = [  e_worksheet[2]  for e_worksheet in cur_obj.tables()  ][0]\n",
    "    cur_obj.execute(  \"select * from [{}]\".format( worksheet_1 )  )\n",
    "    worksheet_content = cur_obj.fetchall()\n",
    "\n",
    "# the cursor and the connection are both closed once the context is exited"
   ]
  },
  {
   "cell_type": "code",
   "execution_count": 90,
   "id": "18442712",
   "metadata": {},
   "outputs": [
    {
     "ename": "ProgrammingError",
     "evalue": "Attempt to use a closed cursor.",
     "output_type": "error",
     "traceback": [
      "\u001b[1;31m---------------------------------------------------------------------------\u001b[0m",
      "\u001b[1;31mProgrammingError\u001b[0m                          Traceback (most recent call last)",
      "\u001b[1;32mc:\\Users\\k31952\\OneDrive - FINRA\\Learning\\Python\\Course -  Python Programming.ipynb Cell 223\u001b[0m in \u001b[0;36m<cell line: 1>\u001b[1;34m()\u001b[0m\n\u001b[1;32m----> <a href='vscode-notebook-cell:/c%3A/Users/k31952/OneDrive%20-%20FINRA/Learning/Python/Course%20-%20%20Python%20Programming.ipynb#Y515sZmlsZQ%3D%3D?line=0'>1</a>\u001b[0m cur_obj\u001b[39m.\u001b[39;49mexecute(  \u001b[39m\"\u001b[39;49m\u001b[39mselect * from [\u001b[39;49m\u001b[39m{}\u001b[39;49;00m\u001b[39m]\u001b[39;49m\u001b[39m\"\u001b[39;49m\u001b[39m.\u001b[39;49mformat( worksheet_1 )  )\n",
      "\u001b[1;31mProgrammingError\u001b[0m: Attempt to use a closed cursor."
     ]
    }
   ],
   "source": [
    "cur_obj.execute(  \"select * from [{}]\".format( worksheet_1 )  )\n",
    "# gives --> ProgrammingError: Attempt to use a closed cursor as the cursor is closed once the context is completed \n",
    "# but the \"worksheet_content\" still exist outside the context."
   ]
  },
  {
   "cell_type": "code",
   "execution_count": 91,
   "id": "cd87344c",
   "metadata": {},
   "outputs": [
    {
     "data": {
      "text/plain": [
       "[(1.0, 'Shashesh Silwal', 30.0),\n",
       " (2.0, 'Prasiddha Pandey', 33.0),\n",
       " (3.0, 'Bikalp Acharya', 35.0),\n",
       " (4.0, 'Bidur Pokharel', 33.0)]"
      ]
     },
     "execution_count": 91,
     "metadata": {},
     "output_type": "execute_result"
    }
   ],
   "source": [
    "worksheet_content"
   ]
  },
  {
   "cell_type": "markdown",
   "id": "2385e6f0",
   "metadata": {},
   "source": [
    "C. Context Manager that yield multiple variables"
   ]
  },
  {
   "cell_type": "code",
   "execution_count": 94,
   "id": "ace01697",
   "metadata": {},
   "outputs": [],
   "source": [
    "@contextlib.contextmanager\n",
    "def connect_to_db( filepath ):\n",
    "    # set up db connection\n",
    "    cnx_pydb = pydb.connect(  driver= excel_driver, dbq= filepath, autocommit= TruKae, readonly= 1 )\n",
    "    cur_pydb = cnx_pydb.cursor()\n",
    "\n",
    "    yield( cnx_pydb, cur_pydb )\n",
    "    \n",
    "    # Tear-down statement i.e. statement that is to be run when the program exist the context: close the db connection\n",
    "    cur_pydb.close();  cnx_pydb.close()"
   ]
  },
  {
   "cell_type": "code",
   "execution_count": 100,
   "id": "736f0b15",
   "metadata": {},
   "outputs": [
    {
     "data": {
      "text/plain": [
       "[(1.0, 'Shashesh Silwal', 30.0),\n",
       " (2.0, 'Prasiddha Pandey', 33.0),\n",
       " (3.0, 'Bikalp Acharya', 35.0),\n",
       " (4.0, 'Bidur Pokharel', 33.0)]"
      ]
     },
     "execution_count": 100,
     "metadata": {},
     "output_type": "execute_result"
    }
   ],
   "source": [
    "with connect_to_db( filepath_temp ) as ( cnx_pydb, cur_pydb ):\n",
    "    worksheet_1 = [  e_worksheet[2]  for e_worksheet in cur_pydb.tables()  ][0]\n",
    "    cur_pydb.execute(  \"select * from [{}]\".format( worksheet_1 )  )\n",
    "    worksheet_content = cur_pydb.fetchall()\n",
    "\n",
    "worksheet_content"
   ]
  },
  {
   "cell_type": "markdown",
   "id": "e9db8530",
   "metadata": {},
   "source": [
    "Use Cases: Context Manager - timing a function"
   ]
  },
  {
   "cell_type": "code",
   "execution_count": 29,
   "id": "b18b5d37",
   "metadata": {},
   "outputs": [],
   "source": [
    "import time"
   ]
  },
  {
   "cell_type": "code",
   "execution_count": 30,
   "id": "2317f48a",
   "metadata": {},
   "outputs": [],
   "source": [
    "@contextlib.contextmanager\n",
    "def timer():\n",
    "    \"\"\"Time the execution of a context block.\n",
    "    \"\"\"\n",
    "    start_tm = time.time()\n",
    "\n",
    "    yield\n",
    "    \n",
    "    end_tm = time.time()\n",
    "    print(  'Time taken: {:.2f} sec'.format( end_tm-start_tm )  )"
   ]
  },
  {
   "cell_type": "code",
   "execution_count": 34,
   "id": "4efaf5af",
   "metadata": {},
   "outputs": [
    {
     "name": "stdout",
     "output_type": "stream",
     "text": [
      "Time taken: 0.71 sec\n"
     ]
    }
   ],
   "source": [
    "with timer():\n",
    "    time.sleep( 0.7 )"
   ]
  },
  {
   "cell_type": "markdown",
   "id": "93a7b1fe",
   "metadata": {},
   "source": [
    "or make it fancy by making a func and using it"
   ]
  },
  {
   "cell_type": "code",
   "execution_count": 32,
   "id": "42c5b10a",
   "metadata": {},
   "outputs": [
    {
     "name": "stdout",
     "output_type": "stream",
     "text": [
      "Time taken: 0.70 sec\n"
     ]
    }
   ],
   "source": [
    "def func1():\n",
    "    time.sleep( 0.7 )\n",
    "    \n",
    "with timer():\n",
    "    func1()"
   ]
  },
  {
   "cell_type": "markdown",
   "id": "6ed40d4d",
   "metadata": {},
   "source": [
    "<br>\n",
    "\n",
    "#### A read-only open() context manager:<br>\n",
    " Create a read-only version of the open() context manager\n",
    "\n"
   ]
  },
  {
   "cell_type": "code",
   "execution_count": 35,
   "id": "f93b5d91",
   "metadata": {},
   "outputs": [],
   "source": [
    "@contextlib.contextmanager\n",
    "def open_Readonly( filepath, encoding= 'utf-8' ):\n",
    "   \n",
    "    file_R = open( filepath, mode= 'r', encoding= 'utf-8' )\n",
    "    \n",
    "    yield( file_R )\n",
    "\n",
    "    file_R.close()"
   ]
  },
  {
   "cell_type": "code",
   "execution_count": 36,
   "id": "6113b113",
   "metadata": {},
   "outputs": [
    {
     "name": "stdout",
     "output_type": "stream",
     "text": [
      "How do we know climate change is really happening?\n",
      "\n",
      "Climate change is often cast as a prediction made by complicated computer models. But the scientific basis for climate change is much broader, and models are actually only one part of it (and, for what it’s worth, they’re surprisingly accurate).\n",
      "\n",
      "For more than a century, scientists have understood the basic physics behind why greenhouse gases like carbon dioxide cause warming. These gases make up just a small fraction of the atmosphere but exer\n"
     ]
    }
   ],
   "source": [
    "with open_Readonly( r'C:\\Users\\k31952\\OneDrive - FINRA\\Learning\\Python\\dataset\\climate_change.txt' ) as fl_R:\n",
    "    print( fl_R.read()[:500] )"
   ]
  },
  {
   "cell_type": "markdown",
   "id": "f5ed2eb2",
   "metadata": {},
   "source": [
    "<br><br>\n",
    "<div id= '2.2.3'>\n",
    "    <h3>2.2.3 - Advanced topics</h3>     \n",
    "</div>\n",
    "\n",
    "<div id= '2.2.3.1'></div>\n",
    "<h4>2.2.3.1 - Advanced topics: Nested Contexts</h4>\n",
    "\n",
    "*[Go to top](#toc)*"
   ]
  },
  {
   "cell_type": "code",
   "execution_count": 37,
   "id": "83481947",
   "metadata": {},
   "outputs": [],
   "source": [
    "@contextlib.contextmanager\n",
    "def open_Readonly( filepath, encoding= 'utf-8' ):\n",
    "    file_R = open( filepath, mode= 'r', encoding= 'utf-8' )\n",
    "    yield( file_R )\n",
    "    file_R.close()"
   ]
  },
  {
   "cell_type": "code",
   "execution_count": 134,
   "id": "9654dfb1",
   "metadata": {},
   "outputs": [],
   "source": [
    "# Example of copying file without nested context\n",
    "filepath_src = r'C:\\Users\\k31952\\OneDrive - FINRA\\Learning\\Python\\dataset\\climate_change.txt'\n",
    "filepath_dst = r'C:\\Users\\k31952\\OneDrive - FINRA\\Learning\\Python\\dataset\\climate_change_dest.txt'\n",
    "\n",
    "# open the source file\n",
    "with open_Readonly( filepath_src ) as f_src:\n",
    "    f_src_content = f_src.read()\n",
    "\n",
    "with open( filepath_dst, 'w' ) as f_dst:\n",
    "    f_dst.write( f_src_content )"
   ]
  },
  {
   "cell_type": "markdown",
   "id": "626a25e4",
   "metadata": {},
   "source": [
    "This approach works fine until one tries to copy a file that is too large to fit in the memory<br>\n",
    "\n",
    "Opening both files at once and copying over one line at a time would be ideal; it can be done using `Nested Contexts`."
   ]
  },
  {
   "cell_type": "code",
   "execution_count": null,
   "id": "bbd15b1e",
   "metadata": {},
   "outputs": [],
   "source": [
    "with open( filepath_src ) as f_src:\n",
    "    with open( filepath_dst ) as f_dst:\n",
    "        for eLine in f_src:                                  # read & write each line, line-by-line\n",
    "            f_dst.write( eLine )"
   ]
  },
  {
   "cell_type": "code",
   "execution_count": 135,
   "id": "adb77f64",
   "metadata": {},
   "outputs": [],
   "source": [
    "# OR use previously constructed context manager func open_Readonly()\n",
    "with open_Readonly( filepath_src, 'r' ) as f_src:\n",
    "    with open( filepath_dst, 'w' ) as f_dst:\n",
    "        for eLine in f_src:\n",
    "            f_dst.write( eLine )"
   ]
  },
  {
   "cell_type": "code",
   "execution_count": 139,
   "id": "83d79de2",
   "metadata": {},
   "outputs": [],
   "source": [
    "# or make a function out of it\n",
    "def copy_file_lineByLine( filepath_src, filepath_dest ):\n",
    "    with open_Readonly( filepath_src ) as f_src:\n",
    "        with open( filepath_dst, 'w' ) as f_dst:\n",
    "            for eLine in f_src:\n",
    "                f_dst.write( eLine )"
   ]
  },
  {
   "cell_type": "markdown",
   "id": "e5abdd9e",
   "metadata": {},
   "source": [
    "<br>\n",
    "<div id= '2.2.3.2'></div>\n",
    "<h4>2.2.3.2 - Advanced topics: Handling Errors in the Context Manager</h4>\n",
    "\n",
    "*[Go to top](#toc)*\n",
    "\n",
    "what if the source file doesn't exist, and let's say if the src file doesn't exist we still want \n",
    "the destination file as the dest file is input to the next flow of programming.\n",
    "\n",
    "So if the src file doesn't exist, we create and empty source file and thus save our programming flow from breaking. :)"
   ]
  },
  {
   "cell_type": "code",
   "execution_count": 203,
   "id": "f1d088c6",
   "metadata": {},
   "outputs": [],
   "source": [
    "# repeating previous func\n",
    "@contextlib.contextmanager\n",
    "def open_Readonly( filepath, encoding= 'utf-8' ):\n",
    "    file_R = open( filepath, mode= 'r', encoding= 'utf-8' )\n",
    "    yield( file_R )\n",
    "    file_R.close()"
   ]
  },
  {
   "cell_type": "code",
   "execution_count": 204,
   "id": "ee85b323",
   "metadata": {},
   "outputs": [
    {
     "ename": "FileNotFoundError",
     "evalue": "[Errno 2] No such file or directory: 'C:\\\\Users\\\\k31952\\\\OneDrive - FINRA\\\\Learning\\\\Python\\\\dataset\\\\climate_change-333545.txt'",
     "output_type": "error",
     "traceback": [
      "\u001b[1;31m---------------------------------------------------------------------------\u001b[0m",
      "\u001b[1;31mFileNotFoundError\u001b[0m                         Traceback (most recent call last)",
      "\u001b[1;32mc:\\Users\\k31952\\OneDrive - FINRA\\Learning\\Python\\Course -  Python Programming.ipynb Cell 249\u001b[0m in \u001b[0;36m<cell line: 3>\u001b[1;34m()\u001b[0m\n\u001b[0;32m      <a href='vscode-notebook-cell:/c%3A/Users/k31952/OneDrive%20-%20FINRA/Learning/Python/Course%20-%20%20Python%20Programming.ipynb#Y463sZmlsZQ%3D%3D?line=0'>1</a>\u001b[0m file_src \u001b[39m=\u001b[39m \u001b[39mr\u001b[39m\u001b[39m'\u001b[39m\u001b[39mC:\u001b[39m\u001b[39m\\\u001b[39m\u001b[39mUsers\u001b[39m\u001b[39m\\\u001b[39m\u001b[39mk31952\u001b[39m\u001b[39m\\\u001b[39m\u001b[39mOneDrive - FINRA\u001b[39m\u001b[39m\\\u001b[39m\u001b[39mLearning\u001b[39m\u001b[39m\\\u001b[39m\u001b[39mPython\u001b[39m\u001b[39m\\\u001b[39m\u001b[39mdataset\u001b[39m\u001b[39m\\\u001b[39m\u001b[39mclimate_change-333545.txt\u001b[39m\u001b[39m'\u001b[39m\n\u001b[1;32m----> <a href='vscode-notebook-cell:/c%3A/Users/k31952/OneDrive%20-%20FINRA/Learning/Python/Course%20-%20%20Python%20Programming.ipynb#Y463sZmlsZQ%3D%3D?line=2'>3</a>\u001b[0m \u001b[39mwith\u001b[39;00m open_Readonly( file_src ) \u001b[39mas\u001b[39;00m fl_R:\n\u001b[0;32m      <a href='vscode-notebook-cell:/c%3A/Users/k31952/OneDrive%20-%20FINRA/Learning/Python/Course%20-%20%20Python%20Programming.ipynb#Y463sZmlsZQ%3D%3D?line=3'>4</a>\u001b[0m     \u001b[39mprint\u001b[39m( fl_R\u001b[39m.\u001b[39mread()[:\u001b[39m500\u001b[39m] )\n",
      "File \u001b[1;32mc:\\Users\\k31952\\.conda\\envs\\basic\\lib\\contextlib.py:135\u001b[0m, in \u001b[0;36m_GeneratorContextManager.__enter__\u001b[1;34m(self)\u001b[0m\n\u001b[0;32m    133\u001b[0m \u001b[39mdel\u001b[39;00m \u001b[39mself\u001b[39m\u001b[39m.\u001b[39margs, \u001b[39mself\u001b[39m\u001b[39m.\u001b[39mkwds, \u001b[39mself\u001b[39m\u001b[39m.\u001b[39mfunc\n\u001b[0;32m    134\u001b[0m \u001b[39mtry\u001b[39;00m:\n\u001b[1;32m--> 135\u001b[0m     \u001b[39mreturn\u001b[39;00m \u001b[39mnext\u001b[39;49m(\u001b[39mself\u001b[39;49m\u001b[39m.\u001b[39;49mgen)\n\u001b[0;32m    136\u001b[0m \u001b[39mexcept\u001b[39;00m \u001b[39mStopIteration\u001b[39;00m:\n\u001b[0;32m    137\u001b[0m     \u001b[39mraise\u001b[39;00m \u001b[39mRuntimeError\u001b[39;00m(\u001b[39m\"\u001b[39m\u001b[39mgenerator didn\u001b[39m\u001b[39m'\u001b[39m\u001b[39mt yield\u001b[39m\u001b[39m\"\u001b[39m) \u001b[39mfrom\u001b[39;00m \u001b[39mNone\u001b[39m\n",
      "\u001b[1;32mc:\\Users\\k31952\\OneDrive - FINRA\\Learning\\Python\\Course -  Python Programming.ipynb Cell 249\u001b[0m in \u001b[0;36mopen_Readonly\u001b[1;34m(filepath, encoding)\u001b[0m\n\u001b[0;32m      <a href='vscode-notebook-cell:/c%3A/Users/k31952/OneDrive%20-%20FINRA/Learning/Python/Course%20-%20%20Python%20Programming.ipynb#Y463sZmlsZQ%3D%3D?line=1'>2</a>\u001b[0m \u001b[39m@contextlib\u001b[39m\u001b[39m.\u001b[39mcontextmanager\n\u001b[0;32m      <a href='vscode-notebook-cell:/c%3A/Users/k31952/OneDrive%20-%20FINRA/Learning/Python/Course%20-%20%20Python%20Programming.ipynb#Y463sZmlsZQ%3D%3D?line=2'>3</a>\u001b[0m \u001b[39mdef\u001b[39;00m \u001b[39mopen_Readonly\u001b[39m( filepath, encoding\u001b[39m=\u001b[39m \u001b[39m'\u001b[39m\u001b[39mutf-8\u001b[39m\u001b[39m'\u001b[39m ):\n\u001b[1;32m----> <a href='vscode-notebook-cell:/c%3A/Users/k31952/OneDrive%20-%20FINRA/Learning/Python/Course%20-%20%20Python%20Programming.ipynb#Y463sZmlsZQ%3D%3D?line=3'>4</a>\u001b[0m     file_R \u001b[39m=\u001b[39m \u001b[39mopen\u001b[39;49m( filepath, mode\u001b[39m=\u001b[39;49m \u001b[39m'\u001b[39;49m\u001b[39mr\u001b[39;49m\u001b[39m'\u001b[39;49m, encoding\u001b[39m=\u001b[39;49m \u001b[39m'\u001b[39;49m\u001b[39mutf-8\u001b[39;49m\u001b[39m'\u001b[39;49m )\n\u001b[0;32m      <a href='vscode-notebook-cell:/c%3A/Users/k31952/OneDrive%20-%20FINRA/Learning/Python/Course%20-%20%20Python%20Programming.ipynb#Y463sZmlsZQ%3D%3D?line=4'>5</a>\u001b[0m     \u001b[39myield\u001b[39;00m( file_R )\n\u001b[0;32m      <a href='vscode-notebook-cell:/c%3A/Users/k31952/OneDrive%20-%20FINRA/Learning/Python/Course%20-%20%20Python%20Programming.ipynb#Y463sZmlsZQ%3D%3D?line=5'>6</a>\u001b[0m     file_R\u001b[39m.\u001b[39mclose()\n",
      "\u001b[1;31mFileNotFoundError\u001b[0m: [Errno 2] No such file or directory: 'C:\\\\Users\\\\k31952\\\\OneDrive - FINRA\\\\Learning\\\\Python\\\\dataset\\\\climate_change-333545.txt'"
     ]
    }
   ],
   "source": [
    "filepath = r'C:\\Users\\k31952\\OneDrive - FINRA\\Learning\\Python\\dataset\\climate_change-333545.txt'\n",
    "with open_Readonly( filepath ) as fl_R:\n",
    "    print( fl_R.read()[:500] )                    \n",
    "## might get error if the file doesn't exist"
   ]
  },
  {
   "cell_type": "code",
   "execution_count": 205,
   "id": "6728ea8d",
   "metadata": {},
   "outputs": [],
   "source": [
    "# use try-except-finally error handling\n",
    "@contextlib.contextmanager\n",
    "def open_Readonly_special( filepath ):\n",
    "    try:  file_R = open( filepath, mode= 'r', encoding= 'utf-8' )\n",
    "    except FileNotFoundError:      \n",
    "        with open( filepath, 'w' ) as file_temp:                        # create a new file \n",
    "            file_temp.write( 'Empty file' )\n",
    "    finally:                             \n",
    "        file_R = open( filepath, mode= 'r', encoding= 'utf-8' )         # now read the nascent file\n",
    "        yield( file_R )               \n",
    "        file_R.close()"
   ]
  },
  {
   "cell_type": "code",
   "execution_count": 206,
   "id": "4bb76be0",
   "metadata": {},
   "outputs": [
    {
     "name": "stdout",
     "output_type": "stream",
     "text": [
      "Empty file\n"
     ]
    }
   ],
   "source": [
    "filepath = r'C:\\Users\\k31952\\OneDrive - FINRA\\Learning\\Python\\dataset\\climate_change-asas.txt'\n",
    "with open_Readonly_special( filepath ) as fl_R:\n",
    "    print( fl_R.read() )"
   ]
  },
  {
   "cell_type": "markdown",
   "id": "988f68b2",
   "metadata": {},
   "source": [
    "Or try to break the function D1T if you fancy making and then using function (sometimes needed)"
   ]
  },
  {
   "cell_type": "code",
   "execution_count": 57,
   "id": "717b92d4",
   "metadata": {},
   "outputs": [
    {
     "name": "stdout",
     "output_type": "stream",
     "text": [
      "\n",
      "The downside of just using a mere function instead of Context-manager-enabled function is we cannot pass the file1 if required.\n",
      "Discused and illustrated more just below:\n",
      "\n"
     ]
    }
   ],
   "source": [
    "def createWrite_file( filepath ):\n",
    "    file1 = open( filepath, 'w' )\n",
    "    file1.write( 'Empty file' )\n",
    "    file1.close()\n",
    "\n",
    "# OR\n",
    "\n",
    "def createWrite_file( filepath ):\n",
    "    with open( filepath, 'w' ) as file1:\n",
    "        file1.write('Empty file'  )\n",
    "\n",
    "\n",
    "print('''\n",
    "The downside of just using a mere function instead of Context-manager-enabled function is we cannot pass the file1 if required. Actually we do can pass the file_obj but no way to close it after it's usage is completed.\n",
    "Discused and illustrated more just below:\n",
    "''')"
   ]
  },
  {
   "cell_type": "code",
   "execution_count": 240,
   "id": "3bfb9af8",
   "metadata": {},
   "outputs": [],
   "source": [
    "@contextlib.contextmanager\n",
    "def open_Readonly_special( filepath ):\n",
    "    try:  file_R = open( filepath, mode= 'r', encoding= 'utf-8' )\n",
    "    except FileNotFoundError:  createWrite_file( filepath )    \n",
    "    finally:\n",
    "        file_R = open( filepath, mode= 'r', encoding= 'utf-8' )\n",
    "        yield( file_R )             \n",
    "        file_R.close()"
   ]
  },
  {
   "cell_type": "code",
   "execution_count": 241,
   "id": "e95c5fa7",
   "metadata": {},
   "outputs": [
    {
     "name": "stdout",
     "output_type": "stream",
     "text": [
      "Empty file\n"
     ]
    }
   ],
   "source": [
    "filepath = r'C:\\Users\\k31952\\OneDrive - FINRA\\Learning\\Python\\dataset\\climate_change-1234.txt'\n",
    "\n",
    "with open_Readonly_special( filepath ) as fl_R:\n",
    "    print( fl_R.read() )"
   ]
  },
  {
   "cell_type": "markdown",
   "id": "01db3805",
   "metadata": {},
   "source": [
    "Use both `nested Context Manager` "
   ]
  },
  {
   "cell_type": "code",
   "execution_count": 56,
   "id": "deec487a",
   "metadata": {},
   "outputs": [
    {
     "name": "stdout",
     "output_type": "stream",
     "text": [
      "\n",
      "The upside of just using a Context-manager-enabled function instead of a mere function is we can pass the 'file1' if required.\n",
      "Contrast to above example with mere function.\n",
      "\n"
     ]
    }
   ],
   "source": [
    "@contextlib.contextmanager\n",
    "def createWrite_file( filepath ):\n",
    "    file1 = open( filepath, 'w' )\n",
    "    file1.write( 'Empty file' )\n",
    "\n",
    "    yield()    # OR yield( file1 )                               based on open_Readonly(..) requirement and/or flow\n",
    "   \n",
    "    file1.close()\n",
    "\n",
    "print('''\n",
    "The upside of just using a Context-manager-enabled function instead of a mere function is we can pass the 'file1' if required.\n",
    "Contrast to above example with mere function.\n",
    "''')"
   ]
  },
  {
   "cell_type": "code",
   "execution_count": 41,
   "id": "8ca9eea8",
   "metadata": {},
   "outputs": [],
   "source": [
    "@contextlib.contextmanager\n",
    "def open_Readonly_special( filepath ):\n",
    "    try:  file_R = open( filepath, mode= 'r', encoding= 'utf-8' )\n",
    "    except FileNotFoundError:                         \n",
    "        with createWrite_file( filepath ):\n",
    "            print( \"\\n -- File wasn't found, so had to create the file --\" )            # some more statements as per the requirement\n",
    "    finally:\n",
    "        file_R = open( filepath, mode= 'r', encoding= 'utf-8' )\n",
    "        \n",
    "        yield( file_R )      \n",
    "\n",
    "        file_R.close()"
   ]
  },
  {
   "cell_type": "code",
   "execution_count": 43,
   "id": "734ea141",
   "metadata": {},
   "outputs": [
    {
     "name": "stdout",
     "output_type": "stream",
     "text": [
      "\n",
      " -- File wasn't found, so had to create the file --\n",
      "Empty file\n"
     ]
    }
   ],
   "source": [
    "file_src = r'C:\\Users\\k31952\\OneDrive - FINRA\\Learning\\Python\\dataset\\hakucha1234.txt'\n",
    "with open_Readonly_special( file_src ) as fl_R:\n",
    "    print( fl_R.read() )"
   ]
  },
  {
   "cell_type": "markdown",
   "id": "d6e82b50",
   "metadata": {},
   "source": [
    "Context manager inside Context manger func inside Context Manager function\n",
    "\n",
    "      how to call context manager enabled function inside another context manager enabled function\n"
   ]
  },
  {
   "cell_type": "code",
   "execution_count": 47,
   "id": "114f3e89",
   "metadata": {},
   "outputs": [],
   "source": [
    "@contextlib.contextmanager\n",
    "def createWrite_file( filepath ):\n",
    "    with open( filepath, 'w' ) as file1:\n",
    "        file1.write( 'Empty file' )\n",
    "        yield()    # OR yield( file1 )                               based on open_Readonly(..) requirement"
   ]
  },
  {
   "cell_type": "code",
   "execution_count": 48,
   "id": "d64356db",
   "metadata": {},
   "outputs": [],
   "source": [
    "@contextlib.contextmanager\n",
    "def open_Readonly_special( filepath ):\n",
    "    try:  file_R = open( filepath, mode= 'r', encoding= 'utf-8' )\n",
    "    except FileNotFoundError:                         \n",
    "        with createWrite_file( filepath ):\n",
    "            print( \"\\n -- File wasn't found, so had to create the file --\" )\n",
    "    finally:\n",
    "        file_R = open( filepath, mode= 'r', encoding= 'utf-8' )\n",
    "        yield( file_R )               \n",
    "        file_R.close()"
   ]
  },
  {
   "cell_type": "code",
   "execution_count": 49,
   "id": "3d7f362d",
   "metadata": {},
   "outputs": [
    {
     "name": "stdout",
     "output_type": "stream",
     "text": [
      "\n",
      " -- File wasn't found, so had to create the file --\n",
      "Empty file\n"
     ]
    }
   ],
   "source": [
    "file_src = r'C:\\Users\\k31952\\OneDrive - FINRA\\Learning\\Python\\dataset\\nimbu1234.txt'\n",
    "with open_Readonly_special( file_src ) as fl_R:\n",
    "    print( fl_R.read() )"
   ]
  },
  {
   "cell_type": "markdown",
   "id": "47339d8f",
   "metadata": {},
   "source": [
    "The case when `createWrite_file( filepath )` yields a variable: very important,  interesting and useful things ahead!"
   ]
  },
  {
   "cell_type": "code",
   "execution_count": 199,
   "id": "31140a7a",
   "metadata": {},
   "outputs": [
    {
     "name": "stdout",
     "output_type": "stream",
     "text": [
      "\n",
      "Here the 1st approach is not required as we are making this context manager function and we will be using yield anyway.\n",
      "However, thus, 1st function should be regarded as example how to call and use a context-manager-func (that uses a context-manager) inside a context-manager-func.\n",
      "\n",
      "The 2nd approach is same as 1st function, function-wise, and looks appropriate for what it is doing. However, that is not the point.\n",
      "Doing smth is not the point of this example. How to -  call & use a context-manager-func (that uses a context-manager) inside a context-manager-func is the main priority, \n",
      "even though 1st example looks overkill....so don't worry about \"2nd function being more sensible\" to do what we are doing, but look how we implement what we wanted to achieve.\n",
      "\n"
     ]
    }
   ],
   "source": [
    "@contextlib.contextmanager\n",
    "def createWrite_file( filepath ):\n",
    "    with open( filepath, 'a+' ) as file1:\n",
    "        file1.write( 'Empty file' )\n",
    "        file1.flush(); file1.seek(0)\n",
    "\n",
    "        yield( file1 )\n",
    "        \n",
    "        # file1.close()                      # <-- is not required as it gets close anyway once the flow leaves with, can be confirmed with the below print( file1.closed ) \n",
    "    print( file1.closed )                    # <-- is always True \n",
    "\n",
    "# Thus this function can also be created without context-manager inside as \n",
    "\n",
    "@contextlib.contextmanager\n",
    "def createWrite_file( filepath ):\n",
    "    file1 = open( filepath, 'a+' )\n",
    "    file1.write( 'Empty file' )\n",
    "    file1.flush(); file1.seek(0)\n",
    "\n",
    "    yield( file1 )                          \n",
    "    \n",
    "    print( file1.closed )        # <-- is False\n",
    "    file1.close()        # <-- here we DO need to close it, as no context-manager is used \n",
    "\n",
    "print(\"\"\"\n",
    "Here the 1st approach is not required as we are making this context manager function and we will be using yield anyway.\n",
    "However, thus, 1st function should be regarded as example how to call and use a context-manager-func (that uses a context-manager) inside a context-manager-func.\n",
    "\n",
    "The 2nd approach is same as 1st function, function-wise, and looks appropriate for what it is doing. However, that is not the point.\n",
    "Doing smth is not the point of this example. How to -  call & use a context-manager-func (that uses a context-manager) inside a context-manager-func is the main priority, \n",
    "even though 1st example looks overkill....so don't worry about \"2nd function being more sensible\" to do what we are doing, but look how we implement what we wanted to achieve.\n",
    "\"\"\")"
   ]
  },
  {
   "cell_type": "code",
   "execution_count": null,
   "id": "092840f8",
   "metadata": {},
   "outputs": [],
   "source": [
    "# super clean version of above exact func for clarity\n",
    "\n",
    "@contextlib.contextmanager\n",
    "def createWrite_file( filepath ):\n",
    "    with open( filepath, 'a+' ) as file1:\n",
    "        file1.write( 'Empty file' )\n",
    "        file1.flush(); file1.seek(0)\n",
    "\n",
    "        yield( file1 )"
   ]
  },
  {
   "cell_type": "code",
   "execution_count": 201,
   "id": "f726091d",
   "metadata": {},
   "outputs": [],
   "source": [
    "## exact same above 1st func, but with  print statements for observing the logic flow\n",
    "\n",
    "@contextlib.contextmanager\n",
    "def createWrite_file( filepath ):\n",
    "    print( f'createWrite_file(): pre with-open Creating file --> {filepath}' )       \n",
    "    with open( filepath, 'a+' ) as file1:\n",
    "        print( f'createWrite_file(): inside with-open, pre file1.write' )        \n",
    "        file1.write( 'Empty file' )\n",
    "        file1.flush(); file1.seek(0)\n",
    "        print( f'createWrite_file(): Created and wrote the file, pre yield. Content -->{file1.read()}' )\n",
    "\n",
    "        yield( file1 )\n",
    "        # file1.close()            # <-- is not required as it gets close anyway once the flow leaves with, can be confirmed with the below print( file1.closed ) \n",
    "        \n",
    "        print( f'createWrite_file(): post yield, but within with-open' )       \n",
    "    print( file1.closed )        # <-- is always True\n",
    "    print( f'createWrite_file(): post yield, and outside with-open' )       "
   ]
  },
  {
   "cell_type": "code",
   "execution_count": 195,
   "id": "e63aed11",
   "metadata": {},
   "outputs": [],
   "source": [
    "@contextlib.contextmanager\n",
    "def open_Readonly_special( filepath ):\n",
    "    try:  file_R = open( filepath, mode= 'r', encoding= 'utf-8' )\n",
    "    except FileNotFoundError:                         \n",
    "        with createWrite_file( filepath ) as file_w:\n",
    "            print( f\"\\nopen_Readonly(): -- File wasn't found, so had to create the file: {filepath}\" )        # some more statements as per the requirement\n",
    "            print( f'open_Readonly(): file content -->   {file_w.read()}' )\n",
    "    finally:\n",
    "        file_R = open( filepath, mode= 'r', encoding= 'utf-8' )\n",
    "        yield( file_R )\n",
    "        file_R.close()"
   ]
  },
  {
   "cell_type": "code",
   "execution_count": 202,
   "id": "3e4a375e",
   "metadata": {},
   "outputs": [
    {
     "name": "stdout",
     "output_type": "stream",
     "text": [
      "createWrite_file(): pre with-open Creating file --> C:\\Users\\k31952\\OneDrive - FINRA\\Learning\\Python\\dataset\\galaxy-random-1687786.txt\n",
      "createWrite_file(): inside with-open, pre file1.write\n",
      "createWrite_file(): Created and wrote the file, pre yield. Content -->Empty file\n",
      "\n",
      "open_Readonly(): -- File wasn't found, so had to create the file: C:\\Users\\k31952\\OneDrive - FINRA\\Learning\\Python\\dataset\\galaxy-random-1687786.txt\n",
      "open_Readonly(): file content -->   \n",
      "createWrite_file(): post yield, but within with-open\n",
      "True\n",
      "createWrite_file(): post yield, and outside with-open\n",
      "Read from outside --> Empty file\n"
     ]
    }
   ],
   "source": [
    "filepath = r'C:\\Users\\k31952\\OneDrive - FINRA\\Learning\\Python\\dataset\\galaxy-random-3847852.txt'\n",
    "with open_Readonly_special( filepath ) as fl_R:\n",
    "    print( f'Read from outside --> {fl_R.read()}' )"
   ]
  },
  {
   "cell_type": "markdown",
   "id": "c417c9d0",
   "metadata": {},
   "source": [
    "<br><br>\n",
    "<div id= '2.3'>\n",
    "    <h2>Chapter 2.3 - Scope and Closures</h2>\n",
    "</div>\n",
    "\n",
    "#### Key Concepts\n",
    "\n",
    "    - Essential concepts: functions as objects, scope, and closures\n",
    "    - foundational concepts needed to thoroughly understand decorators\n",
    "    \n",
    "\n",
    "<div id= '2.3.1'>\n",
    "    <h3>2.3.1 - Functions are objects</h3>     \n",
    "</div>\n",
    "\n",
    "*[Go to top](#toc)*"
   ]
  },
  {
   "cell_type": "code",
   "execution_count": 3,
   "id": "578e80ec",
   "metadata": {},
   "outputs": [
    {
     "name": "stdout",
     "output_type": "stream",
     "text": [
      "<built-in function print>\n"
     ]
    }
   ],
   "source": [
    "func_ls = [ list, open, print ]  # since a funct is an obj, let's use them as obj\n",
    "print( func_ls[2] )"
   ]
  },
  {
   "cell_type": "code",
   "execution_count": 4,
   "id": "18426c66",
   "metadata": {},
   "outputs": [
    {
     "name": "stdout",
     "output_type": "stream",
     "text": [
      "lets try to print this\n"
     ]
    }
   ],
   "source": [
    "func_ls[2]( 'calling print() as a list element' )            #   <--  this is exactly like doing this -->   print( 'calling print() as a list element' )"
   ]
  },
  {
   "cell_type": "code",
   "execution_count": 8,
   "id": "a50c331f",
   "metadata": {},
   "outputs": [
    {
     "name": "stdout",
     "output_type": "stream",
     "text": [
      "calling print() form the dict keys\n"
     ]
    }
   ],
   "source": [
    "# make a dict out of funcs\n",
    "\n",
    "dict_func = { \n",
    "                'func1': func_ls[0], \n",
    "                'func2': open, \n",
    "                'func3': print     }\n",
    "\n",
    "dict_func['func3']( 'calling print() as a dict key-value pair' )       # the result is as if we are calling the func directly"
   ]
  },
  {
   "cell_type": "markdown",
   "id": "cd04c399",
   "metadata": {},
   "source": [
    "##### passing func as an argument to another func\n"
   ]
  },
  {
   "cell_type": "code",
   "execution_count": 14,
   "id": "a03d0e84",
   "metadata": {},
   "outputs": [],
   "source": [
    "#  Checks whether the passed func has defined docsting or not.\n",
    "\n",
    "\n",
    "def has_docstring( func ):\n",
    "    \"\"\"Checks whether the passed func has defined docsting or not.\n",
    "    \"\"\"\n",
    "    has_docstrTF = func.__doc__ is not None\n",
    "\n",
    "    return( has_docstrTF )"
   ]
  },
  {
   "cell_type": "code",
   "execution_count": 13,
   "id": "3a30d8a0",
   "metadata": {},
   "outputs": [],
   "source": [
    "def my_func1():                   # demo func that doesnt have nay docstring\n",
    "    return( 42 )\n",
    "\n",
    "def my_func2():                   # demo func that have docstring\n",
    "    \"\"\"Sample doc string\n",
    "    \"\"\"\n",
    "    return( 24 )"
   ]
  },
  {
   "cell_type": "code",
   "execution_count": 17,
   "id": "f9926c1e",
   "metadata": {},
   "outputs": [
    {
     "data": {
      "text/plain": [
       "(False, True)"
      ]
     },
     "execution_count": 17,
     "metadata": {},
     "output_type": "execute_result"
    }
   ],
   "source": [
    "has_docstring( my_func1 ), has_docstring( my_func2 )"
   ]
  },
  {
   "cell_type": "markdown",
   "id": "4e2de6fa",
   "metadata": {},
   "source": [
    "Using func as a return value of another func"
   ]
  },
  {
   "cell_type": "code",
   "execution_count": 35,
   "id": "9b0d87ca",
   "metadata": {},
   "outputs": [],
   "source": [
    "# return a nested-inner func that prints smth\n",
    "\n",
    "def wrapper_func():\n",
    "    \"\"\"This func return a nested func.\n",
    "    \"\"\"\n",
    "    def returned_func( str_print ):\n",
    "        print( str_print )\n",
    "    \n",
    "    return( returned_func )"
   ]
  },
  {
   "cell_type": "code",
   "execution_count": 36,
   "id": "e736e792",
   "metadata": {},
   "outputs": [
    {
     "name": "stdout",
     "output_type": "stream",
     "text": [
      "asd\n"
     ]
    }
   ],
   "source": [
    "wrapper_func_returnVal = wrapper_func()\n",
    "\n",
    "wrapper_func_returnVal( 'asd' )"
   ]
  },
  {
   "cell_type": "code",
   "execution_count": 124,
   "id": "d9fce0ad",
   "metadata": {},
   "outputs": [],
   "source": [
    "# return a nested-inner func that return a var\n",
    "\n",
    "def wrapper_func():\n",
    "    \"\"\"This func return a nested func.\n",
    "    \"\"\"\n",
    "    def returned_func( var1 ):\n",
    "        return( 2*var1 )\n",
    "    \n",
    "    return( returned_func )"
   ]
  },
  {
   "cell_type": "code",
   "execution_count": 38,
   "id": "a7acadbc",
   "metadata": {},
   "outputs": [
    {
     "name": "stdout",
     "output_type": "stream",
     "text": [
      "20\n"
     ]
    }
   ],
   "source": [
    "wrapper_func_returnVal = wrapper_func()\n",
    "\n",
    "var_outside = wrapper_func_returnVal( 10 )                # is literally like calling --> returned_func( val1 = 2 )\n",
    "\n",
    "print(  var_outside )"
   ]
  },
  {
   "cell_type": "markdown",
   "id": "d10a9c4d",
   "metadata": {},
   "source": [
    "Use cases of treating function as on abject and passing them"
   ]
  },
  {
   "cell_type": "code",
   "execution_count": 40,
   "id": "0a4e0141",
   "metadata": {},
   "outputs": [],
   "source": [
    "#  creating an function that aggregates multiple funcs inside\n",
    "\n",
    "def math_funcs( funcName ):\n",
    "\n",
    "    def add( a, b ):  return( a+b )\n",
    "    def subtract( a, b ):  return( a-b )\n",
    "    def multiply( a, b ):  return( a*b)\n",
    "\n",
    "    if funcName == 'add':  return( add )\n",
    "    elif funcName == 'subtract':  return( subtract )\n",
    "    elif funcName == 'multiply':  return( multiply )\n",
    "    else:\n",
    "        print( 'Unknown or invlaid function, only supports add, subtract & multiply' )\n",
    "        return None"
   ]
  },
  {
   "cell_type": "code",
   "execution_count": 43,
   "id": "90a31946",
   "metadata": {},
   "outputs": [
    {
     "name": "stdout",
     "output_type": "stream",
     "text": [
      "7 -3 10\n"
     ]
    }
   ],
   "source": [
    "add_func = math_funcs( 'add' )\n",
    "sub_func = math_funcs( 'subtract' )\n",
    "mul_func = math_funcs( 'multiply' )\n",
    "a,b = 2, 5\n",
    "print(  add_func(a,b),      sub_func(a,b),     mul_func(a,b)   )"
   ]
  },
  {
   "cell_type": "code",
   "execution_count": 105,
   "id": "3dbb77b8",
   "metadata": {},
   "outputs": [],
   "source": [
    "## aggregating same funct using a dictionary and calling them\n",
    "def add_f( a, b ):\n",
    "    return( a+b )\n",
    "def subtract_f( a, b ):  return( a-b )\n",
    "def multiply_f( a, b ):  return( a*b )\n",
    "\n",
    "func_dict = {\n",
    "                'add_func': add_f,\n",
    "                'subtract_func': subtract_f,\n",
    "                'multiply_func': multiply_f    }"
   ]
  },
  {
   "cell_type": "code",
   "execution_count": 106,
   "id": "a34d7bb9",
   "metadata": {},
   "outputs": [
    {
     "name": "stdout",
     "output_type": "stream",
     "text": [
      "7 -3\n"
     ]
    }
   ],
   "source": [
    "a,b = 2, 5\n",
    "print(  func_dict['add_func'](a,b),\n",
    "        func_dict['subtract_func'](a,b)  )"
   ]
  },
  {
   "cell_type": "markdown",
   "id": "555b9179",
   "metadata": {},
   "source": [
    "<br>\n",
    "<div id= '2.3.2'>\n",
    "    <h3>2.3.2 - Scope</h3>     \n",
    "</div>\n",
    "\n",
    "*[Go to top](#toc)*\n",
    "\n",
    "Scope Lookout:\n",
    "\n",
    "        Builtin  < Global  <  Non Local < Local"
   ]
  },
  {
   "cell_type": "code",
   "execution_count": 55,
   "id": "b604d145",
   "metadata": {},
   "outputs": [],
   "source": [
    "def outer_func():\n",
    "    var1 = 10\n",
    "    def inner_func():\n",
    "        nonlocal var1\n",
    "        var1 = 200\n",
    "        print( f'Printed from inner_func: {var1}' )\n",
    "\n",
    "    inner_func()\n",
    "    print( f'Printed from outer_func: {var1}' )"
   ]
  },
  {
   "cell_type": "code",
   "execution_count": 56,
   "id": "1b0ade49",
   "metadata": {},
   "outputs": [
    {
     "name": "stdout",
     "output_type": "stream",
     "text": [
      "Printed from inner_func: 200\n",
      "Printed from outer_func: 200\n"
     ]
    }
   ],
   "source": [
    "outer_func()"
   ]
  },
  {
   "cell_type": "markdown",
   "id": "c39ba340",
   "metadata": {},
   "source": [
    "iterating over funcs and scope"
   ]
  },
  {
   "cell_type": "code",
   "execution_count": 67,
   "id": "52d9ac6c",
   "metadata": {},
   "outputs": [
    {
     "name": "stdout",
     "output_type": "stream",
     "text": [
      "Printed from one_func: 20\n",
      "var1 global value: 10\n",
      "\n",
      "Printed from two_func: 30\n",
      "var1 global value: 30\n",
      "\n",
      "Printed from three_func: 50\n",
      "var1 global value: 30\n",
      "\n"
     ]
    }
   ],
   "source": [
    "var1 = 10\n",
    "\n",
    "def one_func():\n",
    "    var1= 20\n",
    "    print( f'Printed from one_func: {var1}' )\n",
    "def two_func():\n",
    "    global var1\n",
    "    var1 = 30\n",
    "    print( f'Printed from two_func: {var1}' )\n",
    "def three_func():\n",
    "    var1 = 50\n",
    "    print( f'Printed from three_func: {var1}' )\n",
    "\n",
    "\n",
    "for e_func in [ one_func, two_func, three_func ]:\n",
    "    e_func()\n",
    "    print( f'var1 global value: {var1}\\n' )"
   ]
  },
  {
   "cell_type": "markdown",
   "id": "06407f1a",
   "metadata": {},
   "source": [
    "<br>\n",
    "<div id= '2.3.3'>\n",
    "    <h3>2.3.3 - Closure</h3>     \n",
    "</div>\n",
    "\n",
    " A `closure` is Python's way of attaching nonlocal variables to a returned function so that the function can operate even when it is called outside of its parent's scope. \n",
    "\n",
    "*[Go to top](#toc)*"
   ]
  },
  {
   "cell_type": "code",
   "execution_count": 92,
   "id": "5d49e809",
   "metadata": {},
   "outputs": [],
   "source": [
    "def outer_func():\n",
    "    val1 = 5\n",
    "    def innerNested_func():\n",
    "        print( f'Printed from innerNested_func: {val1}' )\n",
    "    \n",
    "    return( innerNested_func )"
   ]
  },
  {
   "cell_type": "code",
   "execution_count": 93,
   "id": "b02c02a5",
   "metadata": {},
   "outputs": [
    {
     "name": "stdout",
     "output_type": "stream",
     "text": [
      "Printed from innerNested_func: 5\n",
      "\n",
      "We would think that \"a\" would not be observable outside of the scope of outer_func(). That's where closures come in.\n",
      "When outer_func() returned the new innerNested_func() function, Python helpfully attached any nonlocal variable that innerNested_func() was going to need to the function object.\n",
      "Those variables get stored in a tuple in the \"__closure__\" attribute of the function. The closure for \"func\" has one variable, and one can view the value of that variable by accessing the \"cell_contents\" of the item.\n",
      "\n"
     ]
    }
   ],
   "source": [
    "outer_func_returnVal = outer_func()\n",
    "outer_func_returnVal()\n",
    "\n",
    "print(\"\"\"\n",
    "We would think that \"val1\" would not be observable outside of the scope of outer_func(). That's where closures come in.\n",
    "When outer_func() returned the new innerNested_func() function, Python helpfully attached any nonlocal variable that innerNested_func() was going to need to the function object.\n",
    "Those variables get stored in a tuple in the \"__closure__\" attribute of the function. The closure for \"func\" has one variable, and one can view the value of that variable by accessing the \"cell_contents\" of the item.\n",
    "\"\"\")"
   ]
  },
  {
   "cell_type": "code",
   "execution_count": 89,
   "id": "ea5f9cd5",
   "metadata": {},
   "outputs": [
    {
     "data": {
      "text/plain": [
       "(tuple, 1)"
      ]
     },
     "execution_count": 89,
     "metadata": {},
     "output_type": "execute_result"
    }
   ],
   "source": [
    "type( outer_func_returnVal.__closure__ ), len( outer_func_returnVal.__closure__ )"
   ]
  },
  {
   "cell_type": "code",
   "execution_count": 91,
   "id": "9f57bbb8",
   "metadata": {},
   "outputs": [
    {
     "data": {
      "text/plain": [
       "5"
      ]
     },
     "execution_count": 91,
     "metadata": {},
     "output_type": "execute_result"
    }
   ],
   "source": [
    "outer_func_returnVal.__closure__[0].cell_contents"
   ]
  },
  {
   "cell_type": "markdown",
   "id": "7432a8a1",
   "metadata": {},
   "source": [
    "##### Wizardry of Closure\n",
    "\n",
    "Closure value doesn't get associated with the variable it was initiated."
   ]
  },
  {
   "cell_type": "code",
   "execution_count": 100,
   "id": "77f9f2e0",
   "metadata": {},
   "outputs": [
    {
     "name": "stdout",
     "output_type": "stream",
     "text": [
      "Printed from innerNested_func: 25\n",
      "Printed from innerNested_func: 25\n",
      "\n",
      "That's because outer_func()'s \"value\" argument gets added to the closure attached to the new \"outer_func_returnVal()\" function.\n",
      "So even though \"a\" doesn't exist anymore, the value persists in its closure as shown:\t Closure --> 25\n",
      "\n"
     ]
    }
   ],
   "source": [
    "# Closure value still remains after the variable has been deleted\n",
    "a = 25\n",
    "def outer_func( val1 ):\n",
    "    def innerNested_func():\n",
    "        print( f'Printed from innerNested_func: {val1}' )\n",
    "    \n",
    "    return( innerNested_func )\n",
    "\n",
    "outer_func_returnVal = outer_func( val1= a )\n",
    "outer_func_returnVal()\n",
    "\n",
    "del( a )\n",
    "outer_func_returnVal()                # <-- still print 25 eventhough a - deleted\n",
    "\n",
    "print( f'''\n",
    "That's because outer_func()'s \"value\" argument gets added to the closure attached to the new \"outer_func_returnVal()\" function.\n",
    "So even though \"a\" doesn't exist anymore, the value persists in its closure as shown:\\t Closure --> {outer_func_returnVal.__closure__[0].cell_contents}\n",
    "''' )"
   ]
  },
  {
   "cell_type": "code",
   "execution_count": null,
   "id": "556e29ad",
   "metadata": {},
   "outputs": [],
   "source": [
    "a = 500\n",
    "\n",
    "\n",
    "print( f'''\n",
    "That's because outer_func()'s \"value\" argument gets added to the closure attached to the new \"outer_func_returnVal()\" function.\n",
    "So even though \"a\" doesn't exist anymore, the value persists in its closure as shown:\\t Closure --> {outer_func_returnVal.__closure__[0].cell_contents}\n",
    "''' )"
   ]
  },
  {
   "cell_type": "code",
   "execution_count": 107,
   "id": "b2e5dfa0",
   "metadata": {},
   "outputs": [
    {
     "name": "stdout",
     "output_type": "stream",
     "text": [
      "Printed from innerNested_func: 25\n",
      "\n",
      "The old value of \"a\", 25, is still stored in the new function's closure, even though the new function is now stored in the \"a\" variable. \n",
      "Closure --> 25\n",
      "\n",
      "Thus, Closure is Python's way of attaching nonlocal variables to a returned function so that the function can operate even when it is called outside of its parent's scope. \n",
      "\n",
      "\n"
     ]
    }
   ],
   "source": [
    "a = 25\n",
    "def outer_func( val1 ):\n",
    "    def innerNested_func():\n",
    "        print( f'Printed from innerNested_func: {val1}' )\n",
    "    \n",
    "    return( innerNested_func )\n",
    "\n",
    "a = outer_func( val1= a )\n",
    "a()                # <-- still print 25 eventhough a - deleted\n",
    "\n",
    "\n",
    "print( f'''\n",
    "The old value of \"a\", 25, is still stored in the new function's closure, even though the new function is now stored in the \"a\" variable. \n",
    "Closure --> {a.__closure__[0].cell_contents}\n",
    "\n",
    "Thus, Closure is Python's way of attaching nonlocal variables to a returned function so that the function can operate even when it is called outside of its parent's scope. \n",
    "\n",
    "''' )"
   ]
  },
  {
   "cell_type": "markdown",
   "id": "c2587512",
   "metadata": {},
   "source": [
    "##### Closure storing two variables"
   ]
  },
  {
   "cell_type": "code",
   "execution_count": 157,
   "id": "dc4d6089",
   "metadata": {},
   "outputs": [],
   "source": [
    "def parent_func( arg1, arg2 ):\n",
    "    def child_func():\n",
    "        sum_val = arg1 + arg2\n",
    "        return( sum_val )               \n",
    "\n",
    "    return( child_func )"
   ]
  },
  {
   "cell_type": "code",
   "execution_count": 158,
   "id": "5b6889f7",
   "metadata": {},
   "outputs": [
    {
     "name": "stdout",
     "output_type": "stream",
     "text": [
      "15\n"
     ]
    }
   ],
   "source": [
    "return_frm_parentFunc = parent_func( 10,5 )\n",
    "a = return_frm_parentFunc()\n",
    "# return_frm_parentFunc()\n",
    "print(a)"
   ]
  },
  {
   "cell_type": "code",
   "execution_count": 159,
   "id": "4844b9a7",
   "metadata": {},
   "outputs": [
    {
     "data": {
      "text/plain": [
       "(10, 5)"
      ]
     },
     "execution_count": 159,
     "metadata": {},
     "output_type": "execute_result"
    }
   ],
   "source": [
    "return_frm_parentFunc.__closure__[0].cell_contents, return_frm_parentFunc.__closure__[1].cell_contents"
   ]
  },
  {
   "cell_type": "code",
   "execution_count": 140,
   "id": "1fa2d359",
   "metadata": {},
   "outputs": [
    {
     "name": "stdout",
     "output_type": "stream",
     "text": [
      "\n",
      "Values get added to a function's closure in the order they are defined in the enclosing function (in this case, arg1 and then arg2), but only if they are used in the nested function.\n",
      "That is, if the parent_func() took a third argument (e.g., arg3) that wasn't used by the child_func(), then it would not be captured in child_func()'s closure.\n",
      "\n"
     ]
    }
   ],
   "source": [
    "print('''\n",
    "Values get added to a function's closure in the order they are defined in the enclosing function (in this case, arg1 and then arg2), but only if they are used in the nested function.\n",
    "That is, if the parent_func() took a third argument (e.g., arg3) that wasn't used by the child_func(), then it would not be captured in child_func()'s closure.\n",
    "''')"
   ]
  },
  {
   "cell_type": "markdown",
   "id": "b6cb9cce",
   "metadata": {},
   "source": [
    "<br>\n",
    "\n",
    "##### Closures keep the old values safe: good example\n",
    "\n",
    "Even when a referred func has been modified, deleted, or overwritten, which was in-fact the values needed by the child function,, the nested function can still access those values because they are stored safely in the function's closure. \n",
    "\n",
    "It  may so happen that the program could run into memory issues if the logic wound up adding a very large array or object to the closure."
   ]
  },
  {
   "cell_type": "markdown",
   "id": "1bc69212",
   "metadata": {},
   "source": [
    "        Even modifying the `msg_print_func()` wouldnt affect the parent_func's closure\n"
   ]
  },
  {
   "cell_type": "code",
   "execution_count": 225,
   "id": "c3bd7e4f",
   "metadata": {},
   "outputs": [],
   "source": [
    "def msg_print_func():\n",
    "    print( 'This is msg print function original statement.' )\n",
    "\n",
    "def parent_func( func ):\n",
    "\n",
    "    def child_func():\n",
    "        func()\n",
    "    \n",
    "    return( child_func )"
   ]
  },
  {
   "cell_type": "code",
   "execution_count": 228,
   "id": "d744c5b2",
   "metadata": {},
   "outputs": [
    {
     "name": "stdout",
     "output_type": "stream",
     "text": [
      "This is modified statement, not original.\n",
      "This is modified statement, not original.\n",
      "\n",
      "\n",
      "\n",
      "no matter what you do to msg_print_func() after passing it to parent_func(), the new function ( i.e. parent_func() ) still mimics the behavior of the original msg_print_func() because it is in the new function's ( i.e. parent_func() ) closure.\n",
      "\n"
     ]
    }
   ],
   "source": [
    "returnVal_parent_func = parent_func( msg_print_func )\n",
    "returnVal_parent_func()  # --> prints the original msg of msg_print_func()\n",
    "\n",
    "# modify the msg_print_func()\n",
    "def msg_print_func():\n",
    "    print( 'This is modified statement, not original.' ) \n",
    "\n",
    "returnVal_parent_func()  # --> again prints the original msg, eventhough the msg_print_func() has been modified\n",
    "\n",
    "\n",
    "print( '''\\n\\n\n",
    "no matter what you do to msg_print_func() after passing it to parent_func(), the new function ( i.e. parent_func() ) still mimics the behavior of the original msg_print_func() because it is in the new function's ( i.e. parent_func() ) closure.\n",
    "'''\n",
    ")"
   ]
  },
  {
   "cell_type": "markdown",
   "id": "4fe393f9",
   "metadata": {},
   "source": [
    "Even deleting the `msg_print_func()` wouldnt affect the `parent_func`'s closure"
   ]
  },
  {
   "cell_type": "code",
   "execution_count": 229,
   "id": "7b6ae032",
   "metadata": {},
   "outputs": [],
   "source": [
    "# repeating the old code\n",
    "def msg_print_func():\n",
    "    print( 'This is msg print function original statement.' )\n",
    "\n",
    "def parent_func( func ):\n",
    "\n",
    "    def child_func():\n",
    "        func()\n",
    "    \n",
    "    return( child_func )"
   ]
  },
  {
   "cell_type": "code",
   "execution_count": 230,
   "id": "da47849b",
   "metadata": {},
   "outputs": [
    {
     "name": "stdout",
     "output_type": "stream",
     "text": [
      "Even if msg_print_func() is deleted, we can still call parent_func() without any problems as:\n",
      "This is msg print function original statement.\n"
     ]
    }
   ],
   "source": [
    "returnVal_parent_func = parent_func( msg_print_func )\n",
    "\n",
    "# del the msg_print_func()\n",
    "del msg_print_func \n",
    "\n",
    "print( f'Even if msg_print_func() is deleted, we can still call parent_func() without any problems as:')\n",
    "returnVal_parent_func()"
   ]
  },
  {
   "cell_type": "markdown",
   "id": "e3e705ce",
   "metadata": {},
   "source": [
    "Even overwriting the `msg_print_func()` wouldnt affect the parent_func's closure"
   ]
  },
  {
   "cell_type": "code",
   "execution_count": 231,
   "id": "761bb261",
   "metadata": {},
   "outputs": [],
   "source": [
    "# repeating the old code\n",
    "def msg_print_func():\n",
    "    print( 'This is msg print function original statement.' )\n",
    "\n",
    "def parent_func( func ):\n",
    "    def child_func():\n",
    "        func()\n",
    "    return( child_func )"
   ]
  },
  {
   "cell_type": "code",
   "execution_count": 232,
   "id": "81618159",
   "metadata": {},
   "outputs": [
    {
     "name": "stdout",
     "output_type": "stream",
     "text": [
      "\n",
      "Original msg_print_func, prior any assignment:\n",
      "def msg_print_func():\n",
      "    print( 'This is msg print function original statement.' )\n",
      "\n",
      "\n",
      "\n",
      "msg_print_func, post overwritten:\n",
      "    def child_func():\n",
      "        func()\n",
      "\n",
      "\n",
      "\n",
      "Checking parent_func's closure value:\n",
      "This is msg print function original statement.\n"
     ]
    }
   ],
   "source": [
    "print( f'\\nOriginal msg_print_func, prior any assignment:\\n{inspect.getsource(msg_print_func)}' )\n",
    "\n",
    "msg_print_func = parent_func( msg_print_func )\n",
    "\n",
    "print( f'\\n\\nmsg_print_func, post overwritten:\\n{inspect.getsource(msg_print_func)}' )\n",
    "\n",
    "print( f\"\\n\\nChecking parent_func's closure value:\" )\n",
    "msg_print_func()"
   ]
  },
  {
   "cell_type": "markdown",
   "id": "9aa9d69b",
   "metadata": {},
   "source": [
    "\n",
    "<br><br>\n",
    "<div id= '2.4'>\n",
    "    <h2>Chapter 2.4 - @Decorators</h2>\n",
    "</div>\n",
    "\n",
    "#### Key Concepts\n",
    "Decorators are an extremely powerful concept in Python. They allow the programmer to modify the behavior of a function without changing the code of the function itself.\n",
    "\n",
    "    - introduction into how @Decorators are build and defined\n",
    "    - implementing @Decorators\n",
    "    - ssential Decorators use cases\n",
    "    - advanced decorator concepts like how to preserve the metadata of the decorated funcs\n",
    "    - code decorators that take arguments\n",
    "    \n",
    "<br>\n",
    "\n",
    "<div id= '2.4.1'>\n",
    "    <h3>2.4.1 - Under the hood and making of a Decorator</h3>     \n",
    "</div>\n",
    "\n",
    "*[Go to top](#toc)*"
   ]
  },
  {
   "cell_type": "code",
   "execution_count": 233,
   "id": "a1325e79",
   "metadata": {},
   "outputs": [
    {
     "name": "stdout",
     "output_type": "stream",
     "text": [
      "6\n"
     ]
    }
   ],
   "source": [
    "def multiply_f( a, b ):\n",
    "    return( a*b )\n",
    "\n",
    "print( multiply_f(2,3) )"
   ]
  },
  {
   "cell_type": "code",
   "execution_count": 236,
   "id": "9d797469",
   "metadata": {},
   "outputs": [],
   "source": [
    "# soon-be-decorator func\n",
    "def doubleArg_decorator_func( func ):         # for now just return unmodified func\n",
    "    return( func )"
   ]
  },
  {
   "cell_type": "code",
   "execution_count": 237,
   "id": "a92c33d1",
   "metadata": {},
   "outputs": [
    {
     "data": {
      "text/plain": [
       "6"
      ]
     },
     "execution_count": 237,
     "metadata": {},
     "output_type": "execute_result"
    }
   ],
   "source": [
    "multiply_DecoFunc = doubleArg_decorator_func( multiply_f )\n",
    "multiply_DecoFunc( 2, 3 )                           #  is same as multiply_f(2,3) "
   ]
  },
  {
   "cell_type": "markdown",
   "id": "bc3d3f26",
   "metadata": {},
   "source": [
    "###### soon-be-decorator func, child-wrapper func"
   ]
  },
  {
   "cell_type": "code",
   "execution_count": 250,
   "id": "db80fa18",
   "metadata": {},
   "outputs": [],
   "source": [
    "# repeat\n",
    "def multiply_f( a, b ):\n",
    "    return( a*b )\n",
    "\n",
    "# soon-be-decorator func, child-wrapper func\n",
    "def doubleArg_decorator_func( func ):\n",
    "    def child_func( x, y ):\n",
    "        return( func(x,y) )                               # for now just return unmodified func\n",
    "    return( child_func )"
   ]
  },
  {
   "cell_type": "code",
   "execution_count": 251,
   "id": "33c27683",
   "metadata": {},
   "outputs": [
    {
     "name": "stdout",
     "output_type": "stream",
     "text": [
      "    def child_func( x, y ):\n",
      "        return( func(x,y) )                               # for now just return unmodified func\n",
      "\n"
     ]
    },
    {
     "data": {
      "text/plain": [
       "6"
      ]
     },
     "execution_count": 251,
     "metadata": {},
     "output_type": "execute_result"
    }
   ],
   "source": [
    "multiply_DecoFunc = doubleArg_decorator_func( multiply_f )\n",
    "\n",
    "print( inspect.getsource( multiply_DecoFunc ) )\n",
    "multiply_DecoFunc( 2, 3 )                           #  is same as multiply_f(2,3) "
   ]
  },
  {
   "cell_type": "markdown",
   "id": "c29579a5",
   "metadata": {},
   "source": [
    "###### built the decorator func"
   ]
  },
  {
   "cell_type": "code",
   "execution_count": 271,
   "id": "3aba6abe",
   "metadata": {},
   "outputs": [],
   "source": [
    "# repeat\n",
    "def multiply_f( a, b ):\n",
    "    return( a*b )"
   ]
  },
  {
   "cell_type": "code",
   "execution_count": 272,
   "id": "2d7cdd4e",
   "metadata": {},
   "outputs": [],
   "source": [
    "def doubleArg_decorator_func( func ):\n",
    "    def child_func( x, y ):\n",
    "        return( func( 2*x, 2*y ) )\n",
    "    \n",
    "    return( child_func )"
   ]
  },
  {
   "cell_type": "code",
   "execution_count": 273,
   "id": "3befa0c0",
   "metadata": {},
   "outputs": [
    {
     "name": "stdout",
     "output_type": "stream",
     "text": [
      "    def child_func( x, y ):\n",
      "        return( func( 2*x, 2*y ) )\n",
      "\n"
     ]
    },
    {
     "data": {
      "text/plain": [
       "24"
      ]
     },
     "execution_count": 273,
     "metadata": {},
     "output_type": "execute_result"
    }
   ],
   "source": [
    "multiply_DecoFunc = doubleArg_decorator_func( func= multiply_f )\n",
    "\n",
    "print( inspect.getsource( multiply_DecoFunc ) )\n",
    "\n",
    "multiply_DecoFunc( 2, 3 )"
   ]
  },
  {
   "cell_type": "code",
   "execution_count": 278,
   "id": "a83c37be",
   "metadata": {},
   "outputs": [
    {
     "name": "stdout",
     "output_type": "stream",
     "text": [
      "\n",
      "This time, instead of assigning the \"doubleArg_decorator_func( func= multiply_f )\" to \"multiply_DecoFunc\", we're going to overwrite the \"multiply_f()\" to doubleArg_decorator_func( multiply_f ).\n",
      "\n"
     ]
    }
   ],
   "source": [
    "print( '''\n",
    "This time, instead of assigning the \"doubleArg_decorator_func( multiply_f )\" to \"multiply_DecoFunc\", we're going to overwrite the variable \"multiply_f\" to doubleArg_decorator_func( multiply_f ).\n",
    "''')"
   ]
  },
  {
   "cell_type": "code",
   "execution_count": 279,
   "id": "0a21fb02",
   "metadata": {},
   "outputs": [],
   "source": [
    "# This time, instead of assigning the \"doubleArg_decorator_func( multiply_f )\" to \"multiply_DecoFunc\", we're going to overwrite the variable \"multiply_f\" to doubleArg_decorator_func( multiply_f ).\n",
    "# repeat\n",
    "def multiply_f( a, b ):\n",
    "    return( a*b )\n",
    "def doubleArg_decorator_func( func ):\n",
    "    def child_func( x, y ):\n",
    "        return( func( 2*x, 2*y ) )\n",
    "    return( child_func )"
   ]
  },
  {
   "cell_type": "code",
   "execution_count": 280,
   "id": "3f0f8986",
   "metadata": {},
   "outputs": [],
   "source": [
    "# overwrite the variable \"multiply_f\" to doubleArg_decorator_func( multiply_f ).\n",
    "multiply_f = doubleArg_decorator_func( func= multiply_f )"
   ]
  },
  {
   "cell_type": "code",
   "execution_count": 282,
   "id": "0ffe2b24",
   "metadata": {},
   "outputs": [
    {
     "data": {
      "text/plain": [
       "24"
      ]
     },
     "execution_count": 282,
     "metadata": {},
     "output_type": "execute_result"
    }
   ],
   "source": [
    "multiply_f( 2, 3 )      #  --> gives us 24, instead of 6\n",
    "\n",
    "print('''\n",
    "We can do this because Python stores the original multiply_f() function in the new function's closure. \n",
    "''')"
   ]
  },
  {
   "cell_type": "code",
   "execution_count": 285,
   "id": "d9b4c395",
   "metadata": {},
   "outputs": [
    {
     "data": {
      "text/plain": [
       "<function __main__.multiply_f(a, b)>"
      ]
     },
     "execution_count": 285,
     "metadata": {},
     "output_type": "execute_result"
    }
   ],
   "source": [
    "multiply_f.__closure__[0].cell_contents"
   ]
  },
  {
   "cell_type": "markdown",
   "id": "22494a31",
   "metadata": {},
   "source": [
    "###### shorthand in decorator\n"
   ]
  },
  {
   "cell_type": "code",
   "execution_count": 286,
   "id": "ff9a99af",
   "metadata": {},
   "outputs": [],
   "source": [
    "# multiply_f = doubleArg_decorator_func( func= multiply_f )    can be written as\n",
    "\n",
    "@doubleArg_decorator_func\n",
    "def multiply_f( a, b ):\n",
    "    return( a*b )"
   ]
  },
  {
   "cell_type": "code",
   "execution_count": 287,
   "id": "64aeadcf",
   "metadata": {},
   "outputs": [
    {
     "data": {
      "text/plain": [
       "24"
      ]
     },
     "execution_count": 287,
     "metadata": {},
     "output_type": "execute_result"
    }
   ],
   "source": [
    "multiply_f( 2, 3 )"
   ]
  },
  {
   "cell_type": "code",
   "execution_count": 290,
   "id": "00dbdfde",
   "metadata": {},
   "outputs": [
    {
     "data": {
      "text/plain": [
       "24"
      ]
     },
     "execution_count": 290,
     "metadata": {},
     "output_type": "execute_result"
    }
   ],
   "source": [
    "# So, equivalent codes:\n",
    "def doubleArg_decorator_func( func ):\n",
    "\n",
    "    def child_func( x, y ):\n",
    "        return( func( 2*x, 2*y ) )\n",
    "\n",
    "    return( child_func )\n",
    "\n",
    "\n",
    "def multiply_f( a, b ):\n",
    "    return( a*b )\n",
    "\n",
    "multiply_f = doubleArg_decorator_func( func= multiply_f )\n",
    "\n",
    "multiply_f( 2, 3 )"
   ]
  },
  {
   "cell_type": "code",
   "execution_count": 293,
   "id": "60e7a494",
   "metadata": {},
   "outputs": [
    {
     "data": {
      "text/plain": [
       "24"
      ]
     },
     "execution_count": 293,
     "metadata": {},
     "output_type": "execute_result"
    }
   ],
   "source": [
    "def doubleArg_decorator_func( func ):\n",
    "    def child_func( x, y ):\n",
    "        x = 2*x;  y = 2*y\n",
    "        return( func(x,y) )\n",
    "    return( child_func )\n",
    "\n",
    "@doubleArg_decorator_func\n",
    "def multiply_f( a,b ):\n",
    "    return( a*b )\n",
    "\n",
    "multiply_f( 2,3 )"
   ]
  },
  {
   "cell_type": "markdown",
   "id": "35524f4b",
   "metadata": {},
   "source": [
    "Note that` @doubleArg_decorator_func` before the definition of `multiply_f` is exactly equivalent to:<br>\n",
    "`multiply_f = doubleArg_decorator_func( func= multiply_f )`\n",
    "\n"
   ]
  },
  {
   "cell_type": "markdown",
   "id": "af63dff8",
   "metadata": {},
   "source": [
    "<br><br>\n",
    "\n",
    "<div id= '2.4.2'>\n",
    "    <h3>2.4.2 - Use cases for Decorator</h3>     \n",
    "</div>\n",
    "\n",
    "*[Go to top](#toc)*\n",
    "<br>\n",
    "\n",
    "##### 2.4.2.1 Sandwich `Decorator`\n",
    "\n",
    "##### `Decorator` that executes statement(s) before and and after the given func.\n",
    "\n",
    "Let's creat a `Decorator` that prints a \"before\" message before the decorated func is called and prints an \"after\" message after the decorated func is called."
   ]
  },
  {
   "cell_type": "code",
   "execution_count": 297,
   "id": "75bb129d",
   "metadata": {},
   "outputs": [],
   "source": [
    "def prints_beforeAfter_Decor( func ):\n",
    "\n",
    "    def child_wrapper( *args ):\n",
    "        print( f'Before : {func.__name__}' )\n",
    "        func( *args )\n",
    "        print( f'After : {func.__name__}' )\n",
    "\n",
    "    return( child_wrapper )\n",
    "\n",
    "def multiply_f(a, b):\n",
    "  return(a * b)"
   ]
  },
  {
   "cell_type": "code",
   "execution_count": 298,
   "id": "34826b81",
   "metadata": {},
   "outputs": [
    {
     "name": "stdout",
     "output_type": "stream",
     "text": [
      "Before : multiply_f\n",
      "After : multiply_f\n"
     ]
    }
   ],
   "source": [
    "multiply_f = prints_beforeAfter_Decor( multiply_f )\n",
    "\n",
    "multiply_f( 2,3 )"
   ]
  },
  {
   "cell_type": "markdown",
   "id": "6a44296c",
   "metadata": {},
   "source": [
    "or use short-hand"
   ]
  },
  {
   "cell_type": "code",
   "execution_count": 300,
   "id": "29794a2f",
   "metadata": {},
   "outputs": [
    {
     "name": "stdout",
     "output_type": "stream",
     "text": [
      "Before : multiply_f\n",
      "After : multiply_f\n"
     ]
    }
   ],
   "source": [
    "def prints_beforeAfter_Decor( func ):\n",
    "\n",
    "    def child_wrapper( *args ):\n",
    "        print( f'Before : {func.__name__}' )\n",
    "        func( *args )\n",
    "        print( f'After : {func.__name__}' )\n",
    "\n",
    "    return( child_wrapper )\n",
    "\n",
    "@prints_beforeAfter_Decor\n",
    "def multiply_f(a, b):\n",
    "  return(a * b)\n",
    "\n",
    "multiply_f( 2,3 )\n"
   ]
  },
  {
   "cell_type": "code",
   "execution_count": 318,
   "id": "99f510c7",
   "metadata": {},
   "outputs": [
    {
     "name": "stdout",
     "output_type": "stream",
     "text": [
      "\n",
      "The decorator prints_beforeAfter_Decor() defines a nested function child_wrapper() that calls whatever function gets passed to prints_beforeAfter_Decor().\n",
      "child_wrapper() adds a little something else to the function call by printing one message before the decorated function is called and another right afterwards.\n",
      "Since prints_beforeAfter_Decor() returns the new child_wrapper() function, we can use it as a decorator to decorate the multiply_f() function.\n",
      "\n"
     ]
    }
   ],
   "source": [
    "print( '''\n",
    "The decorator prints_beforeAfter_Decor() defines a nested function child_wrapper() that calls whatever function gets passed to prints_beforeAfter_Decor().\n",
    "child_wrapper() adds a little something else to the function call by printing one message before the decorated function is called and another right afterwards.\n",
    "Since prints_beforeAfter_Decor() returns the new child_wrapper() function, we can use it as a decorator to decorate the multiply_f() function.\n",
    "''' )"
   ]
  },
  {
   "cell_type": "markdown",
   "id": "89a65eea",
   "metadata": {},
   "source": [
    "##### Let's create a Decorator that:\n",
    "\n",
    "         notifies starting of a func and execution completion of the same func and\n",
    "         keeps tracks of time taken"
   ]
  },
  {
   "cell_type": "code",
   "execution_count": 328,
   "id": "d27301d4",
   "metadata": {},
   "outputs": [
    {
     "data": {
      "text/plain": [
       "' wrong logic, rectified below '"
      ]
     },
     "execution_count": 328,
     "metadata": {},
     "output_type": "execute_result"
    }
   ],
   "source": [
    "import time\n",
    "' wrong logic, rectified below '"
   ]
  },
  {
   "cell_type": "code",
   "execution_count": 319,
   "id": "12d5ba4a",
   "metadata": {},
   "outputs": [],
   "source": [
    "def trackTime_Decor( func1 ):             # wrong logic, rectified below\n",
    "    \n",
    "    def child_wrapper( *args ):\n",
    "        tm_start = time.time()\n",
    "        print( f'{func1.__name__}() started at --> {tm_start}' )\n",
    "        func1( *args )\n",
    "        tm_end = time.time()\n",
    "        print( f'{func1.__name__}() completed at --> {tm_end}' )\n",
    "        print( f'Time taken to execute the {func1.__name__}() --> {tm_end-tm_start} sec' )\n",
    "    \n",
    "    return( child_wrapper )\n",
    "\n",
    "@trackTime_Decor\n",
    "def multiply_f( a,b ):\n",
    "    time.sleep( 2 )\n",
    "    return( a*b )"
   ]
  },
  {
   "cell_type": "code",
   "execution_count": 323,
   "id": "20eac6d1",
   "metadata": {},
   "outputs": [
    {
     "name": "stdout",
     "output_type": "stream",
     "text": [
      "multiply_f() started at --> 1673893867.9460843\n",
      "multiply_f() completed at --> 1673893869.9541726\n",
      "Time taken to execute the multiply_f() --> 2.0080883502960205 sec\n",
      "\n",
      "\n",
      "The return of the nultiply_f() is --> None\n"
     ]
    }
   ],
   "source": [
    "multiply_result_Var =  multiply_f( 2,3 )\n",
    "print( f'\\n\\nThe return of the nultiply_f() is --> {multiply_result_Var}' )"
   ]
  },
  {
   "cell_type": "code",
   "execution_count": 324,
   "id": "8548f35c",
   "metadata": {},
   "outputs": [
    {
     "name": "stdout",
     "output_type": "stream",
     "text": [
      "The return of the multiply_f() is not proper as intended. So to rectify that, modifying the trackTime_Decor() as \n"
     ]
    }
   ],
   "source": [
    "print( 'The return of the multiply_f() is not proper as intended. So to rectify that, modifying the trackTime_Decor() as '  )"
   ]
  },
  {
   "cell_type": "code",
   "execution_count": 5,
   "id": "3db2ca4c",
   "metadata": {},
   "outputs": [],
   "source": [
    "def trackTime_Decor( func1 ):\n",
    "    \n",
    "    def child_wrapper( *args ):\n",
    "        tm_start = time.time()\n",
    "        print( f'{func1.__name__}() started at --> {tm_start}' )\n",
    "        return_of_func1 = func1( *args )                                               # make sure you save the return_val of the func1 and then return that from the child_wrapper()\n",
    "        tm_end = time.time()\n",
    "        print( f'{func1.__name__}() completed at --> {tm_end}' )\n",
    "        print( f'Time taken to execute the {func1.__name__}() --> {tm_end-tm_start} sec' )\n",
    "        return( return_of_func1 )\n",
    "\n",
    "    return( child_wrapper )\n",
    "\n",
    "@trackTime_Decor\n",
    "def multiply_f( a,b ):\n",
    "    time.sleep( 2 )\n",
    "    return( a*b )"
   ]
  },
  {
   "cell_type": "code",
   "execution_count": 6,
   "id": "2fdf75a6",
   "metadata": {},
   "outputs": [
    {
     "name": "stdout",
     "output_type": "stream",
     "text": [
      "multiply_f() started at --> 1674014274.0393484\n",
      "multiply_f() completed at --> 1674014276.046801\n",
      "Time taken to execute the multiply_f() --> 2.0074527263641357 sec\n",
      "\n",
      "\n",
      "The return of the nultiply_f() is --> 6\n"
     ]
    }
   ],
   "source": [
    "multiply_result_Var =  multiply_f( 2,3 )\n",
    "print( f'\\n\\nThe return of the nultiply_f() is --> {multiply_result_Var}' )"
   ]
  },
  {
   "cell_type": "markdown",
   "id": "8c58c18b",
   "metadata": {},
   "source": [
    " <br>\n",
    "\n",
    "##### 2.4.2.2 debugger `Decorator`\n",
    "\n",
    "###### `Decorator` that helps debugging the func.\n",
    "\n",
    " Let's write a decorator, `print_return_type()`, that will print out the type of the variable that gets returned from every call of any function it is decorating."
   ]
  },
  {
   "cell_type": "code",
   "execution_count": 336,
   "id": "b99f2501",
   "metadata": {},
   "outputs": [],
   "source": [
    "def print_returnType_Decor( func1 ):\n",
    "\n",
    "    def child_wrapper( *args, **kwargs ):\n",
    "        return_from_func1 = func1( *args, **kwargs )\n",
    "        print(  '{}() returned type: {}'\\\n",
    "                    .format( func1.__name__, type(return_from_func1) )  )\n",
    "        return( return_from_func1 )\n",
    "    \n",
    "    return( child_wrapper )\n",
    "\n",
    "@print_returnType_Decor\n",
    "def foo( arg1 ):\n",
    "    return( arg1 )"
   ]
  },
  {
   "cell_type": "code",
   "execution_count": 340,
   "id": "eb4f4def",
   "metadata": {},
   "outputs": [
    {
     "name": "stdout",
     "output_type": "stream",
     "text": [
      "foo() returned type: <class 'int'>\n",
      "foo() returned type: <class 'list'>\n",
      "foo() returned type: <class 'dict'>\n"
     ]
    }
   ],
   "source": [
    "foo( 42 )\n",
    "foo( [1,2,4] )\n",
    "foo( {'a': 42} );"
   ]
  },
  {
   "cell_type": "markdown",
   "id": "5bf74600",
   "metadata": {},
   "source": [
    " <br>\n",
    "\n",
    "##### 2.4.2.3 Bookkeeping Counter `Decorator`\n",
    "\n",
    "###### `Decorator` that helps bookkeeping the usage amount of a function.\n",
    "\n",
    " Let's say, for an android app or a web app, we are curious about how many times each of the functions in it gets called.<br>\n",
    " So we write a decorator that adds a counter to each function that is decorated.<br>One could use this information in the future to determine whether there are sections/button/function of code that could be removed as they are no longer being used by the app."
   ]
  },
  {
   "cell_type": "code",
   "execution_count": 24,
   "id": "407d22e4",
   "metadata": {},
   "outputs": [],
   "source": [
    "def counter_Decor( func1 ):\n",
    "    \n",
    "    def childWrapper( *args, ** kwargs ):\n",
    "        childWrapper.count += 1\n",
    "        return(  func1( *args, ** kwargs )  )\n",
    "\n",
    "    childWrapper.count = 0    \n",
    "\n",
    "    return( childWrapper )\n",
    "\n",
    "@counter_Decor\n",
    "def foo():\n",
    "    print( 'Calling foo()' )\n",
    "\n",
    "# Equivalent to :\n",
    "# foo = counter_Decor( foo )"
   ]
  },
  {
   "cell_type": "code",
   "execution_count": 20,
   "id": "df946ad4",
   "metadata": {},
   "outputs": [
    {
     "name": "stdout",
     "output_type": "stream",
     "text": [
      "Calling foo()\n",
      "Calling foo()\n",
      "Calling foo()\n"
     ]
    }
   ],
   "source": [
    "foo()\n",
    "foo()\n",
    "foo()"
   ]
  },
  {
   "cell_type": "code",
   "execution_count": 21,
   "id": "2c5ea048",
   "metadata": {},
   "outputs": [
    {
     "name": "stdout",
     "output_type": "stream",
     "text": [
      "foo() was called 3 times.\n"
     ]
    }
   ],
   "source": [
    "print( 'foo() was called {} times.'.format(foo.count) )"
   ]
  },
  {
   "cell_type": "code",
   "execution_count": 25,
   "id": "d94f02f9",
   "metadata": {},
   "outputs": [
    {
     "name": "stdout",
     "output_type": "stream",
     "text": [
      "\n",
      "It seems a little magical that we can reference the childWrapper() func from _inside_ the definition of childWrapper() as we do here on line 4.\n",
      "That's just one of the many neat things about functions in Python -- any function, not just decorators.\n",
      "\n"
     ]
    }
   ],
   "source": [
    "print( '''\n",
    "It seems a little magical that we can reference the childWrapper() func from _inside_ the definition of childWrapper() as we do here on line 4.\n",
    "That's just one of the many neat things about functions in Python -- any function, not just decorators.\n",
    "''')\n"
   ]
  },
  {
   "cell_type": "markdown",
   "id": "3e591ccc",
   "metadata": {},
   "source": [
    " <br>\n",
    "\n",
    "##### 2.4.2.4 Memoization `Decorator`\n",
    "\n",
    "###### `Decorator` that helps memoize the result for the corresponding arguments.\n",
    "\n",
    "Memoization is a method used to store the results of previous function calls to speed up future calculations. If repeated function calls are made with the same parameters, we can store the previous values instead of repeating unnecessary calculations. This results in a significant speed up in calculations"
   ]
  },
  {
   "cell_type": "code",
   "execution_count": 38,
   "id": "0c7b12a7",
   "metadata": {},
   "outputs": [],
   "source": [
    "def memoize_Decor( func1 ):\n",
    "    \"\"\"Store the results of the decoarted func for fast lookup.\n",
    "    \"\"\"\n",
    "    cache_dictn = {}\n",
    "\n",
    "    def childWrapper( *args, **kwargs ):\n",
    "        # if these arguments havn't been seen before by the func1\n",
    "        # if ( args, kwargs ) not in cache_dictn:  \n",
    "        cache_dictn[ (args,kwargs) ] = func1( *args, **kwargs )\n",
    "        return( cache_dictn[ (args,kwargs) ] )\n",
    "\n",
    "    return( childWrapper )\n",
    "\n",
    "@memoize_Decor\n",
    "def slow_func( a,b ):\n",
    "    print( 'Sleeping....' )    # replicating the slowness of a heavy-lifting func\n",
    "    time.sleep( 3 )\n",
    "    return( a+b )"
   ]
  },
  {
   "cell_type": "code",
   "execution_count": 39,
   "id": "6441fdb6",
   "metadata": {},
   "outputs": [
    {
     "name": "stdout",
     "output_type": "stream",
     "text": [
      "Sleeping....\n"
     ]
    },
    {
     "ename": "TypeError",
     "evalue": "unhashable type: 'dict'",
     "output_type": "error",
     "traceback": [
      "\u001b[1;31m---------------------------------------------------------------------------\u001b[0m",
      "\u001b[1;31mTypeError\u001b[0m                                 Traceback (most recent call last)",
      "\u001b[1;32mc:\\Users\\k31952\\OneDrive - FINRA\\Learning\\Python\\Course -  Python Programming.ipynb Cell 363\u001b[0m in \u001b[0;36m<cell line: 1>\u001b[1;34m()\u001b[0m\n\u001b[1;32m----> <a href='vscode-notebook-cell:/c%3A/Users/k31952/OneDrive%20-%20FINRA/Learning/Python/Course%20-%20%20Python%20Programming.ipynb#Z1025sZmlsZQ%3D%3D?line=0'>1</a>\u001b[0m slow_func( \u001b[39m2\u001b[39;49m,\u001b[39m3\u001b[39;49m )\n",
      "\u001b[1;32mc:\\Users\\k31952\\OneDrive - FINRA\\Learning\\Python\\Course -  Python Programming.ipynb Cell 363\u001b[0m in \u001b[0;36mmemoize_Decor.<locals>.childWrapper\u001b[1;34m(*args, **kwargs)\u001b[0m\n\u001b[0;32m      <a href='vscode-notebook-cell:/c%3A/Users/k31952/OneDrive%20-%20FINRA/Learning/Python/Course%20-%20%20Python%20Programming.ipynb#Z1025sZmlsZQ%3D%3D?line=5'>6</a>\u001b[0m \u001b[39mdef\u001b[39;00m \u001b[39mchildWrapper\u001b[39m( \u001b[39m*\u001b[39margs, \u001b[39m*\u001b[39m\u001b[39m*\u001b[39mkwargs ):\n\u001b[0;32m      <a href='vscode-notebook-cell:/c%3A/Users/k31952/OneDrive%20-%20FINRA/Learning/Python/Course%20-%20%20Python%20Programming.ipynb#Z1025sZmlsZQ%3D%3D?line=6'>7</a>\u001b[0m     \u001b[39m# if these arguments havn't been seen before by the func1\u001b[39;00m\n\u001b[0;32m      <a href='vscode-notebook-cell:/c%3A/Users/k31952/OneDrive%20-%20FINRA/Learning/Python/Course%20-%20%20Python%20Programming.ipynb#Z1025sZmlsZQ%3D%3D?line=7'>8</a>\u001b[0m     \u001b[39m# if ( args, kwargs ) not in cache_dictn:  \u001b[39;00m\n\u001b[1;32m----> <a href='vscode-notebook-cell:/c%3A/Users/k31952/OneDrive%20-%20FINRA/Learning/Python/Course%20-%20%20Python%20Programming.ipynb#Z1025sZmlsZQ%3D%3D?line=8'>9</a>\u001b[0m     cache_dictn[ (args,kwargs) ] \u001b[39m=\u001b[39m func1( \u001b[39m*\u001b[39margs, \u001b[39m*\u001b[39m\u001b[39m*\u001b[39mkwargs )\n\u001b[0;32m     <a href='vscode-notebook-cell:/c%3A/Users/k31952/OneDrive%20-%20FINRA/Learning/Python/Course%20-%20%20Python%20Programming.ipynb#Z1025sZmlsZQ%3D%3D?line=9'>10</a>\u001b[0m     \u001b[39mreturn\u001b[39;00m( cache_dictn[ (args,kwargs) ] )\n",
      "\u001b[1;31mTypeError\u001b[0m: unhashable type: 'dict'"
     ]
    }
   ],
   "source": [
    "slow_func( 2,3 )  # not working, have to check later\n"
   ]
  },
  {
   "cell_type": "markdown",
   "id": "dd9e745c",
   "metadata": {},
   "source": [
    "<br><br>\n",
    "\n",
    "<div id= '2.4.3'>\n",
    "    <h3>2.4.3 - Decorators and metadata</h3>     \n",
    "</div>\n",
    "\n",
    "*[Go to top](#toc)*\n",
    "<br>\n",
    "\n",
    "##### Decorators obscure the decorated func's metadata."
   ]
  },
  {
   "cell_type": "code",
   "execution_count": 16,
   "id": "a8cf5c45",
   "metadata": {},
   "outputs": [
    {
     "name": "stdout",
     "output_type": "stream",
     "text": [
      " multiply_f \n",
      " Return multiplication of the inputs a & b.\n",
      "     \n",
      " (1, 1)\n"
     ]
    }
   ],
   "source": [
    "def multiply_f( a= 1, b= 1 ):\n",
    "    \"\"\"Return multiplication of the inputs a & b.\n",
    "    \"\"\"\n",
    "    time.sleep( 2 )\n",
    "    return( a*b )\n",
    "\n",
    "print( f' {multiply_f.__name__} \\n {multiply_f.__doc__} \\n {multiply_f.__defaults__}' )"
   ]
  },
  {
   "cell_type": "code",
   "execution_count": 27,
   "id": "9983d86f",
   "metadata": {},
   "outputs": [
    {
     "name": "stdout",
     "output_type": "stream",
     "text": [
      "childWrapper :\n",
      "This is a child wrapper function the the decorator.\n",
      "         \n",
      "None\n"
     ]
    }
   ],
   "source": [
    "# So, equivalent codes:\n",
    "def doubleArg_decorator_func( func ):\n",
    "    \"\"\"Decorator that doubles the input values.\n",
    "    \"\"\"\n",
    "    def childWrapper( x, y ):\n",
    "        \"\"\"This is a child wrapper function the the decorator.\n",
    "        \"\"\"\n",
    "        return(  func( 2*x, 2*y )  )\n",
    "\n",
    "    return( childWrapper )\n",
    "\n",
    "@ doubleArg_decorator_func\n",
    "def multiply_f( a= 1, b= 1 ):\n",
    "    \"\"\"Return multiplication of the inputs a & b.\n",
    "    \"\"\"\n",
    "    time.sleep( 2 )\n",
    "    return( a*b )\n",
    "    \n",
    "print( f'{multiply_f.__name__} :\\n{multiply_f.__doc__} \\n{multiply_f.__defaults__}' )"
   ]
  },
  {
   "cell_type": "code",
   "execution_count": 9,
   "id": "02096f70",
   "metadata": {},
   "outputs": [
    {
     "name": "stdout",
     "output_type": "stream",
     "text": [
      "\n",
      "Because the decorator overwrites the multiply_f() function, when we ask for multiply_f()'s docstring or name, it is actually referencing the nested function that was returned by the decorator. In this case, the nested function was called child_wrapper() and it didn't have a docstring. \n",
      "\n"
     ]
    }
   ],
   "source": [
    "print('''\n",
    "Because the decorator overwrites the multiply_f() function, when we ask for multiply_f()'s docstring or name, it is actually referencing the nested function that was returned by the decorator. In this case, the nested function was called child_wrapper() and it didn't have a docstring. \n",
    "''')"
   ]
  },
  {
   "cell_type": "markdown",
   "id": "cd34fc8e",
   "metadata": {},
   "source": [
    "##### Let's fix this Obscure situation using `@wraps()` decorator"
   ]
  },
  {
   "cell_type": "code",
   "execution_count": 30,
   "id": "29e8036a",
   "metadata": {},
   "outputs": [
    {
     "name": "stdout",
     "output_type": "stream",
     "text": [
      "multiply_f :\n",
      "Return multiplication of the inputs a & b.\n",
      "     \n",
      "None\n"
     ]
    }
   ],
   "source": [
    "# So, equivalent codes:\n",
    "def doubleArg_decorator_func( func1 ):\n",
    "    \"\"\"Decorator that doubles the input values.\n",
    "    \"\"\"\n",
    "    @wraps( func1 )                                           # <-- @wraps decorator that also takes an arfument func1\n",
    "    def childWrapper( x, y ):\n",
    "        \"\"\"This is a child wrapper function the the decorator.\n",
    "        \"\"\"\n",
    "        return(  func1( 2*x, 2*y )  )\n",
    "\n",
    "    return( childWrapper )\n",
    "\n",
    "@ doubleArg_decorator_func\n",
    "def multiply_f( a= 1, b= 1 ):\n",
    "    \"\"\"Return multiplication of the inputs a & b.\n",
    "    \"\"\"\n",
    "    time.sleep( 2 )\n",
    "    return( a*b )\n",
    "    \n",
    "print( f'{multiply_f.__name__} :\\n{multiply_f.__doc__} \\n{multiply_f.__defaults__}' )"
   ]
  },
  {
   "cell_type": "markdown",
   "id": "b672c8dd",
   "metadata": {},
   "source": [
    "##### Access to the original func is easier when using `@wrap(func1)`"
   ]
  },
  {
   "cell_type": "code",
   "execution_count": 34,
   "id": "2d87795d",
   "metadata": {},
   "outputs": [
    {
     "data": {
      "text/plain": [
       "<function __main__.multiply_f(a=1, b=1)>"
      ]
     },
     "execution_count": 34,
     "metadata": {},
     "output_type": "execute_result"
    }
   ],
   "source": [
    "multiply_f.__wrapped__"
   ]
  },
  {
   "cell_type": "code",
   "execution_count": 35,
   "id": "6a04eda7",
   "metadata": {},
   "outputs": [
    {
     "data": {
      "text/plain": [
       "6"
      ]
     },
     "execution_count": 35,
     "metadata": {},
     "output_type": "execute_result"
    }
   ],
   "source": [
    "# and to use it\n",
    "multiply_f.__wrapped__( 2,3 )"
   ]
  },
  {
   "cell_type": "markdown",
   "id": "62e0dcf4",
   "metadata": {},
   "source": [
    "<br>\n",
    "<div id= '2.4.4'></div>\n",
    "\n",
    "#### 2.4.4 - Decorators that take Arguments\n",
    "\n",
    "*[Go to top](#toc)*\n",
    "<br>"
   ]
  },
  {
   "cell_type": "code",
   "execution_count": 38,
   "id": "8fc406ff",
   "metadata": {},
   "outputs": [
    {
     "name": "stdout",
     "output_type": "stream",
     "text": [
      "12\n"
     ]
    }
   ],
   "source": [
    "def multiply_f( a= 1, b= 1 ):\n",
    "    print( a*b )\n",
    "\n",
    "multiply_f( 3,4 )"
   ]
  },
  {
   "cell_type": "code",
   "execution_count": null,
   "id": "a917c726",
   "metadata": {},
   "outputs": [],
   "source": [
    "print( '''We want to make a decorator that runs the function 3 times''' )"
   ]
  },
  {
   "cell_type": "code",
   "execution_count": 39,
   "id": "db2621ab",
   "metadata": {},
   "outputs": [
    {
     "name": "stdout",
     "output_type": "stream",
     "text": [
      "12\n",
      "12\n",
      "12\n"
     ]
    }
   ],
   "source": [
    "def run3times( func1 ):\n",
    "    def childWrapper( *args, **kwargs ):\n",
    "        for _ in range(3):\n",
    "            func1( *args, **kwargs )\n",
    "    return( childWrapper )\n",
    "\n",
    "@run3times\n",
    "def multiply_f( a= 1, b= 1 ):\n",
    "    print( a*b )\n",
    "\n",
    "multiply_f( 3,4 )"
   ]
  },
  {
   "cell_type": "code",
   "execution_count": 41,
   "id": "260310d9",
   "metadata": {},
   "outputs": [
    {
     "name": "stdout",
     "output_type": "stream",
     "text": [
      "We want to make a decorator that takes an argument 'n' and runs the function 'n' times.\n"
     ]
    }
   ],
   "source": [
    "print( '''We want to make a decorator that takes an argument 'n' and runs the function 'n' times.''' )"
   ]
  },
  {
   "cell_type": "markdown",
   "id": "e7c2c118",
   "metadata": {},
   "source": [
    "##### A Decorator Factory:\n",
    "        wrap the Decorator inside another func."
   ]
  },
  {
   "cell_type": "code",
   "execution_count": 55,
   "id": "6f2a36ea",
   "metadata": {},
   "outputs": [
    {
     "name": "stdout",
     "output_type": "stream",
     "text": [
      "12\n",
      "12\n",
      "12\n"
     ]
    }
   ],
   "source": [
    "def run_xTimes_DecorFactory( x ):\n",
    "    def decor( func1 ):\n",
    "        def childWrapper( *args, **kwargs ):\n",
    "            for _ in range(x):\n",
    "                func1( *args, **kwargs )\n",
    "        return( childWrapper )\n",
    "    return( decor )\n",
    "\n",
    "run_xTimes_Decor = run_xTimes_DecorFactory(3)\n",
    "\n",
    "@run_xTimes_Decor\n",
    "def multiply_f( a= 1, b= 1 ):\n",
    "    print( a*b )\n",
    "\n",
    "multiply_f( 3,4 )"
   ]
  },
  {
   "cell_type": "code",
   "execution_count": 47,
   "id": "ad1a3ca0",
   "metadata": {},
   "outputs": [
    {
     "name": "stdout",
     "output_type": "stream",
     "text": [
      "    def decor( func1 ):\n",
      "        def childWrapper( *args, **kwargs ):\n",
      "            for _ in range(x):\n",
      "                func1( *args, **kwargs )\n",
      "        return( childWrapper )\n",
      "\n"
     ]
    }
   ],
   "source": [
    "print( inspect.getsource(run_xTimes_Decor) )"
   ]
  },
  {
   "cell_type": "markdown",
   "id": "3000ef88",
   "metadata": {},
   "source": [
    "###### OR use python shorthand"
   ]
  },
  {
   "cell_type": "code",
   "execution_count": 64,
   "id": "7271c575",
   "metadata": {},
   "outputs": [
    {
     "name": "stdout",
     "output_type": "stream",
     "text": [
      "12\n",
      "12\n",
      "12\n"
     ]
    }
   ],
   "source": [
    "def run_xTimes_DecorFactory( x ):\n",
    "    def decor( func1 ):\n",
    "        def childWrapper( *args, **kwargs ):\n",
    "            for _ in range(x):\n",
    "                func1( *args, **kwargs )\n",
    "        return( childWrapper )\n",
    "    return( decor )\n",
    "\n",
    "@run_xTimes_DecorFactory(3)\n",
    "def multiply_f( a= 1, b= 1 ):\n",
    "    print( a*b )\n",
    "\n",
    "multiply_f( 3,4 )"
   ]
  },
  {
   "cell_type": "code",
   "execution_count": 53,
   "id": "da0c1016",
   "metadata": {},
   "outputs": [
    {
     "name": "stdout",
     "output_type": "stream",
     "text": [
      "Hello!\n",
      "Hello!\n",
      "Hello!\n",
      "Hello!\n",
      "Hello!\n"
     ]
    }
   ],
   "source": [
    "@run_xTimes_Decor(5)\n",
    "def print_hello( ):\n",
    "    print( 'Hello!' )\n",
    "\n",
    "print_hello()"
   ]
  },
  {
   "cell_type": "markdown",
   "id": "9a8fbc8a",
   "metadata": {},
   "source": [
    "##### Modify python in-built func's nature using @decorator\n",
    "        !! not a good idea at all"
   ]
  },
  {
   "cell_type": "code",
   "execution_count": 63,
   "id": "8f047e19",
   "metadata": {},
   "outputs": [],
   "source": [
    "del print"
   ]
  },
  {
   "cell_type": "code",
   "execution_count": 65,
   "id": "9062f59d",
   "metadata": {},
   "outputs": [
    {
     "name": "stdout",
     "output_type": "stream",
     "text": [
      "lets see how it prints\n",
      "lets see how it prints\n",
      "lets see how it prints\n",
      "lets see how it prints\n"
     ]
    }
   ],
   "source": [
    "print = run_xTimes_DecorFactory(4)( func1= print )\n",
    "print( 'lets see how it prints' )"
   ]
  },
  {
   "cell_type": "code",
   "execution_count": 66,
   "id": "35ad2430",
   "metadata": {},
   "outputs": [
    {
     "name": "stdout",
     "output_type": "stream",
     "text": [
      "lets see how it prints\n"
     ]
    }
   ],
   "source": [
    "# and when you wanna print normal\n",
    "del print\n",
    "print( 'lets see how it prints' )\n"
   ]
  },
  {
   "cell_type": "markdown",
   "id": "da99be11",
   "metadata": {},
   "source": [
    "<br>\n",
    "<div id= '2.4.5'></div>\n",
    "\n",
    "#### 2.4.5 - Decorators real-world examples\n",
    "\n",
    "*[Go to top](#toc)*\n",
    "<br>\n",
    "\n",
    "##### Build a func-tagging mechanism Decorator: real world example\n",
    "\n",
    "Tagging something means to associate one or more strings that act as labels. For instance, we often tag emails or photos so that we can search for them later. Let's write a decorator that can tag custom functions with an arbitrary list of tags. These tags could be used for many things:\n",
    "\n",
    "    Adding information about who has worked on the function, so a user can look up who to ask if they run into trouble using it\n",
    "    Labeling functions as \"experimental\" so that users know that the inputs and outputs might change in the future\n",
    "    Marking any functions that would be depricated in the future version of the code....etc"
   ]
  },
  {
   "cell_type": "code",
   "execution_count": 81,
   "id": "14ac19d4",
   "metadata": {},
   "outputs": [],
   "source": [
    "def tag_DF( *tags ):\n",
    "\n",
    "    def decor( func1 ):\n",
    "\n",
    "        @wraps( func1 )\n",
    "        def childWrapper( *args, **kwargs ):\n",
    "            return(  func1( *args, **kwargs )  )\n",
    "        \n",
    "        childWrapper.tagsVal = tags\n",
    "            \n",
    "        return( childWrapper )\n",
    "        \n",
    "    return( decor )\n",
    "\n",
    "@tag_DF( 'test', 'this is a del tag' )\n",
    "def foo():\n",
    "    pass"
   ]
  },
  {
   "cell_type": "code",
   "execution_count": 82,
   "id": "d42066b7",
   "metadata": {},
   "outputs": [
    {
     "name": "stdout",
     "output_type": "stream",
     "text": [
      "None\n",
      "(['test', 'this is a del tag'],)\n"
     ]
    }
   ],
   "source": [
    "print( foo() )\n",
    "print( foo.tagsVal )"
   ]
  },
  {
   "cell_type": "code",
   "execution_count": 83,
   "id": "12bce9f2",
   "metadata": {},
   "outputs": [
    {
     "name": "stdout",
     "output_type": "stream",
     "text": [
      "(['test', 'this is a del tag'],)\n"
     ]
    }
   ],
   "source": [
    "@tag_DF( ['test', 'this is a del tag'] )\n",
    "def bar():\n",
    "    pass\n",
    "print( foo.tagsVal )\n"
   ]
  },
  {
   "cell_type": "code",
   "execution_count": 85,
   "id": "706fcf10",
   "metadata": {},
   "outputs": [
    {
     "name": "stdout",
     "output_type": "stream",
     "text": [
      "(['test', 'this is a del tag'],)\n"
     ]
    }
   ],
   "source": [
    "@tag_DF( [['test'], ['this is a del tag']] )\n",
    "def bar():\n",
    "    pass\n",
    "print( foo.tagsVal )\n"
   ]
  },
  {
   "cell_type": "markdown",
   "id": "83fe0468",
   "metadata": {},
   "source": [
    "##### Build a Decorator that check the return type : real world example\n",
    "\n",
    "Python's flexibility around data types is usually cited as one of the benefits of the language. It can sometimes cause problems though if incorrect data types go unnoticed.\n",
    "\n",
    "In order to ensure that we will explicitly check the return types in all of the functions and make sure they're returning what is expected. Let's create a decorator that checks if the return type of the decorated function is correct."
   ]
  },
  {
   "cell_type": "code",
   "execution_count": 96,
   "id": "ec4548c8",
   "metadata": {},
   "outputs": [],
   "source": [
    "def checkReturnType_DF( data_type ):\n",
    "\n",
    "    def decor( func1 ):\n",
    "\n",
    "        @wraps( func1 )\n",
    "        def childWrapper( *args, **kwargs ):\n",
    "            func1_return = func1( *args, **kwargs )\n",
    "            assert type(func1_return) == data_type\n",
    "            return( func1_return )\n",
    "        \n",
    "        return( childWrapper )\n",
    "\n",
    "    return( decor )\n",
    "\n",
    "@checkReturnType_DF( dict )\n",
    "def foo( val1 = 0 ):\n",
    "    dict1 = { 'key1': val1 }\n",
    "    return( dict1 )\n",
    "\n",
    "@checkReturnType_DF( dict )\n",
    "def bar( val1 = 0 ):\n",
    "    dict1 = { 'key1': val1 }\n",
    "    return( dict1['key1'] )\n",
    "\n"
   ]
  },
  {
   "cell_type": "code",
   "execution_count": 94,
   "id": "df17dada",
   "metadata": {},
   "outputs": [
    {
     "data": {
      "text/plain": [
       "{'key1': 5}"
      ]
     },
     "execution_count": 94,
     "metadata": {},
     "output_type": "execute_result"
    }
   ],
   "source": [
    "dict_any = foo( 5 )\n",
    "dict_any"
   ]
  },
  {
   "cell_type": "code",
   "execution_count": 97,
   "id": "ddaabfde",
   "metadata": {},
   "outputs": [
    {
     "ename": "AssertionError",
     "evalue": "",
     "output_type": "error",
     "traceback": [
      "\u001b[1;31m---------------------------------------------------------------------------\u001b[0m",
      "\u001b[1;31mAssertionError\u001b[0m                            Traceback (most recent call last)",
      "\u001b[1;32mc:\\Users\\k31952\\OneDrive - FINRA\\Learning\\Python\\Course -  Python Programming.ipynb Cell 396\u001b[0m in \u001b[0;36m<cell line: 1>\u001b[1;34m()\u001b[0m\n\u001b[1;32m----> <a href='vscode-notebook-cell:/c%3A/Users/k31952/OneDrive%20-%20FINRA/Learning/Python/Course%20-%20%20Python%20Programming.ipynb#Z1125sZmlsZQ%3D%3D?line=0'>1</a>\u001b[0m dict_any \u001b[39m=\u001b[39m bar( \u001b[39m5\u001b[39;49m )\n",
      "\u001b[1;32mc:\\Users\\k31952\\OneDrive - FINRA\\Learning\\Python\\Course -  Python Programming.ipynb Cell 396\u001b[0m in \u001b[0;36mcheckReturnType_DF.<locals>.decor.<locals>.childWrapper\u001b[1;34m(*args, **kwargs)\u001b[0m\n\u001b[0;32m      <a href='vscode-notebook-cell:/c%3A/Users/k31952/OneDrive%20-%20FINRA/Learning/Python/Course%20-%20%20Python%20Programming.ipynb#Z1125sZmlsZQ%3D%3D?line=4'>5</a>\u001b[0m \u001b[39m@wraps\u001b[39m( func1 )\n\u001b[0;32m      <a href='vscode-notebook-cell:/c%3A/Users/k31952/OneDrive%20-%20FINRA/Learning/Python/Course%20-%20%20Python%20Programming.ipynb#Z1125sZmlsZQ%3D%3D?line=5'>6</a>\u001b[0m \u001b[39mdef\u001b[39;00m \u001b[39mchildWrapper\u001b[39m( \u001b[39m*\u001b[39margs, \u001b[39m*\u001b[39m\u001b[39m*\u001b[39mkwargs ):\n\u001b[0;32m      <a href='vscode-notebook-cell:/c%3A/Users/k31952/OneDrive%20-%20FINRA/Learning/Python/Course%20-%20%20Python%20Programming.ipynb#Z1125sZmlsZQ%3D%3D?line=6'>7</a>\u001b[0m     func1_return \u001b[39m=\u001b[39m func1( \u001b[39m*\u001b[39margs, \u001b[39m*\u001b[39m\u001b[39m*\u001b[39mkwargs )\n\u001b[1;32m----> <a href='vscode-notebook-cell:/c%3A/Users/k31952/OneDrive%20-%20FINRA/Learning/Python/Course%20-%20%20Python%20Programming.ipynb#Z1125sZmlsZQ%3D%3D?line=7'>8</a>\u001b[0m     \u001b[39massert\u001b[39;00m \u001b[39mtype\u001b[39m(func1_return) \u001b[39m==\u001b[39m data_type\n\u001b[0;32m      <a href='vscode-notebook-cell:/c%3A/Users/k31952/OneDrive%20-%20FINRA/Learning/Python/Course%20-%20%20Python%20Programming.ipynb#Z1125sZmlsZQ%3D%3D?line=8'>9</a>\u001b[0m     \u001b[39mreturn\u001b[39;00m( func1_return )\n",
      "\u001b[1;31mAssertionError\u001b[0m: "
     ]
    }
   ],
   "source": [
    "dict_any = bar( 5 )   # --> AssertionError: "
   ]
  },
  {
   "cell_type": "code",
   "execution_count": 99,
   "id": "b3550637",
   "metadata": {},
   "outputs": [],
   "source": [
    "@checkReturnType_DF( int )\n",
    "def foobar( val1 = 1 ):\n",
    "    rVal = val1 * 2\n",
    "    return( rVal )"
   ]
  },
  {
   "cell_type": "code",
   "execution_count": 102,
   "id": "e1449fbf",
   "metadata": {},
   "outputs": [
    {
     "data": {
      "text/plain": [
       "8"
      ]
     },
     "execution_count": 102,
     "metadata": {},
     "output_type": "execute_result"
    }
   ],
   "source": [
    "foobar(4)"
   ]
  },
  {
   "cell_type": "code",
   "execution_count": 103,
   "id": "25a8c3fc",
   "metadata": {},
   "outputs": [
    {
     "ename": "AssertionError",
     "evalue": "",
     "output_type": "error",
     "traceback": [
      "\u001b[1;31m---------------------------------------------------------------------------\u001b[0m",
      "\u001b[1;31mAssertionError\u001b[0m                            Traceback (most recent call last)",
      "\u001b[1;32mc:\\Users\\k31952\\OneDrive - FINRA\\Learning\\Python\\Course -  Python Programming.ipynb Cell 399\u001b[0m in \u001b[0;36m<cell line: 1>\u001b[1;34m()\u001b[0m\n\u001b[1;32m----> <a href='vscode-notebook-cell:/c%3A/Users/k31952/OneDrive%20-%20FINRA/Learning/Python/Course%20-%20%20Python%20Programming.ipynb#Z1131sZmlsZQ%3D%3D?line=0'>1</a>\u001b[0m foobar( \u001b[39m4.5\u001b[39;49m )\n",
      "\u001b[1;32mc:\\Users\\k31952\\OneDrive - FINRA\\Learning\\Python\\Course -  Python Programming.ipynb Cell 399\u001b[0m in \u001b[0;36mcheckReturnType_DF.<locals>.decor.<locals>.childWrapper\u001b[1;34m(*args, **kwargs)\u001b[0m\n\u001b[0;32m      <a href='vscode-notebook-cell:/c%3A/Users/k31952/OneDrive%20-%20FINRA/Learning/Python/Course%20-%20%20Python%20Programming.ipynb#Z1131sZmlsZQ%3D%3D?line=4'>5</a>\u001b[0m \u001b[39m@wraps\u001b[39m( func1 )\n\u001b[0;32m      <a href='vscode-notebook-cell:/c%3A/Users/k31952/OneDrive%20-%20FINRA/Learning/Python/Course%20-%20%20Python%20Programming.ipynb#Z1131sZmlsZQ%3D%3D?line=5'>6</a>\u001b[0m \u001b[39mdef\u001b[39;00m \u001b[39mchildWrapper\u001b[39m( \u001b[39m*\u001b[39margs, \u001b[39m*\u001b[39m\u001b[39m*\u001b[39mkwargs ):\n\u001b[0;32m      <a href='vscode-notebook-cell:/c%3A/Users/k31952/OneDrive%20-%20FINRA/Learning/Python/Course%20-%20%20Python%20Programming.ipynb#Z1131sZmlsZQ%3D%3D?line=6'>7</a>\u001b[0m     func1_return \u001b[39m=\u001b[39m func1( \u001b[39m*\u001b[39margs, \u001b[39m*\u001b[39m\u001b[39m*\u001b[39mkwargs )\n\u001b[1;32m----> <a href='vscode-notebook-cell:/c%3A/Users/k31952/OneDrive%20-%20FINRA/Learning/Python/Course%20-%20%20Python%20Programming.ipynb#Z1131sZmlsZQ%3D%3D?line=7'>8</a>\u001b[0m     \u001b[39massert\u001b[39;00m \u001b[39mtype\u001b[39m(func1_return) \u001b[39m==\u001b[39m data_type\n\u001b[0;32m      <a href='vscode-notebook-cell:/c%3A/Users/k31952/OneDrive%20-%20FINRA/Learning/Python/Course%20-%20%20Python%20Programming.ipynb#Z1131sZmlsZQ%3D%3D?line=8'>9</a>\u001b[0m     \u001b[39mreturn\u001b[39;00m( func1_return )\n",
      "\u001b[1;31mAssertionError\u001b[0m: "
     ]
    }
   ],
   "source": [
    "foobar( 4.5 )   # --> AssertionError: "
   ]
  },
  {
   "cell_type": "markdown",
   "id": "c25924d5",
   "metadata": {},
   "source": [
    "<br><br>\n",
    "<div id= '2.5'>\n",
    "    <h2>Chapter 2.5 - Type Hints & Annotations</h2>\n",
    "</div>\n",
    "\n",
    "#### Key Concepts\n",
    "Decorators are an extremely powerful concept in Python. They allow the programmer to modify the behavior of a function without changing the code of the function itself.\n",
    "\n",
    "    - typing module in Python i.e. type hints and annotations\n",
    "    - improving documentation\n",
    "    \n",
    "<br>\n",
    "\n",
    "<div id= '2.5.1'>\n",
    "    <h3>2.5.1 - Type Hinting in assignments</h3>     \n",
    "</div>\n",
    "\n",
    "*[Go to top](#toc)*"
   ]
  },
  {
   "cell_type": "code",
   "execution_count": 4,
   "id": "471028be",
   "metadata": {},
   "outputs": [
    {
     "name": "stdout",
     "output_type": "stream",
     "text": [
      "<class 'int'>\n",
      "<class 'int'>\n"
     ]
    }
   ],
   "source": [
    "x = 1\n",
    "print( type(x) )\n",
    "\n",
    "x: int = 5\n",
    "print( type(x) )"
   ]
  },
  {
   "cell_type": "code",
   "execution_count": 5,
   "id": "2ab0cd7b",
   "metadata": {},
   "outputs": [
    {
     "name": "stdout",
     "output_type": "stream",
     "text": [
      "<class 'int'>\n"
     ]
    }
   ],
   "source": [
    "# can also do this but shouldn't\n",
    "x: str = 6\n",
    "print( type(x) )\n"
   ]
  },
  {
   "cell_type": "markdown",
   "id": "4e703997",
   "metadata": {},
   "source": [
    "<br>\n",
    "\n",
    "<div id= '2.5.2'>\n",
    "    <h3>2.5.2 - Annotations in Function</h3>     \n",
    "</div>\n",
    "\n",
    "*[Go to top](#toc)*\n",
    "\n",
    "#### Annotation when passing simple arguments in a function"
   ]
  },
  {
   "cell_type": "code",
   "execution_count": null,
   "id": "17363818",
   "metadata": {},
   "outputs": [],
   "source": [
    "def add_number( a: int, b: int, c: int ) -> int:\n",
    "    return( a+b+c )\n",
    "\n",
    "def add_print_number( a: int, b: int, c: int ) -> None:\n",
    "    print( a+b+c )"
   ]
  },
  {
   "cell_type": "markdown",
   "id": "1412f176",
   "metadata": {},
   "source": [
    "#### Annotation when passing compound arguments in a function\n",
    "\n",
    "##### Compound List"
   ]
  },
  {
   "cell_type": "code",
   "execution_count": 7,
   "id": "abae258a",
   "metadata": {},
   "outputs": [],
   "source": [
    "from typing import List, Dict, Set"
   ]
  },
  {
   "cell_type": "code",
   "execution_count": 6,
   "id": "0733d641",
   "metadata": {},
   "outputs": [
    {
     "name": "stdout",
     "output_type": "stream",
     "text": [
      "[[1, 2, 3], [5, 6]]\n"
     ]
    }
   ],
   "source": [
    "# passing [ [1,2,4], [4,5], [6,7,8,9] ] as an argument  smth like: list[ list[int] ]\n",
    "from typing import List\n",
    "\n",
    "def my_func1(  arg1: List[ List[int] ]  )  ->  None:\n",
    "    print( arg1 )\n",
    "\n",
    "my_func1(  [ [1,2,3], [5,6] ]  )"
   ]
  },
  {
   "cell_type": "markdown",
   "id": "4ce31027",
   "metadata": {},
   "source": [
    "##### Dictionary"
   ]
  },
  {
   "cell_type": "code",
   "execution_count": 8,
   "id": "178768f3",
   "metadata": {},
   "outputs": [
    {
     "data": {
      "text/plain": [
       "{'a': '1', 'b': '2'}"
      ]
     },
     "execution_count": 8,
     "metadata": {},
     "output_type": "execute_result"
    }
   ],
   "source": [
    "def my_func1(  arg_dict: Dict[ str, int ]  )  -> Dict[ str, str ]:          # func that converts each int value to string\n",
    "    for e_k in arg_dict.keys():\n",
    "        arg_dict[e_k] = str( arg_dict[e_k]  )\n",
    "    return( arg_dict )\n",
    "\n",
    "my_func1(  { 'a':1, 'b':2 }  )"
   ]
  },
  {
   "cell_type": "markdown",
   "id": "302899d7",
   "metadata": {},
   "source": [
    "##### Set"
   ]
  },
  {
   "cell_type": "code",
   "execution_count": null,
   "id": "e32d45ed",
   "metadata": {},
   "outputs": [],
   "source": [
    "def my_func1(  arg1: Set[str]  )  ->  None:\n",
    "    print( arg1 )"
   ]
  },
  {
   "cell_type": "markdown",
   "id": "d9abae2e",
   "metadata": {},
   "source": [
    "<br>\n",
    "\n",
    "<div id= '2.5.3'>\n",
    "    <h3>2.5.3 - Custom Types</h3>     \n",
    "</div>\n",
    "\n",
    "*[Go to top](#toc)*"
   ]
  },
  {
   "cell_type": "code",
   "execution_count": 17,
   "id": "451013cc",
   "metadata": {},
   "outputs": [
    {
     "data": {
      "text/plain": [
       "[[1], [2], [4]]"
      ]
     },
     "execution_count": 17,
     "metadata": {},
     "output_type": "execute_result"
    }
   ],
   "source": [
    "Vector = List[ float ]\n",
    "VTensors = List[ List[float] ]\n",
    "\n",
    "def my_func1( arg1: Vector )  ->  VTensors:\n",
    "    tnsr1 = []\n",
    "    for e_elem in arg1:\n",
    "        tnsr1.append( [e_elem] )\n",
    "    return( tnsr1 )\n",
    "\n",
    "my_func1( [ 1, 2, 4 ] )"
   ]
  },
  {
   "cell_type": "markdown",
   "id": "be4887f9",
   "metadata": {},
   "source": [
    "using previously defined type to defined new type"
   ]
  },
  {
   "cell_type": "code",
   "execution_count": 20,
   "id": "28aee8bb",
   "metadata": {},
   "outputs": [
    {
     "data": {
      "text/plain": [
       "[[1], [2], [4]]"
      ]
     },
     "execution_count": 20,
     "metadata": {},
     "output_type": "execute_result"
    }
   ],
   "source": [
    "Vector = List[ float ]\n",
    "VTensors = List[ Vector]\n",
    "\n",
    "def my_func1( arg1: Vector )  ->  VTensors:\n",
    "    tnsr1 = []\n",
    "    for e_elem in arg1:\n",
    "        tnsr1.append( [e_elem] )\n",
    "    return( tnsr1 )\n",
    "\n",
    "my_func1( [ 1, 2, 4 ] )"
   ]
  },
  {
   "cell_type": "markdown",
   "id": "1adb7744",
   "metadata": {},
   "source": [
    "<br>\n",
    "\n",
    "<div id= '2.5.4'>\n",
    "    <h3>2.5.4 - Optional & Any Type</h3>     \n",
    "</div>\n",
    "\n",
    "*[Go to top](#toc)*\n",
    "\n",
    "##### `Optional`"
   ]
  },
  {
   "cell_type": "code",
   "execution_count": 24,
   "id": "750feb09",
   "metadata": {},
   "outputs": [
    {
     "data": {
      "text/plain": [
       "[[1], [2], [4]]"
      ]
     },
     "execution_count": 24,
     "metadata": {},
     "output_type": "execute_result"
    }
   ],
   "source": [
    "def my_func1( arg1: Vector, arg2: bool= True )  ->  VTensors:\n",
    "    tnsr1 = []\n",
    "    for e_elem in arg1:\n",
    "        tnsr1.append( [e_elem] )\n",
    "    if arg2:  return( tnsr1 )\n",
    "\n",
    "my_func1( [ 1, 2, 4 ], arg2= True )"
   ]
  },
  {
   "cell_type": "code",
   "execution_count": 26,
   "id": "665ff7df",
   "metadata": {},
   "outputs": [],
   "source": [
    "# use optional type\n",
    "from typing import Optional\n",
    "\n",
    "def my_func1( arg1: Vector, arg2: Optional[bool]= True )  ->  VTensors:\n",
    "    tnsr1 = []\n",
    "    for e_elem in arg1:\n",
    "        tnsr1.append( [e_elem] )\n",
    "    if arg2:  return( tnsr1 )"
   ]
  },
  {
   "cell_type": "markdown",
   "id": "69a0980b",
   "metadata": {},
   "source": [
    "##### `Any`\n",
    "\n",
    "if the developer is willing to accept any type and the function is made to handle any then use `any` type"
   ]
  },
  {
   "cell_type": "code",
   "execution_count": 31,
   "id": "93fd43cb",
   "metadata": {},
   "outputs": [
    {
     "name": "stdout",
     "output_type": "stream",
     "text": [
      "3\n",
      "3\n",
      "0\n"
     ]
    }
   ],
   "source": [
    "from typing import Any\n",
    "\n",
    "def my_func1( arg1: Any )  ->  int:\n",
    "    return( len(arg1) )\n",
    "\n",
    "print(  my_func1('asd')  )\n",
    "print(  my_func1( [1,2,3] )  )\n",
    "print(  my_func1(pd.DataFrame())  )"
   ]
  },
  {
   "cell_type": "markdown",
   "id": "7aaf233f",
   "metadata": {},
   "source": [
    "<br>\n",
    "<div id= '2.5.5'></div>\n",
    "\n",
    "#### 2.5.5 - `Sequence` Type\n",
    "\n",
    "*[Go to top](#toc)*\n",
    "\n",
    "Sequence of anything  -  `list`, `tuple`, etc."
   ]
  },
  {
   "cell_type": "code",
   "execution_count": 34,
   "id": "0acb872b",
   "metadata": {},
   "outputs": [
    {
     "name": "stdout",
     "output_type": "stream",
     "text": [
      "Sequence can be list, tuple, even string, but not int, float\n",
      "\n"
     ]
    }
   ],
   "source": [
    "import typing\n",
    "def my_func11(  arg1: typing.Sequence[str]  ):\n",
    "    print( arg1 )\n",
    "\n",
    "print( '''Sequence can be list, tuple, even string, but not int, float, set\n",
    "''')"
   ]
  },
  {
   "cell_type": "markdown",
   "id": "2347c8e8",
   "metadata": {},
   "source": [
    "<br>\n",
    "<div id= '2.5.6'></div>\n",
    "\n",
    "#### 2.5.6 - `Callable` Type\n",
    "\n",
    "*[Go to top](#toc)*\n",
    "\n",
    "Callable - Funcs"
   ]
  },
  {
   "cell_type": "code",
   "execution_count": 48,
   "id": "16fa4ac9",
   "metadata": {},
   "outputs": [],
   "source": [
    "from typing import Callable"
   ]
  },
  {
   "cell_type": "code",
   "execution_count": 57,
   "id": "f15f0766",
   "metadata": {},
   "outputs": [
    {
     "data": {
      "text/plain": [
       "3"
      ]
     },
     "execution_count": 57,
     "metadata": {},
     "output_type": "execute_result"
    }
   ],
   "source": [
    "## a simple example\n",
    "\n",
    "def add( x: int, y: int )  ->  int:\n",
    "    return( x+y )\n",
    "\n",
    "def foo(  func1: Callable[ [int,int], int ]  )  ->  int:\n",
    "    return( func1( 1,2 ) )\n",
    "\n",
    "foo(add)\n"
   ]
  },
  {
   "cell_type": "markdown",
   "id": "303f1612",
   "metadata": {},
   "source": [
    "##### Compound example"
   ]
  },
  {
   "cell_type": "code",
   "execution_count": 51,
   "id": "26bf1498",
   "metadata": {},
   "outputs": [],
   "source": [
    "# suppose I need to create another function that takes 'my_TV_func' as an argument\n",
    "# repeated previous code\n",
    "\n",
    "def my_TV_func( arg1: Vector, arg2: Optional[bool]= True )  ->  VTensors:\n",
    "    tnsr1 = []\n",
    "    for e_elem in arg1:\n",
    "        tnsr1.append( [e_elem] )\n",
    "    if arg2:  return( tnsr1 )"
   ]
  },
  {
   "cell_type": "code",
   "execution_count": 49,
   "id": "0f32d8c7",
   "metadata": {},
   "outputs": [],
   "source": [
    "def my_func2(   func: Callable[  [ Vector, Optional[bool] ], VTensors  ], \n",
    "                arg1: Vector, arg2: Optional[bool]= True   )   ->  VTensors:\n",
    "    print( f'The function my_TV_func() now becomes --> {2*arg1}' )\n",
    "    return( func( 2*arg1, arg2 ) )"
   ]
  },
  {
   "cell_type": "code",
   "execution_count": 50,
   "id": "c43afa1c",
   "metadata": {},
   "outputs": [
    {
     "name": "stdout",
     "output_type": "stream",
     "text": [
      "The function my_TV_func() now becomes --> [1, 2, 3, 1, 2, 3]\n"
     ]
    },
    {
     "data": {
      "text/plain": [
       "[[1], [2], [3], [1], [2], [3]]"
      ]
     },
     "execution_count": 50,
     "metadata": {},
     "output_type": "execute_result"
    }
   ],
   "source": [
    "my_func2( my_TV_func, [1,2,3] )"
   ]
  },
  {
   "cell_type": "markdown",
   "id": "2e044b46",
   "metadata": {},
   "source": [
    "##### Another slightly twisted case"
   ]
  },
  {
   "cell_type": "code",
   "execution_count": 68,
   "id": "b5f01e6b",
   "metadata": {},
   "outputs": [
    {
     "name": "stdout",
     "output_type": "stream",
     "text": [
      "<function my_TV_func at 0x0000023B8F415C10>\n"
     ]
    },
    {
     "data": {
      "text/plain": [
       "[[1], [2], [3]]"
      ]
     },
     "execution_count": 68,
     "metadata": {},
     "output_type": "execute_result"
    }
   ],
   "source": [
    "def my_func2()  ->  Callable[ [Vector,Optional[bool]], VTensors ]:\n",
    "    return( my_TV_func )\n",
    "\n",
    "retVal_my_func2 = my_func2();             print( retVal_my_func2 )\n",
    "retVal_my_func2( [1,2,3] )"
   ]
  },
  {
   "cell_type": "code",
   "execution_count": 67,
   "id": "57482177",
   "metadata": {},
   "outputs": [
    {
     "name": "stdout",
     "output_type": "stream",
     "text": [
      "<function my_func2.<locals>.my_TV_func at 0x0000023B8F4705E0>\n"
     ]
    },
    {
     "data": {
      "text/plain": [
       "[[1], [2], [3]]"
      ]
     },
     "execution_count": 67,
     "metadata": {},
     "output_type": "execute_result"
    }
   ],
   "source": [
    "# OR can be used for nested func as well\n",
    "\n",
    "def my_func2()  ->  Callable[ [Vector], VTensors ]:\n",
    "\n",
    "    def my_TV_func( arg1: Vector )  ->  VTensors:\n",
    "        tnsr1 = [  [e_elem]  for e_elem in arg1  ]\n",
    "        return( tnsr1 )\n",
    "    \n",
    "    return( my_TV_func )\n",
    "\n",
    "retVal_my_func2 = my_func2();              print( retVal_my_func2 )\n",
    "retVal_my_func2( [1,2,3] )"
   ]
  },
  {
   "cell_type": "code",
   "execution_count": 70,
   "id": "18ca1b0d",
   "metadata": {},
   "outputs": [
    {
     "name": "stdout",
     "output_type": "stream",
     "text": [
      "<function foo.<locals>.<lambda> at 0x0000023B8F470A60>\n"
     ]
    },
    {
     "data": {
      "text/plain": [
       "3"
      ]
     },
     "execution_count": 70,
     "metadata": {},
     "output_type": "execute_result"
    }
   ],
   "source": [
    "# using lambda for nested func\n",
    "\n",
    "def foo( )  ->  Callable[ [int,int], int ]:\n",
    "    return(  lambda x,y: x+y  )\n",
    "\n",
    "retVal_foo = foo();                  print( retVal_foo )\n",
    "retVal_foo( 1,2 )"
   ]
  },
  {
   "cell_type": "markdown",
   "id": "b27c8678",
   "metadata": {},
   "source": [
    "##### Annotation in case of lambda ( very confusing )"
   ]
  },
  {
   "cell_type": "code",
   "execution_count": 71,
   "id": "5ff7696b",
   "metadata": {},
   "outputs": [
    {
     "name": "stdout",
     "output_type": "stream",
     "text": [
      "<function foo.<locals>.<lambda> at 0x0000023B8F470700>\n"
     ]
    },
    {
     "data": {
      "text/plain": [
       "3"
      ]
     },
     "execution_count": 71,
     "metadata": {},
     "output_type": "execute_result"
    }
   ],
   "source": [
    "def foo( )  ->  Callable[ [int,int], int ]:\n",
    "    func_lambda: Callable[ [int,int], int ] = lambda x,y: x+y\n",
    "    return( func_lambda )\n",
    "\n",
    "retVal_foo = foo();                  print( retVal_foo )\n",
    "retVal_foo( 1,2 )"
   ]
  },
  {
   "cell_type": "markdown",
   "id": "a05ef215",
   "metadata": {},
   "source": [
    "<br>\n",
    "<div id= '2.5.7'></div>\n",
    "\n",
    "#### 2.5.7 - `Generic` Type\n",
    "\n",
    "    Placeholder for the elements' type, say of a List\n",
    "\n",
    "*[Go to top](#toc)*"
   ]
  },
  {
   "cell_type": "code",
   "execution_count": 78,
   "id": "5523c487",
   "metadata": {},
   "outputs": [
    {
     "name": "stdout",
     "output_type": "stream",
     "text": [
      "now my_ls1 could be list of any object, be it str, int, float, func etc.\n",
      "\n"
     ]
    }
   ],
   "source": [
    "from typing import TypeVar\n",
    "\n",
    "T = TypeVar('T')\n",
    "\n",
    "def get_item( my_ls1: List[T], idx: int )  ->  T:\n",
    "    return( my_ls1[idx] )\n",
    "\n",
    "print(  '''now my_ls1 could be list of any object, be it str, int, float, func etc.\n",
    "''' )"
   ]
  },
  {
   "cell_type": "code",
   "execution_count": 81,
   "id": "99263994",
   "metadata": {},
   "outputs": [
    {
     "data": {
      "text/plain": [
       "(3, 'b')"
      ]
     },
     "execution_count": 81,
     "metadata": {},
     "output_type": "execute_result"
    }
   ],
   "source": [
    "get_item( [1,2,3], 2 ),    get_item( ['a','b','c'], 1 )"
   ]
  },
  {
   "cell_type": "markdown",
   "id": "79f7127e",
   "metadata": {},
   "source": [
    "<br> <hr> <br> <hr> <br>\n",
    "\n",
    "<div id= 'course3'></div>\n",
    "\n",
    "## Course 3  - Software Engineering for Data Scientists\n",
    "\n",
    "*[Go to top](#toc)*\n",
    "\n",
    "Data scientists can experience huge benefits by learning concepts from the field of software engineering, allowing them to more easily reutilize their code and share it with collaborators.\n",
    "\n",
    "#### Key Concepts\n",
    "\n",
    "        - learn all about the important ideas of modularity, documentation, & automated testing\n",
    "        - learn how Software Engineering concepts can help solve Data Science problems quicker and re-usable\n",
    "        - to write Python package for performing text analytics\n",
    "\n",
    "<br>\n",
    "<div id= '3.1'></div>\n",
    "\n",
    "### Chapter 3.1 - Writing a Python Module</h2>\n",
    "\n",
    "\n",
    "#### Key Concepts\n",
    "    - learn how to structure and write Python code that can be installed, used, and distributed just like famous packages such as NumPy and Pandas.\n",
    "\n",
    "\n",
    "<div id= '3.1.1'></div>\n",
    "\n",
    "### 3.1.1 - Making a package\n",
    "\n",
    "*[Go to top](#toc)*"
   ]
  },
  {
   "cell_type": "code",
   "execution_count": 8,
   "id": "1a5417b5",
   "metadata": {},
   "outputs": [],
   "source": [
    "# Writing requirements.txt\n",
    "\n",
    "requirements = \"\"\"\n",
    "matplotlib>=3.0.0\n",
    "numpy==1.15.4\n",
    "pandas<=0.22.0\n",
    "pycodestyle\n",
    "\"\"\""
   ]
  },
  {
   "cell_type": "code",
   "execution_count": 5,
   "id": "2e89bef9",
   "metadata": {},
   "outputs": [],
   "source": [
    "import setuptools\n",
    "\n",
    "# setup to be used by pip in \"setup.py\"\n",
    "\n",
    "# setuptools.setup(  name= 'text_analyzer',\n",
    "#                    version='0.0.1',\n",
    "#                    description='Perform and visualize a text anaylsis.',\n",
    "#                    author='madhur',\n",
    "#                    packages=['text_analyzer']\n",
    "#                 )"
   ]
  },
  {
   "cell_type": "code",
   "execution_count": 7,
   "id": "da63241b",
   "metadata": {},
   "outputs": [],
   "source": [
    "# setuptools.setup(   name= 'text_analyzer',\n",
    "#                     version= '0.0.1',\n",
    "#                     description= 'Perform and visualize a text anaylsis.',\n",
    "#                     author= 'maddy',\n",
    "#                     packages= [ 'text_analyzer' ],\n",
    "#                     install_requires= [ 'matplotlib>=3.0.0', 'numpy' ]\n",
    "#                 )"
   ]
  },
  {
   "cell_type": "markdown",
   "id": "17f5271a",
   "metadata": {},
   "source": [
    "<br>\n",
    "<div id= '3.2'></div>\n",
    "\n",
    "### Chapter 3.2 - Utilizing Classes during writing packages</h2>\n",
    "\n",
    "\n",
    "#### Key Concepts\n",
    "    - Object Oriented Programming is a staple of Python development\n",
    "    - leveraging classes and inheritance during Python package development\n",
    "\n",
    "<br>\n",
    "<div id= '3.2.1'></div>\n",
    "\n",
    "#### 3.2.1 - Write, add and use classes to a package\n",
    "\n",
    "*[Go to top](#toc)*"
   ]
  },
  {
   "cell_type": "code",
   "execution_count": 83,
   "id": "f66c9f24",
   "metadata": {},
   "outputs": [],
   "source": [
    "## Context manager func to temp change current dir and change back to the original one\n",
    "\n",
    "@contextlib.contextmanager\n",
    "def chdir_temp( temp_path_new ):\n",
    "    dir_old = os.getcwd()\n",
    "    os.chdir( temp_path_new )\n",
    "\n",
    "    yield\n",
    "\n",
    "    os.chdir( dir_old )"
   ]
  },
  {
   "cell_type": "code",
   "execution_count": 86,
   "id": "5da115bb",
   "metadata": {},
   "outputs": [],
   "source": [
    "class DocumentClass:\n",
    "    \"\"\"A class for text analysis\n",
    "    \n",
    "    :param text: string of text to be analyzed\n",
    "    :ivar text: string of text to be analyzed; set by `text` parameter\n",
    "    \"\"\"\n",
    "    # Method to create a new instance of MyClass\n",
    "    def __init__( obj, text_val ):\n",
    "        obj.text = text_val"
   ]
  },
  {
   "cell_type": "code",
   "execution_count": 94,
   "id": "cc21d75c",
   "metadata": {},
   "outputs": [],
   "source": [
    "with chdir_temp( r'C:\\Users\\k31952\\OneDrive - FINRA\\Learning\\Python\\Course - Software Engineering for Data Scientists\\project1_car_detection\\my_packages' ):\n",
    "    from util1 import DocumentClass\n"
   ]
  },
  {
   "cell_type": "markdown",
   "id": "eb8bf3df",
   "metadata": {},
   "source": [
    "<br>\n",
    "<div id= '3.2.2'></div>\n",
    "\n",
    "#### 3.2.2 - Multilevel inheritance\n",
    "\n",
    "*[Go to top](#toc)*\n",
    "\n",
    "\n",
    "\n",
    "        Single Inheritance:   Parent Class  ----->  Child1 Class, Child2 Class  ----->  Grandchild1 Class, Grandchild2 Class, Grandchild3 Class, etc.\n",
    "        Multiple Inheritance: Parent1 Class, Parent2 Class  ----->  Child1 Class"
   ]
  },
  {
   "cell_type": "code",
   "execution_count": null,
   "id": "baf39932",
   "metadata": {},
   "outputs": [],
   "source": []
  },
  {
   "cell_type": "code",
   "execution_count": null,
   "id": "e7f516df",
   "metadata": {},
   "outputs": [],
   "source": []
  },
  {
   "cell_type": "code",
   "execution_count": null,
   "id": "5dbabcc5",
   "metadata": {},
   "outputs": [],
   "source": []
  },
  {
   "cell_type": "code",
   "execution_count": null,
   "id": "ac8564de",
   "metadata": {},
   "outputs": [],
   "source": []
  },
  {
   "cell_type": "code",
   "execution_count": null,
   "id": "b1122f34",
   "metadata": {},
   "outputs": [],
   "source": []
  },
  {
   "cell_type": "code",
   "execution_count": null,
   "id": "a323198b",
   "metadata": {},
   "outputs": [],
   "source": []
  },
  {
   "cell_type": "code",
   "execution_count": null,
   "id": "184c50a6",
   "metadata": {},
   "outputs": [],
   "source": []
  },
  {
   "cell_type": "code",
   "execution_count": null,
   "id": "f00082dd",
   "metadata": {},
   "outputs": [],
   "source": []
  },
  {
   "cell_type": "code",
   "execution_count": null,
   "id": "420395d5",
   "metadata": {},
   "outputs": [],
   "source": []
  },
  {
   "cell_type": "code",
   "execution_count": null,
   "id": "1a3492ee",
   "metadata": {},
   "outputs": [],
   "source": []
  },
  {
   "cell_type": "code",
   "execution_count": null,
   "id": "a03407f8",
   "metadata": {},
   "outputs": [],
   "source": []
  },
  {
   "cell_type": "code",
   "execution_count": null,
   "id": "99f7d27c",
   "metadata": {},
   "outputs": [],
   "source": []
  },
  {
   "cell_type": "code",
   "execution_count": null,
   "id": "7341e280",
   "metadata": {},
   "outputs": [],
   "source": []
  },
  {
   "cell_type": "code",
   "execution_count": null,
   "id": "a1611e90",
   "metadata": {},
   "outputs": [],
   "source": []
  },
  {
   "cell_type": "code",
   "execution_count": null,
   "id": "e5a1f62c",
   "metadata": {},
   "outputs": [],
   "source": []
  },
  {
   "cell_type": "code",
   "execution_count": null,
   "id": "b7734679",
   "metadata": {},
   "outputs": [],
   "source": []
  },
  {
   "cell_type": "code",
   "execution_count": null,
   "id": "8a9a13f3",
   "metadata": {},
   "outputs": [],
   "source": []
  },
  {
   "cell_type": "code",
   "execution_count": null,
   "id": "97e7c49b",
   "metadata": {},
   "outputs": [],
   "source": []
  },
  {
   "cell_type": "code",
   "execution_count": null,
   "id": "00eba6f9",
   "metadata": {},
   "outputs": [],
   "source": []
  },
  {
   "cell_type": "code",
   "execution_count": null,
   "id": "91fbc256",
   "metadata": {},
   "outputs": [],
   "source": []
  },
  {
   "cell_type": "code",
   "execution_count": null,
   "id": "7179cdbb",
   "metadata": {},
   "outputs": [],
   "source": []
  },
  {
   "cell_type": "code",
   "execution_count": null,
   "id": "4091d770",
   "metadata": {},
   "outputs": [],
   "source": []
  },
  {
   "cell_type": "code",
   "execution_count": null,
   "id": "2fb85dfc",
   "metadata": {},
   "outputs": [],
   "source": []
  },
  {
   "cell_type": "code",
   "execution_count": null,
   "id": "14e37cb8",
   "metadata": {},
   "outputs": [],
   "source": []
  },
  {
   "cell_type": "code",
   "execution_count": null,
   "id": "3d90b614",
   "metadata": {},
   "outputs": [],
   "source": []
  },
  {
   "cell_type": "code",
   "execution_count": null,
   "id": "395ce0f7",
   "metadata": {},
   "outputs": [],
   "source": []
  },
  {
   "cell_type": "code",
   "execution_count": null,
   "id": "1da15653",
   "metadata": {},
   "outputs": [],
   "source": []
  },
  {
   "cell_type": "code",
   "execution_count": null,
   "id": "24e71988",
   "metadata": {},
   "outputs": [],
   "source": []
  },
  {
   "cell_type": "code",
   "execution_count": null,
   "id": "c827d64b",
   "metadata": {},
   "outputs": [],
   "source": []
  },
  {
   "cell_type": "code",
   "execution_count": null,
   "id": "263b2588",
   "metadata": {},
   "outputs": [],
   "source": []
  },
  {
   "cell_type": "code",
   "execution_count": null,
   "id": "221d9b68",
   "metadata": {},
   "outputs": [],
   "source": []
  },
  {
   "cell_type": "code",
   "execution_count": null,
   "id": "5e089137",
   "metadata": {},
   "outputs": [],
   "source": []
  },
  {
   "cell_type": "code",
   "execution_count": null,
   "id": "a21a3728",
   "metadata": {},
   "outputs": [],
   "source": []
  },
  {
   "cell_type": "code",
   "execution_count": null,
   "id": "2b194c8f",
   "metadata": {},
   "outputs": [],
   "source": []
  },
  {
   "cell_type": "code",
   "execution_count": null,
   "id": "535a073c",
   "metadata": {},
   "outputs": [],
   "source": []
  },
  {
   "cell_type": "code",
   "execution_count": null,
   "id": "38fc7c84",
   "metadata": {},
   "outputs": [],
   "source": []
  },
  {
   "cell_type": "code",
   "execution_count": null,
   "id": "233b6fb3",
   "metadata": {},
   "outputs": [],
   "source": []
  },
  {
   "cell_type": "code",
   "execution_count": null,
   "id": "3be6e538",
   "metadata": {},
   "outputs": [],
   "source": []
  },
  {
   "cell_type": "code",
   "execution_count": null,
   "id": "7ab61de0",
   "metadata": {},
   "outputs": [],
   "source": []
  },
  {
   "cell_type": "code",
   "execution_count": null,
   "id": "68ec48ea",
   "metadata": {},
   "outputs": [],
   "source": []
  },
  {
   "cell_type": "code",
   "execution_count": null,
   "id": "16c5dd8e",
   "metadata": {},
   "outputs": [],
   "source": []
  },
  {
   "cell_type": "code",
   "execution_count": null,
   "id": "4c045ea8",
   "metadata": {},
   "outputs": [],
   "source": []
  },
  {
   "cell_type": "code",
   "execution_count": null,
   "id": "b4c9cdd4",
   "metadata": {},
   "outputs": [],
   "source": []
  },
  {
   "cell_type": "code",
   "execution_count": null,
   "id": "0e18c6e1",
   "metadata": {},
   "outputs": [],
   "source": []
  },
  {
   "cell_type": "code",
   "execution_count": null,
   "id": "74ee72df",
   "metadata": {},
   "outputs": [],
   "source": []
  },
  {
   "cell_type": "code",
   "execution_count": null,
   "id": "60520fa6",
   "metadata": {},
   "outputs": [],
   "source": []
  },
  {
   "cell_type": "code",
   "execution_count": null,
   "id": "79be07bb",
   "metadata": {},
   "outputs": [],
   "source": []
  },
  {
   "cell_type": "code",
   "execution_count": null,
   "id": "f6eeba27",
   "metadata": {},
   "outputs": [],
   "source": []
  },
  {
   "cell_type": "code",
   "execution_count": null,
   "id": "9a2de23b",
   "metadata": {},
   "outputs": [],
   "source": []
  },
  {
   "cell_type": "code",
   "execution_count": null,
   "id": "59c21928",
   "metadata": {},
   "outputs": [],
   "source": []
  },
  {
   "cell_type": "code",
   "execution_count": null,
   "id": "f11af116",
   "metadata": {},
   "outputs": [],
   "source": []
  },
  {
   "cell_type": "code",
   "execution_count": null,
   "id": "7b3dc660",
   "metadata": {},
   "outputs": [],
   "source": []
  },
  {
   "cell_type": "code",
   "execution_count": null,
   "id": "516d3208",
   "metadata": {},
   "outputs": [],
   "source": []
  },
  {
   "cell_type": "code",
   "execution_count": null,
   "id": "de13c832",
   "metadata": {},
   "outputs": [],
   "source": []
  },
  {
   "cell_type": "code",
   "execution_count": null,
   "id": "131d0ce2",
   "metadata": {},
   "outputs": [],
   "source": []
  },
  {
   "cell_type": "code",
   "execution_count": null,
   "id": "82e33c3a",
   "metadata": {},
   "outputs": [],
   "source": []
  },
  {
   "cell_type": "code",
   "execution_count": null,
   "id": "0b6bbc52",
   "metadata": {},
   "outputs": [],
   "source": []
  },
  {
   "cell_type": "code",
   "execution_count": null,
   "id": "a53ccac0",
   "metadata": {},
   "outputs": [],
   "source": []
  },
  {
   "cell_type": "code",
   "execution_count": null,
   "id": "3eb64ba0",
   "metadata": {},
   "outputs": [],
   "source": []
  },
  {
   "cell_type": "code",
   "execution_count": null,
   "id": "f734d09a",
   "metadata": {},
   "outputs": [],
   "source": []
  },
  {
   "cell_type": "code",
   "execution_count": null,
   "id": "ef0e951d",
   "metadata": {},
   "outputs": [],
   "source": []
  },
  {
   "cell_type": "code",
   "execution_count": null,
   "id": "72a146ae",
   "metadata": {},
   "outputs": [],
   "source": []
  },
  {
   "cell_type": "code",
   "execution_count": null,
   "id": "66f16780",
   "metadata": {},
   "outputs": [],
   "source": []
  },
  {
   "cell_type": "code",
   "execution_count": null,
   "id": "b465ebd9",
   "metadata": {},
   "outputs": [],
   "source": []
  },
  {
   "cell_type": "code",
   "execution_count": null,
   "id": "ec67a0da",
   "metadata": {},
   "outputs": [],
   "source": []
  },
  {
   "cell_type": "code",
   "execution_count": null,
   "id": "a74ef9df",
   "metadata": {},
   "outputs": [],
   "source": []
  },
  {
   "cell_type": "code",
   "execution_count": null,
   "id": "805350f3",
   "metadata": {},
   "outputs": [],
   "source": []
  },
  {
   "cell_type": "code",
   "execution_count": null,
   "id": "8dbf3549",
   "metadata": {},
   "outputs": [],
   "source": []
  },
  {
   "cell_type": "code",
   "execution_count": null,
   "id": "db097715",
   "metadata": {},
   "outputs": [],
   "source": []
  },
  {
   "cell_type": "code",
   "execution_count": null,
   "id": "d80b4f1d",
   "metadata": {},
   "outputs": [],
   "source": []
  },
  {
   "cell_type": "code",
   "execution_count": null,
   "id": "b275f86a",
   "metadata": {},
   "outputs": [],
   "source": []
  },
  {
   "cell_type": "code",
   "execution_count": null,
   "id": "08499196",
   "metadata": {},
   "outputs": [],
   "source": []
  },
  {
   "cell_type": "code",
   "execution_count": null,
   "id": "553a1ff1",
   "metadata": {},
   "outputs": [],
   "source": []
  },
  {
   "cell_type": "code",
   "execution_count": null,
   "id": "ac14294c",
   "metadata": {},
   "outputs": [],
   "source": []
  },
  {
   "cell_type": "code",
   "execution_count": null,
   "id": "88a49a32",
   "metadata": {},
   "outputs": [],
   "source": []
  },
  {
   "cell_type": "code",
   "execution_count": null,
   "id": "5ccd56fd",
   "metadata": {},
   "outputs": [],
   "source": []
  },
  {
   "cell_type": "code",
   "execution_count": null,
   "id": "36d086eb",
   "metadata": {},
   "outputs": [],
   "source": []
  },
  {
   "cell_type": "code",
   "execution_count": null,
   "id": "3d637d53",
   "metadata": {},
   "outputs": [],
   "source": []
  },
  {
   "cell_type": "code",
   "execution_count": null,
   "id": "d9f9e699",
   "metadata": {},
   "outputs": [],
   "source": []
  },
  {
   "cell_type": "code",
   "execution_count": null,
   "id": "a3621fb8",
   "metadata": {},
   "outputs": [],
   "source": []
  },
  {
   "cell_type": "code",
   "execution_count": null,
   "id": "a2acdfd3",
   "metadata": {},
   "outputs": [],
   "source": []
  },
  {
   "cell_type": "code",
   "execution_count": null,
   "id": "459ba850",
   "metadata": {},
   "outputs": [],
   "source": []
  },
  {
   "cell_type": "code",
   "execution_count": null,
   "id": "c6afdd78",
   "metadata": {},
   "outputs": [],
   "source": []
  },
  {
   "cell_type": "code",
   "execution_count": null,
   "id": "797fbb35",
   "metadata": {},
   "outputs": [],
   "source": []
  },
  {
   "cell_type": "code",
   "execution_count": null,
   "id": "23f6d4c5",
   "metadata": {},
   "outputs": [],
   "source": []
  },
  {
   "cell_type": "code",
   "execution_count": null,
   "id": "dc20f9d1",
   "metadata": {},
   "outputs": [],
   "source": []
  },
  {
   "cell_type": "code",
   "execution_count": null,
   "id": "019c38f4",
   "metadata": {},
   "outputs": [],
   "source": []
  },
  {
   "cell_type": "code",
   "execution_count": null,
   "id": "a40e603f",
   "metadata": {},
   "outputs": [],
   "source": []
  },
  {
   "cell_type": "code",
   "execution_count": null,
   "id": "e28e2201",
   "metadata": {},
   "outputs": [],
   "source": []
  },
  {
   "cell_type": "code",
   "execution_count": null,
   "id": "72339462",
   "metadata": {},
   "outputs": [],
   "source": []
  },
  {
   "cell_type": "code",
   "execution_count": null,
   "id": "83d8cbf9",
   "metadata": {},
   "outputs": [],
   "source": []
  },
  {
   "cell_type": "code",
   "execution_count": null,
   "id": "1f6d3b71",
   "metadata": {},
   "outputs": [],
   "source": []
  },
  {
   "cell_type": "code",
   "execution_count": null,
   "id": "a852c8a7",
   "metadata": {},
   "outputs": [],
   "source": []
  },
  {
   "cell_type": "code",
   "execution_count": null,
   "id": "e39f7f03",
   "metadata": {},
   "outputs": [],
   "source": []
  },
  {
   "cell_type": "code",
   "execution_count": null,
   "id": "25c3bb15",
   "metadata": {},
   "outputs": [],
   "source": []
  },
  {
   "cell_type": "code",
   "execution_count": null,
   "id": "bbc20766",
   "metadata": {},
   "outputs": [],
   "source": []
  },
  {
   "cell_type": "code",
   "execution_count": null,
   "id": "00b71d4c",
   "metadata": {},
   "outputs": [],
   "source": []
  },
  {
   "cell_type": "code",
   "execution_count": null,
   "id": "e82dc46d",
   "metadata": {},
   "outputs": [],
   "source": []
  },
  {
   "cell_type": "code",
   "execution_count": null,
   "id": "2f65f118",
   "metadata": {},
   "outputs": [],
   "source": []
  },
  {
   "cell_type": "code",
   "execution_count": null,
   "id": "9e2f4d57",
   "metadata": {},
   "outputs": [],
   "source": []
  },
  {
   "cell_type": "code",
   "execution_count": null,
   "id": "9bc48f41",
   "metadata": {},
   "outputs": [],
   "source": []
  },
  {
   "cell_type": "code",
   "execution_count": null,
   "id": "4596331a",
   "metadata": {},
   "outputs": [],
   "source": []
  },
  {
   "cell_type": "code",
   "execution_count": null,
   "id": "47b82f74",
   "metadata": {},
   "outputs": [],
   "source": []
  },
  {
   "cell_type": "code",
   "execution_count": null,
   "id": "ab0e9dc9",
   "metadata": {},
   "outputs": [],
   "source": []
  },
  {
   "cell_type": "code",
   "execution_count": null,
   "id": "6ee5c5b7",
   "metadata": {},
   "outputs": [],
   "source": []
  },
  {
   "cell_type": "code",
   "execution_count": null,
   "id": "5cf32a41",
   "metadata": {},
   "outputs": [],
   "source": []
  },
  {
   "cell_type": "code",
   "execution_count": null,
   "id": "8ab9b42b",
   "metadata": {},
   "outputs": [],
   "source": []
  },
  {
   "cell_type": "code",
   "execution_count": null,
   "id": "35b78efa",
   "metadata": {},
   "outputs": [],
   "source": []
  },
  {
   "cell_type": "code",
   "execution_count": null,
   "id": "8a732a71",
   "metadata": {},
   "outputs": [],
   "source": []
  },
  {
   "cell_type": "code",
   "execution_count": null,
   "id": "5da00249",
   "metadata": {},
   "outputs": [],
   "source": []
  },
  {
   "cell_type": "markdown",
   "id": "animated-governor",
   "metadata": {},
   "source": [
    "### Libraries"
   ]
  },
  {
   "cell_type": "code",
   "execution_count": 339,
   "id": "requested-refrigerator",
   "metadata": {},
   "outputs": [
    {
     "data": {
      "text/html": [
       "<style>.container { width:100% !important; }</style>"
      ],
      "text/plain": [
       "<IPython.core.display.HTML object>"
      ]
     },
     "metadata": {},
     "output_type": "display_data"
    }
   ],
   "source": [
    "# # %reset\n",
    "# # import utility_madhur\n",
    "\n",
    "# # !pip install pandas-datareader\n",
    "# # ! pip install missingno\n",
    "# # ! pip install fuzzywuzzy\n",
    "\n",
    "# # &nbsp; &thinsp; &ensp; &emsp;\n",
    "\n",
    "# #  import warnings; warnings.filterwarnings( action= 'ignore' )\n",
    "\n",
    "# # # to check whether a string is a python keyword\n",
    "# # import keyword\n",
    "# # keyword.iskeyword('str')\n",
    "\n",
    "# location = 'datasets/'\n",
    "\n",
    "\n",
    "# import os, random, time, fsspec, gunzip, datetime, requests\n",
    "# import pandas as pd, pandas_datareader as pd_dr, re\n",
    "# import numpy as np,  seaborn as sns\n",
    "# from numpy import savetxt\n",
    "# from numpy import genfromtxt\n",
    "# import sklearn\n",
    "# from sklearn import *\n",
    "# import missingno as msno\n",
    "# import h5py, pickle\n",
    "# import pyspark\n",
    "\n",
    "# import scipy, scipy.stats as stats, random, math\n",
    "# from math import sqrt\n",
    "\n",
    "\n",
    "# # import fuzzywuzzy\n",
    "# # from fuzzywuzzy import fuzz, process\n",
    "\n",
    "# import matplotlib.pyplot as plt\n",
    "# from matplotlib import *\n",
    "# # plt.style.use('Solarize_Light2')\n",
    "# plt.style.use('dark_background')\n",
    "\n",
    "\n",
    "# %matplotlib inline\n",
    "\n",
    "# np.random.seed(1) # set a seed so that the results are consistent\n",
    "\n",
    "# ## Set Jupyter notebook display options for pandas\n",
    "\n",
    "\n",
    "# pd.set_option('display.max_columns', None)\n",
    "# # pd.options.display.max_columns = 8\n",
    "# # pd.set_option('display.max_rows', None)\n",
    "# pd.options.display.max_rows = 6\n",
    "\n",
    "\n",
    "\n",
    "# # <h3><p style= 'text-align:center;'>Img title</p></h3>\n",
    "# # <img src= 'images/split-apply-combine.png' style= 'width:917px;height:437px;'>\n",
    "\n",
    "# # m, wd, ht = 2, 990, 576; ( wd/m, ht/m  )"
   ]
  },
  {
   "cell_type": "code",
   "execution_count": 6,
   "id": "closing-setting",
   "metadata": {},
   "outputs": [],
   "source": [
    "import re, json\n",
    "\n",
    "def clean_text(str_var):    \n",
    "\n",
    "    '''\n",
    "    clean the text, useful for column header\n",
    "    Arguments:\n",
    "    str_var -- a string variable of any size\n",
    "\n",
    "    Return:\n",
    "    str_modf -- a cleaned string variable\n",
    "    \n",
    "    '''\n",
    "    \n",
    "    # lower case and revome begin & end space\n",
    "    str_modf = str_var.lower().strip()\n",
    "    \n",
    "    # replace all non word chars ( everything except letters and nos )\n",
    "    str_modf = re.sub( pattern= r'[^\\w\\s]', repl= '_', string= str_modf )\n",
    "    \n",
    "    # replace all runs of whitespace with '_'\n",
    "    str_modf = re.sub( pattern= r'\\s+', repl= '_', string= str_modf )\n",
    "    \n",
    "    # repalce > 1 consecutive '_'\n",
    "    str_modf = re.sub( pattern= r'[__]+', repl= '_', string= str_modf )\n",
    "    \n",
    "    # remove begining and trailing _ : '__any_word____' --> 'any_word'\n",
    "    def _remove_begin_end_(str_var):\n",
    "        while True:\n",
    "            if str_var[-1] == '_':\n",
    "                str_var = str_modf[:len(str_modf)-1]\n",
    "            else:                \n",
    "                break                \n",
    "        while True:\n",
    "            if str_var[0] == '_':                            \n",
    "                str_var = str_modf[1:len(str_modf)]\n",
    "            else:                \n",
    "                break\n",
    "                \n",
    "        return(str_var)\n",
    "    \n",
    "    str_modf = _remove_begin_end_(str_modf)\n",
    "        \n",
    "    \n",
    "    return(str_modf)    \n",
    "\n",
    "clean_colm_name = lambda df: [ clean_text(e_cNm) for e_cNm in df.columns ]\n",
    "\n",
    "\n",
    "from IPython.display import display_html\n",
    "\n",
    "def display_side_by_side(*args):\n",
    "    '''\n",
    "    func to display pandas dfs side by side\n",
    "    input: dfs\n",
    "    '''\n",
    "    html_str = ''\n",
    "    for df in args:\n",
    "        html_str += df.to_html( )\n",
    "        html_str += pd.DataFrame( [' ']*len(df), columns= [' '] ).to_html( index= False )  \n",
    "        html_str += pd.DataFrame( [' ']*len(df), columns= [' '] ).to_html( index= False )   \n",
    "        html_str += pd.DataFrame( [' ']*len(df), columns= [' '] ).to_html( index= False )        \n",
    "    display_html(  html_str.replace( \"table\", \"table style= 'display:inline'\" ),\n",
    "                   raw=True  )\n",
    "    \n",
    "def display_side_by_side_head(*args):\n",
    "    '''\n",
    "    func to display pandas dfs side by side\n",
    "    input: dfs\n",
    "    '''\n",
    "    html_str = ''\n",
    "    for df in args:\n",
    "        html_str += df.head(5).to_html( )\n",
    "        html_str += pd.DataFrame( [' ']*5, columns= [' '] ).to_html( index= False ) \n",
    "        html_str += pd.DataFrame( [' ']*5, columns= [' '] ).to_html( index= False )    \n",
    "        html_str += pd.DataFrame( [' ']*5, columns= [' '] ).to_html( index= False )        \n",
    "    display_html(  html_str.replace( \"table\", \"table style= 'display:inline'\" ),\n",
    "                   raw=True  )\n",
    "    \n",
    "def print_tidy_JSON( json_data, indent_val = 6 ):\n",
    "    print(  json.dumps( obj= json_data, indent= indent_val, sort_keys= True )  )"
   ]
  }
 ],
 "metadata": {
  "kernelspec": {
   "display_name": "Python 3 (ipykernel)",
   "language": "python",
   "name": "python3"
  },
  "language_info": {
   "codemirror_mode": {
    "name": "ipython",
    "version": 3
   },
   "file_extension": ".py",
   "mimetype": "text/x-python",
   "name": "python",
   "nbconvert_exporter": "python",
   "pygments_lexer": "ipython3",
   "version": "3.9.16"
  },
  "vscode": {
   "interpreter": {
    "hash": "5e14af7dd7d8ec0a77ca28831cc65f26c24b5487657478867e90bc465a0a0704"
   }
  }
 },
 "nbformat": 4,
 "nbformat_minor": 5
}
